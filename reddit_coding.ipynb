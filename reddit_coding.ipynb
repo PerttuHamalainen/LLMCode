{
 "cells": [
  {
   "cell_type": "markdown",
   "metadata": {
    "id": "wD2pAABiWMjD"
   },
   "source": [
    "# Inductive coding of Reddit data\n",
    "*This notebook is part of the [LLMCode library](https://github.com/PerttuHamalainen/LLMCode).*\n",
    "\n",
    "*A note on data privacy: The user experience of this notebook is better on Google Colab, but if you are processing data that cannot be sent to Google and OpenAI servers, you should run this notebook locally using the \"Aalto\" LLM API.*\n",
    "\n",
    "**Learning goals**\n",
    "\n",
    "In this notebook, you'll learn to utilize LLMs to code qualitative data inductively, as well as how to evaluate the human-likeness of the output.\n",
    "\n",
    "**How to use this Colab notebook?**\n",
    "* Select the LLM API as well as the GPT and embedding models to use below. The default values are recommended, but some of the examples may produce better quality results using the more expensive \"gpt-4o\" model. For details about the models, see [OpenAI documentation](https://platform.openai.com/docs/models).\n",
    "* Select \"Run all\" from the Runtime menu above.\n",
    "* Enter your API key below when prompted. This will be provided to you at the workshop. You can also create your own OpenAI account at https://platform.openai.com/signup. The initial free quota you get with the account should be enough for the exercises of this notebook. To create an API key, follow [OpenAI's instructions](https://help.openai.com/en/articles/4936850-where-do-i-find-my-openai-api-key)\n",
    "* Proceed top-down following the instructions\n",
    "\n",
    "**New to Colab notebooks?**\n",
    "\n",
    "Colab notebooks are browser-based learning environments consisting of *cells* that include either text or code. The code is executed in a Google virtual machine instead of your own computer. You can run code cell-by-cell (click the \"play\" symbol of each code cell), and selecting \"Run all\" as instructed above is usually the first step to verify that everything works. For more info, see Google's [Intro video](https://www.youtube.com/watch?v=inN8seMm7UI) and [curated example notebooks](https://colab.google/notebooks/).\n"
   ]
  },
  {
   "cell_type": "code",
   "execution_count": 1,
   "metadata": {
    "cellView": "form",
    "id": "QwnAjEXbeCnn"
   },
   "outputs": [
    {
     "name": "stdout",
     "output_type": "stream",
     "text": [
      "Please input an OpenAI API key\n"
     ]
    },
    {
     "name": "stdin",
     "output_type": "stream",
     "text": [
      " ········\n"
     ]
    }
   ],
   "source": [
    "#Initial setup code. If you opened this notebook in Colab, this code is hidden\n",
    "#by default to avoid unnecessary user interface clutter\n",
    "\n",
    "#-------------------------------------------------------\n",
    "#User-defined parameters. You can freely edit the values\n",
    "llm_API=\"OpenAI\" # @param [\"OpenAI\", \"Aalto\"]\n",
    "gpt_model=\"gpt-4o-mini\" #@param [\"gpt-4o-mini\",\"gpt-4o\"]\n",
    "embedding_model = \"text-embedding-3-small\" #@param [\"text-embedding-ada-002\",\"text-embedding-3-small\", \"text-embedding-3-large\"]\n",
    "\n",
    "#-------------------------------------------------------------------\n",
    "#Implementation. Only edit this part if you know what your are doing\n",
    "\n",
    "#Import packages\n",
    "import pandas as pd\n",
    "import numpy as np\n",
    "from IPython.display import HTML, Markdown, display, clear_output\n",
    "import getpass\n",
    "import os\n",
    "import html\n",
    "import lxml\n",
    "import re\n",
    "import plotly.graph_objects as go\n",
    "import plotly.express as px\n",
    "import textwrap\n",
    "import random\n",
    "import math\n",
    "from collections import Counter, defaultdict\n",
    "\n",
    "original_dir = os.getcwd()\n",
    "\n",
    "#determine if we are running in Colab\n",
    "import sys\n",
    "RunningInCOLAB = 'google.colab' in sys.modules\n",
    "if RunningInCOLAB:\n",
    "  from google.colab import files\n",
    "  import plotly.io as pio\n",
    "  pio.renderers.default = \"colab\"\n",
    "  if not os.path.exists(\"LLMCode\"):\n",
    "    if not os.getcwd().endswith(\"LLMCode\"):\n",
    "      print(\"Cloning the LLMCode repository...\")\n",
    "      #until the repo is public, we download this working copy instead of cloning\n",
    "      #(shared as: anyone with the link can view)\n",
    "      #!wget \"https://drive.google.com/uc?export=download&id=1ylMQn96JuKBB-YU9mHLyEhtm6Qin1Kgh\" -O LLMCode.zip\n",
    "      #!mkdir LLMCode\n",
    "      #!unzip -q LLMCode.zip -d LLMCode\n",
    "      !git clone https://github.com/PerttuHamalainen/LLMCode.git\n",
    "  if not os.getcwd().endswith(\"LLMCode\"):\n",
    "    os.chdir(\"LLMCode\")\n",
    "    print(\"Installing dependencies...\")\n",
    "    !pip install -r requirements_notebooks.txt\n",
    "import llmcode\n",
    "\n",
    "os.chdir(original_dir)\n",
    "\n",
    "#Jupyter is already running an asyncio event loop => need this hack for async OpenAI API calling\n",
    "import nest_asyncio\n",
    "nest_asyncio.apply()\n",
    "\n",
    "#Prompt the user for an API key if not provided via a system variable\n",
    "clear_output()\n",
    "if llm_API==\"OpenAI\":\n",
    "    if os.environ.get(\"OPENAI_API_KEY\") is None:\n",
    "        print(\"Please input an OpenAI API key\")\n",
    "        api_key = getpass.getpass()\n",
    "        os.environ[\"OPENAI_API_KEY\"] = api_key\n",
    "elif llm_API==\"Aalto\":\n",
    "    if os.environ.get(\"AALTO_OPENAI_API_KEY\") is None:\n",
    "        print(\"Please input an Aalto OpenAI API key\")\n",
    "        api_key = getpass.getpass()\n",
    "        os.environ[\"AALTO_OPENAI_API_KEY\"] = api_key\n",
    "else:\n",
    "    print(f\"Invalid API type: {llm_API}\")\n",
    "\n",
    "#Initialize the LLMCode library\n",
    "llmcode.init(API=llm_API)\n",
    "llmcode.set_cache_directory(\"data_exploration_cache\")"
   ]
  },
  {
   "cell_type": "markdown",
   "metadata": {
    "id": "8bLvtCkDn2ST"
   },
   "source": [
    "# Qualitative coding\n",
    "\n",
    "Qualitative coding involves the analysis of texts through highlighting relevant parts of the text and assigning each highlight a code or a set of codes that communicate its relevance to the research. For example, using an excerpt from the [Games As Art](https://osf.io/ryvt6/) research project as an example, a coded text may look like the following:\n",
    "\n",
    "> When you take in consideration **the music, the graphic design, the writing, and of course the gameplay**<sup>audio; visuals; narrative</sup>. Its in games like this when you are aware of be **playing an artwork, rather than just another game**<sup>comparison to conventional art forms</sup>.\n",
    "\n",
    "In this example, the text has been annotated with two highlights that have been assigned the codes _audio_, _visuals_, _narrative_ (for the first highlight), and _comparison to conventional art forms_ (for the second highlight).\n",
    "\n",
    "In this notebook, we accept files that have been coded using Microsoft Word. Make sure that the file is formatted according to the following requirements:\n",
    "* Individual texts are separated by five dashes \"-----\"\n",
    "* The texts are coded using [Word comments](https://support.microsoft.com/en-us/office/using-modern-comments-8d3f868a-867e-4df2-8c68-bf96671641e2) by highlighting the relevant part and typing the code(s) in the comment field. Multiple codes are separated by a semicolon \";\".\n",
    "\n",
    "While LLMCode contains functions that can automate much of the coding process, it requires at least a few human-coded examples (called _few-shot_ examples) to get started. Additionally, in this notebook, the LLM-generated codes are evaluated using human-generated codes as a baseline. Therefore, we request that you use the provided [manual coding tool](https://perttuhamalainen.github.io/LLMCode/) to code **at least 50 texts** before proceeding with this notebook. Please prepare two Excel files: one for the human-coded texts and one for any additional uncoded texts you would like to code using the LLMCode methods.\n",
    "\n",
    "You may be curious about the code annotations in the coded Excel file you get as output from the manual coding tool. Because LLMs deal with unstructured text, we instruct it with code annotations in the [Markdown](https://en.wikipedia.org/wiki/Markdown) format. The example given above in Markdown, printed as a plain string, looks like the following:\n",
    "\n",
    "> ```When you take in consideration **the music, the graphic design, the writing, and of course the gameplay**<sup>audio; visuals; narrative</sup>. Its in games like this when you are aware of be **playing an artwork, rather than just another game**<sup>comparison to conventional art forms</sup>.```"
   ]
  },
  {
   "cell_type": "markdown",
   "metadata": {
    "id": "HHmgvV_aEPlF",
    "jp-MarkdownHeadingCollapsed": true
   },
   "source": [
    "# Preliminaries\n",
    "First, let's take a quick look at some demonstrations on how to prompt an LLM with Python code."
   ]
  },
  {
   "cell_type": "markdown",
   "metadata": {},
   "source": [
    "## Prompting an LLM using Python\n",
    "Prompting an LLM is straighforward, as shown below. Note that **the lines starting with \"#\" are not code**, but *comments* that describe what the code below them is doing.\n",
    "\n",
    "If you want to learn more about Python basics such as variables and functions, check out this [YouTube playlist](https://www.youtube.com/playlist?list=PLUaB-1hjhk8GHKfndKjyDMHPg_HlQ4vpK)."
   ]
  },
  {
   "cell_type": "code",
   "execution_count": 4,
   "metadata": {},
   "outputs": [
    {
     "name": "stdout",
     "output_type": "stream",
     "text": [
      "LLM response:\n",
      "Hello! How can I assist you today?\n"
     ]
    }
   ],
   "source": [
    "# Define the prompt and store it in a variable (a container for some data)\n",
    "# called \"my_prompt\".\n",
    "my_prompt=\"Hi!\"\n",
    "\n",
    "# Call the query_LLM() function from the LLMCode library.\n",
    "# Functions are pieces of Python code that perform some functionality.\n",
    "# Here, the query_LLM() function takes in the \"prompts\" and \"model\" parameters and\n",
    "# and sends the prompts to the LLM. The \"gpt_model\" is the model you defined above.\n",
    "# The LLM response is is stored in the \"response\" variable\"\n",
    "response = llmcode.query_LLM(prompts=my_prompt,\n",
    "                             model=gpt_model)\n",
    "\n",
    "# Print out the response.\n",
    "print(\"LLM response:\")\n",
    "print(response)"
   ]
  },
  {
   "cell_type": "markdown",
   "metadata": {
    "id": "jGXUWIs51kpV"
   },
   "source": [
    "## Simple coding example\n",
    "\n",
    "We start exploring LLM code generation with a simple, prompt-only example, asking the model to code a single text. The prompt utilizes _few-shot learning_ as it includes some examples that \"teach\" the model how we want it to code the text. Feel free to edit the `text_to_code` or the `prompt` instructions and re-run the cell to see what effect this has on the output."
   ]
  },
  {
   "cell_type": "code",
   "execution_count": 5,
   "metadata": {
    "cellView": "form",
    "id": "zuqgAl3GEPlG"
   },
   "outputs": [
    {
     "data": {
      "text/markdown": [
       "I was playing the Legend of Zelda: Breath of the Wild in a **sad day**<sup>emotional state</sup>. A **sunset on a perfect landscape between two biomes almost made me cry**<sup>emotional response; aesthetic appreciation</sup>. It was **PERFECT**<sup>strong positive evaluation</sup>."
      ],
      "text/plain": [
       "<IPython.core.display.Markdown object>"
      ]
     },
     "metadata": {},
     "output_type": "display_data"
    }
   ],
   "source": [
    "# The text that we will ask the LLM to code\n",
    "text_to_code = \"I was playing the Legend of Zelda: Breath of the Wild in a sad day. A sunset on a perfect landscape between two biomes almost made me cry. It was PERFECT.\" # @param {type:\"string\"}\n",
    "\n",
    "# The prompt giving instructions on how to do the coding\n",
    "prompt = \"\"\"You are an expert qualitative researcher conducting a research project.\n",
    "You are given a text to code inductively. Please carry out the following task:\n",
    "- Respond by repeating the original text, but highlighting the coded statements by surrounding the statements with double asterisks, as if they were bolded text in a Markdown document.\n",
    "- Include the associated code(s) immediately after the statement, separated by a semicolon and enclosed in <sup></sup> tags, as if they were superscript text in a Markdown document.\n",
    "- Preserve exact formatting of the original text. Do not correct typos or remove unnecessary spaces.\n",
    "\n",
    "Below, I first give you examples of the output you should produce given an example input. After that, I give you the actual input to process.\n",
    "\n",
    "EXAMPLE INPUT:\n",
    "When you take in consideration the music, the graphic design, the writing, and of course the gameplay. Its in games like this when you are aware of be playing an artwork, rather than just another game.\n",
    "\n",
    "EXAMPLE OUTPUT:\n",
    "When you take in consideration **the music, the graphic design, the writing, and of course the gameplay**<sup>audio; visuals; narrative</sup>. Its in games like this when you are aware of be **playing an artwork, rather than just another game**<sup>comparison to conventional art forms</sup>.\n",
    "\n",
    "EXAMPLE INPUT:\n",
    "The protagonist has no fighting skills. The environment (empty space) is naturally hostile and makes the player feel isolated an alone. The style of the space ship feels inhabited and dead at the same time (like a carcass). The body horror is immensly unsettling and detailed.\n",
    "\n",
    "EXAMPLE OUTPUT:\n",
    "The protagonist has no fighting skills. The environment (empty space) is naturally hostile and **makes the player feel isolated an alone**<sup>emotional response</sup>. The style of the space ship feels inhabited and dead at the same time (like a carcass).\n",
    "\n",
    "\"\"\"\n",
    "\n",
    "# Add the text we want to process into the prompt\n",
    "prompt += f\"ACTUAL INPUT:\\n{text_to_code}\"\n",
    "\n",
    "# Call the query_LLM() function with the prompt\n",
    "response = llmcode.query_LLM(prompt, model=gpt_model)\n",
    "\n",
    "# Parse and display the response, which should be formatted correctly in Markdown format as we've instructed in the prompt\n",
    "parsed_response = Markdown(response)\n",
    "display(parsed_response)"
   ]
  },
  {
   "cell_type": "markdown",
   "metadata": {
    "id": "Qo9uuka0EPlC"
   },
   "source": [
    "# Loading your data"
   ]
  },
  {
   "cell_type": "markdown",
   "metadata": {
    "id": "J82_9Dzz1fdw"
   },
   "source": [
    "Below, please define the research question for your project as well as the data you would like to analyze. To load your data in Colab, upload your .xlsx (Excel) files using the file browser on the left and input the file names to the corresponding fields.\n",
    "\n",
    "* `coded_file`: A coded file you exported from the coding tool, containing only texts you have annotated. This may include texts that contain no highlights or codes, i.e. texts that you inspected and deemed to not include anything relevant. If you didn't have time to get to the end of all of the texts that you uploaded to the coding tool, please ensure to **remove any texts that you did not read from this file**. You can add these rows to the start of `uncoded_file`.\n",
    "* `uncoded_file`: Contains texts that you scraped but have not coded manually, that are to be coded by LLMCode. The columns 'score' and 'url' are not required for this notebook, and may be removed if you are appending any uncoded rows from the coding tool output."
   ]
  },
  {
   "cell_type": "code",
   "execution_count": 2,
   "metadata": {
    "cellView": "form",
    "id": "5YmameiFEPlC"
   },
   "outputs": [
    {
     "name": "stdout",
     "output_type": "stream",
     "text": [
      "Loaded 51 coded texts and 1102 uncoded texts\n"
     ]
    }
   ],
   "source": [
    "#-------------------------------------------------------\n",
    "#User-defined parameters. You can freely edit the values\n",
    "research_question = \"What kind of memorable experiences do gamers have?\" # @param {type:\"string\"}\n",
    "coded_file = \"coded_texts-3.xlsx\" # @param {type:\"string\"}\n",
    "uncoded_file = \"unannotated.xlsx\" # @param {type:\"string\"}\n",
    "\n",
    "#-------------------------------------------------------------------\n",
    "#Implementation. Only edit this part if you know what your are doing\n",
    "\n",
    "df_coded = pd.read_excel(coded_file)\n",
    "df_uncoded = pd.read_excel(uncoded_file)\n",
    "\n",
    "# Set id as index\n",
    "df_coded.set_index(\"id\", inplace=True)\n",
    "df_uncoded.set_index(\"id\", inplace=True)\n",
    "\n",
    "# Check uniqueness of id within and across each DataFrame\n",
    "df_all = pd.concat([df_coded, df_uncoded])\n",
    "if not df_all.index.is_unique:\n",
    "    raise ValueError(\"The data contains rows with duplicate ids. Please ensure all 'id' values are unique within and across the two files.\")\n",
    "\n",
    "def create_ancestor_dict(df_all):\n",
    "    # Create a dictionary mapping each index (id) to its immediate `parent_id`\n",
    "    parent_dict = df_all[\"parent_id\"].to_dict()\n",
    "    \n",
    "    # Initialize an empty dictionary to store all ancestors for each `id`\n",
    "    ancestor_dict = {}\n",
    "    \n",
    "    # Helper function to find all ancestors of a given `id` in top-down order\n",
    "    def find_ancestors(id, parent_dict):\n",
    "        ancestors = []\n",
    "        parent = parent_dict.get(id)\n",
    "        while not pd.isna(parent):\n",
    "            ancestors.append(parent)\n",
    "            parent = parent_dict.get(parent)\n",
    "        # Reverse the list to get top-down order\n",
    "        return ancestors[::-1]\n",
    "\n",
    "    # Build the ancestor dictionary with a list of ancestors in top-down order\n",
    "    for id in parent_dict:\n",
    "        ancestor_dict[id] = find_ancestors(id, parent_dict)\n",
    "\n",
    "    return ancestor_dict\n",
    "\n",
    "ancestor_dict = create_ancestor_dict(df_all)\n",
    "\n",
    "# Remove leading and trailing whitespace in dataset to simplify analysis\n",
    "df_coded['text'] = df_coded['text'].str.strip()\n",
    "df_coded['coded_text'] = df_coded['coded_text'].str.strip()\n",
    "df_uncoded['text'] = df_uncoded['text'].str.strip()\n",
    "\n",
    "# Define embedding context based on the research question\n",
    "embedding_context = f\", in the context of the research question: {research_question}\"\n",
    "\n",
    "print(f\"Loaded {len(df_coded)} coded texts and {len(df_uncoded)} uncoded texts\")"
   ]
  },
  {
   "cell_type": "markdown",
   "metadata": {
    "id": "f2GHwbn6EPlG"
   },
   "source": [
    "# Trustworthy coding with LLMCode"
   ]
  },
  {
   "cell_type": "markdown",
   "metadata": {
    "id": "Gyh0TfF31q-J"
   },
   "source": [
    "If you want to use LLMs to code multiple texts, it is best to use the coding functions in the LLMCode package, for a few reasons:\n",
    "* LLMCode can automatically and dynamically construct a prompt for each text, and takes care of details such as randomizing the order of the few-shot examples to avoid recency bias.\n",
    "* LLMCode automatically parses the Markdown output from the model and is able to detect `hallucinations`. Hallucinations refer to cases where the model incorrectly outputs a modified version of the input text, although keeping the research data intact is extremely important. This often happens for example when the input data contains spelling errors. In most cases, LLMCode is able to automatically correct such hallucinations.\n",
    "* LLMCode supports a variety of coding methods, with specialized prompts for each. In this notebook, we will focus on inductive coding.\n",
    "\n",
    "In reflexive coding, your own personal understanding of the data is important in shaping the insights you gain from analysing it. Therefore, before jumping straight into coding the entire dataset with LLMCode, it is wise to investigate just how well the system can replicate your own coding style. In this section, we will initially run the LLM coding with texts from `coded_file` that have also been human-annotated, so that we have a baseline to compare the LLM output to. While this may feel redundant, it helps us calibrate our trust in the system before we code the entire dataset."
   ]
  },
  {
   "cell_type": "markdown",
   "metadata": {
    "id": "67sW3s5r1olN"
   },
   "source": [
    "## Defining the data counts"
   ]
  },
  {
   "cell_type": "markdown",
   "metadata": {
    "id": "ndlYyJy02HMj"
   },
   "source": [
    "The LLMCode functions utilize few-shot learning, requiring a small set of human-coded examples. Next, we define the number of few-shot examples (`n_examples`) we would like to use. Once you have made your first pass through this notebook, you may try running it again with different numbers of examples and see if the model's performance increases with additional examples. Additionally, we define data counts for the so-called *validation* and *test* sets (explained later).\n",
    "\n",
    "These three non-overlapping datasets are randomly sampled from the texts in `coded_file`. Make sure that the sum of the three values is less than the number of texts in `coded_file`. Smaller data counts makes working with this tutorial faster and cheaper but produces less reliable quality metrics. We recommend testing the notebook with the default values.\n",
    "\n",
    "The randomly chosen few-shot examples are displayed for you to verify. Make sure that the examples in the `coded_text` column are representative of your coding and the dataset, and include a variety of different kinds of examples (for example, heavily coded and sparsely coded texts). If not, you may re-run this cell to generate a different selection of examples."
   ]
  },
  {
   "cell_type": "code",
   "execution_count": 10,
   "metadata": {
    "cellView": "form",
    "id": "S4YWk92XEPlH"
   },
   "outputs": [
    {
     "name": "stdout",
     "output_type": "stream",
     "text": [
      "Few-shot examples: 10\n",
      "Validation examples: 20\n",
      "Test examples: 20\n",
      "\n",
      "Few-shot examples:\n"
     ]
    },
    {
     "data": {
      "text/html": [
       "<div>\n",
       "<style scoped>\n",
       "    .dataframe tbody tr th:only-of-type {\n",
       "        vertical-align: middle;\n",
       "    }\n",
       "\n",
       "    .dataframe tbody tr th {\n",
       "        vertical-align: top;\n",
       "    }\n",
       "\n",
       "    .dataframe thead th {\n",
       "        text-align: right;\n",
       "    }\n",
       "</style>\n",
       "<table border=\"1\" class=\"dataframe\">\n",
       "  <thead>\n",
       "    <tr style=\"text-align: right;\">\n",
       "      <th></th>\n",
       "      <th>text</th>\n",
       "      <th>depth</th>\n",
       "      <th>parent_id</th>\n",
       "      <th>coded_text</th>\n",
       "    </tr>\n",
       "    <tr>\n",
       "      <th>id</th>\n",
       "      <th></th>\n",
       "      <th></th>\n",
       "      <th></th>\n",
       "      <th></th>\n",
       "    </tr>\n",
       "  </thead>\n",
       "  <tbody>\n",
       "    <tr>\n",
       "      <th>ii6jwq7</th>\n",
       "      <td>This is one of my favoirites as well. I felt I...</td>\n",
       "      <td>3</td>\n",
       "      <td>ii6197d</td>\n",
       "      <td>This is one of my favoirites as well. **I felt...</td>\n",
       "    </tr>\n",
       "    <tr>\n",
       "      <th>ii6ttkz</th>\n",
       "      <td>I lost my shit. \\n\\n\"Oh whats this little hous...</td>\n",
       "      <td>2</td>\n",
       "      <td>ii60yjj</td>\n",
       "      <td>I lost my shit. \\n\\n\"Oh whats this little hous...</td>\n",
       "    </tr>\n",
       "    <tr>\n",
       "      <th>ii73elw</th>\n",
       "      <td>Same! I came here to say this. The first time ...</td>\n",
       "      <td>2</td>\n",
       "      <td>ii60yjj</td>\n",
       "      <td>Same! I came here to say this. The first time ...</td>\n",
       "    </tr>\n",
       "    <tr>\n",
       "      <th>ii62gk8</th>\n",
       "      <td>Repeatedly getting sniped by big blue spirit p...</td>\n",
       "      <td>3</td>\n",
       "      <td>ii6197d</td>\n",
       "      <td>Repeatedly getting sniped by big blue spirit p...</td>\n",
       "    </tr>\n",
       "    <tr>\n",
       "      <th>ii6rlzy</th>\n",
       "      <td>I felt so dumb. I went to that forest, even ri...</td>\n",
       "      <td>2</td>\n",
       "      <td>ii60yjj</td>\n",
       "      <td>I felt so dumb. I went to that forest, even ri...</td>\n",
       "    </tr>\n",
       "    <tr>\n",
       "      <th>ii6uniy</th>\n",
       "      <td>Underrated comment</td>\n",
       "      <td>4</td>\n",
       "      <td>ii6jqza</td>\n",
       "      <td>Underrated comment</td>\n",
       "    </tr>\n",
       "    <tr>\n",
       "      <th>ii6pwzf</th>\n",
       "      <td>Everything is so well timed. Takes \\*just\\* lo...</td>\n",
       "      <td>2</td>\n",
       "      <td>ii60yjj</td>\n",
       "      <td>**Everything is so well timed. Takes \\*just\\* ...</td>\n",
       "    </tr>\n",
       "    <tr>\n",
       "      <th>ii6jdc0</th>\n",
       "      <td>Oh yeah, going down the Siofra River Well was ...</td>\n",
       "      <td>2</td>\n",
       "      <td>ii60yjj</td>\n",
       "      <td>Oh yeah, going down the Siofra River Well was ...</td>\n",
       "    </tr>\n",
       "    <tr>\n",
       "      <th>ii8l5j8</th>\n",
       "      <td>Fourthed. Until I went back there at a much hi...</td>\n",
       "      <td>6</td>\n",
       "      <td>ii7bq6d</td>\n",
       "      <td>Fourthed. Until I went back there at a much hi...</td>\n",
       "    </tr>\n",
       "    <tr>\n",
       "      <th>ii6qlsh</th>\n",
       "      <td>Agreed, also the map expanding slowly, every n...</td>\n",
       "      <td>2</td>\n",
       "      <td>ii60yjj</td>\n",
       "      <td>Agreed, also **the map expanding slowly, every...</td>\n",
       "    </tr>\n",
       "  </tbody>\n",
       "</table>\n",
       "</div>"
      ],
      "text/plain": [
       "                                                      text  depth parent_id  \\\n",
       "id                                                                            \n",
       "ii6jwq7  This is one of my favoirites as well. I felt I...      3   ii6197d   \n",
       "ii6ttkz  I lost my shit. \\n\\n\"Oh whats this little hous...      2   ii60yjj   \n",
       "ii73elw  Same! I came here to say this. The first time ...      2   ii60yjj   \n",
       "ii62gk8  Repeatedly getting sniped by big blue spirit p...      3   ii6197d   \n",
       "ii6rlzy  I felt so dumb. I went to that forest, even ri...      2   ii60yjj   \n",
       "ii6uniy                                 Underrated comment      4   ii6jqza   \n",
       "ii6pwzf  Everything is so well timed. Takes \\*just\\* lo...      2   ii60yjj   \n",
       "ii6jdc0  Oh yeah, going down the Siofra River Well was ...      2   ii60yjj   \n",
       "ii8l5j8  Fourthed. Until I went back there at a much hi...      6   ii7bq6d   \n",
       "ii6qlsh  Agreed, also the map expanding slowly, every n...      2   ii60yjj   \n",
       "\n",
       "                                                coded_text  \n",
       "id                                                          \n",
       "ii6jwq7  This is one of my favoirites as well. **I felt...  \n",
       "ii6ttkz  I lost my shit. \\n\\n\"Oh whats this little hous...  \n",
       "ii73elw  Same! I came here to say this. The first time ...  \n",
       "ii62gk8  Repeatedly getting sniped by big blue spirit p...  \n",
       "ii6rlzy  I felt so dumb. I went to that forest, even ri...  \n",
       "ii6uniy                                 Underrated comment  \n",
       "ii6pwzf  **Everything is so well timed. Takes \\*just\\* ...  \n",
       "ii6jdc0  Oh yeah, going down the Siofra River Well was ...  \n",
       "ii8l5j8  Fourthed. Until I went back there at a much hi...  \n",
       "ii6qlsh  Agreed, also **the map expanding slowly, every...  "
      ]
     },
     "execution_count": 10,
     "metadata": {},
     "output_type": "execute_result"
    }
   ],
   "source": [
    "#-------------------------------------------------------\n",
    "#User-defined parameters. You can freely edit the values\n",
    "\n",
    "n_examples = 10 # @param {\"type\":\"integer\"}\n",
    "n_validation = 20 # @param {\"type\":\"integer\"}\n",
    "n_test = 20 # @param {\"type\":\"integer\"}\n",
    "\n",
    "#-------------------------------------------------------------------\n",
    "#Implementation. Only edit this part if you know what your are doing\n",
    "\n",
    "n_sum = n_examples + n_validation + n_test\n",
    "if n_sum > len(df_coded):\n",
    "    raise ValueError(f\"Sum of the three inputs ({n_sum}) cannot be higher than the number of coded texts {len(df_coded)}\")\n",
    "\n",
    "# Create a shuffled copy of df_coded\n",
    "df_shuffled = df_coded.sample(frac=1)\n",
    "\n",
    "# Split the shuffled copy into df_few_shot, df_val, and df_test\n",
    "df_few_shot = df_shuffled.iloc[:n_examples]\n",
    "df_val = df_shuffled.iloc[n_examples:n_examples + n_validation]\n",
    "df_test = df_shuffled.iloc[n_examples + n_validation:n_sum]\n",
    "\n",
    "# Prepare list of codes in the few-shot examples\n",
    "few_shot_codes = set(code for coded_text in df_few_shot.coded_text for _, code in llmcode.parse_codes(coded_text))\n",
    "\n",
    "def get_ancestor_texts(id):\n",
    "    ancestors = ancestor_dict[id]\n",
    "    if ancestors:\n",
    "        return df_all.loc[ancestors].text.tolist()\n",
    "    else:\n",
    "        return []\n",
    "\n",
    "# Define ancestors for few-shot examples\n",
    "few_shot_ancestors = [get_ancestor_texts(id) for id in df_few_shot.index]\n",
    "\n",
    "print(f\"Few-shot examples: {len(df_few_shot)}\")\n",
    "print(f\"Validation examples: {len(df_val)}\")\n",
    "print(f\"Test examples: {len(df_test)}\")\n",
    "print('')\n",
    "print(\"Few-shot examples:\")\n",
    "df_few_shot"
   ]
  },
  {
   "cell_type": "markdown",
   "metadata": {},
   "source": [
    "Let's print out all the human-annotated codes in the input (validation) dataset and the number of times they appear in the texts:"
   ]
  },
  {
   "cell_type": "code",
   "execution_count": 16,
   "metadata": {},
   "outputs": [
    {
     "data": {
      "application/vnd.plotly.v1+json": {
       "config": {
        "plotlyServerURL": "https://plot.ly"
       },
       "data": [
        {
         "alignmentgroup": "True",
         "hovertemplate": "Code=%{x}<br>Count=%{y}<extra></extra>",
         "legendgroup": "",
         "marker": {
          "color": "#636efa",
          "pattern": {
           "shape": ""
          }
         },
         "name": "",
         "offsetgroup": "",
         "orientation": "v",
         "showlegend": false,
         "textposition": "auto",
         "type": "bar",
         "x": [
          "awe",
          "surprise",
          "scale",
          "beauty",
          "shock",
          "realization",
          "uncertainty",
          "violence",
          "dialogue",
          "shared experience",
          "anticipation",
          "world"
         ],
         "xaxis": "x",
         "y": [
          5,
          4,
          2,
          2,
          2,
          1,
          1,
          1,
          1,
          1,
          1,
          1
         ],
         "yaxis": "y"
        }
       ],
       "layout": {
        "autosize": true,
        "barmode": "relative",
        "legend": {
         "tracegroupgap": 0
        },
        "template": {
         "data": {
          "bar": [
           {
            "error_x": {
             "color": "#2a3f5f"
            },
            "error_y": {
             "color": "#2a3f5f"
            },
            "marker": {
             "line": {
              "color": "#E5ECF6",
              "width": 0.5
             },
             "pattern": {
              "fillmode": "overlay",
              "size": 10,
              "solidity": 0.2
             }
            },
            "type": "bar"
           }
          ],
          "barpolar": [
           {
            "marker": {
             "line": {
              "color": "#E5ECF6",
              "width": 0.5
             },
             "pattern": {
              "fillmode": "overlay",
              "size": 10,
              "solidity": 0.2
             }
            },
            "type": "barpolar"
           }
          ],
          "carpet": [
           {
            "aaxis": {
             "endlinecolor": "#2a3f5f",
             "gridcolor": "white",
             "linecolor": "white",
             "minorgridcolor": "white",
             "startlinecolor": "#2a3f5f"
            },
            "baxis": {
             "endlinecolor": "#2a3f5f",
             "gridcolor": "white",
             "linecolor": "white",
             "minorgridcolor": "white",
             "startlinecolor": "#2a3f5f"
            },
            "type": "carpet"
           }
          ],
          "choropleth": [
           {
            "colorbar": {
             "outlinewidth": 0,
             "ticks": ""
            },
            "type": "choropleth"
           }
          ],
          "contour": [
           {
            "colorbar": {
             "outlinewidth": 0,
             "ticks": ""
            },
            "colorscale": [
             [
              0,
              "#0d0887"
             ],
             [
              0.1111111111111111,
              "#46039f"
             ],
             [
              0.2222222222222222,
              "#7201a8"
             ],
             [
              0.3333333333333333,
              "#9c179e"
             ],
             [
              0.4444444444444444,
              "#bd3786"
             ],
             [
              0.5555555555555556,
              "#d8576b"
             ],
             [
              0.6666666666666666,
              "#ed7953"
             ],
             [
              0.7777777777777778,
              "#fb9f3a"
             ],
             [
              0.8888888888888888,
              "#fdca26"
             ],
             [
              1,
              "#f0f921"
             ]
            ],
            "type": "contour"
           }
          ],
          "contourcarpet": [
           {
            "colorbar": {
             "outlinewidth": 0,
             "ticks": ""
            },
            "type": "contourcarpet"
           }
          ],
          "heatmap": [
           {
            "colorbar": {
             "outlinewidth": 0,
             "ticks": ""
            },
            "colorscale": [
             [
              0,
              "#0d0887"
             ],
             [
              0.1111111111111111,
              "#46039f"
             ],
             [
              0.2222222222222222,
              "#7201a8"
             ],
             [
              0.3333333333333333,
              "#9c179e"
             ],
             [
              0.4444444444444444,
              "#bd3786"
             ],
             [
              0.5555555555555556,
              "#d8576b"
             ],
             [
              0.6666666666666666,
              "#ed7953"
             ],
             [
              0.7777777777777778,
              "#fb9f3a"
             ],
             [
              0.8888888888888888,
              "#fdca26"
             ],
             [
              1,
              "#f0f921"
             ]
            ],
            "type": "heatmap"
           }
          ],
          "heatmapgl": [
           {
            "colorbar": {
             "outlinewidth": 0,
             "ticks": ""
            },
            "colorscale": [
             [
              0,
              "#0d0887"
             ],
             [
              0.1111111111111111,
              "#46039f"
             ],
             [
              0.2222222222222222,
              "#7201a8"
             ],
             [
              0.3333333333333333,
              "#9c179e"
             ],
             [
              0.4444444444444444,
              "#bd3786"
             ],
             [
              0.5555555555555556,
              "#d8576b"
             ],
             [
              0.6666666666666666,
              "#ed7953"
             ],
             [
              0.7777777777777778,
              "#fb9f3a"
             ],
             [
              0.8888888888888888,
              "#fdca26"
             ],
             [
              1,
              "#f0f921"
             ]
            ],
            "type": "heatmapgl"
           }
          ],
          "histogram": [
           {
            "marker": {
             "pattern": {
              "fillmode": "overlay",
              "size": 10,
              "solidity": 0.2
             }
            },
            "type": "histogram"
           }
          ],
          "histogram2d": [
           {
            "colorbar": {
             "outlinewidth": 0,
             "ticks": ""
            },
            "colorscale": [
             [
              0,
              "#0d0887"
             ],
             [
              0.1111111111111111,
              "#46039f"
             ],
             [
              0.2222222222222222,
              "#7201a8"
             ],
             [
              0.3333333333333333,
              "#9c179e"
             ],
             [
              0.4444444444444444,
              "#bd3786"
             ],
             [
              0.5555555555555556,
              "#d8576b"
             ],
             [
              0.6666666666666666,
              "#ed7953"
             ],
             [
              0.7777777777777778,
              "#fb9f3a"
             ],
             [
              0.8888888888888888,
              "#fdca26"
             ],
             [
              1,
              "#f0f921"
             ]
            ],
            "type": "histogram2d"
           }
          ],
          "histogram2dcontour": [
           {
            "colorbar": {
             "outlinewidth": 0,
             "ticks": ""
            },
            "colorscale": [
             [
              0,
              "#0d0887"
             ],
             [
              0.1111111111111111,
              "#46039f"
             ],
             [
              0.2222222222222222,
              "#7201a8"
             ],
             [
              0.3333333333333333,
              "#9c179e"
             ],
             [
              0.4444444444444444,
              "#bd3786"
             ],
             [
              0.5555555555555556,
              "#d8576b"
             ],
             [
              0.6666666666666666,
              "#ed7953"
             ],
             [
              0.7777777777777778,
              "#fb9f3a"
             ],
             [
              0.8888888888888888,
              "#fdca26"
             ],
             [
              1,
              "#f0f921"
             ]
            ],
            "type": "histogram2dcontour"
           }
          ],
          "mesh3d": [
           {
            "colorbar": {
             "outlinewidth": 0,
             "ticks": ""
            },
            "type": "mesh3d"
           }
          ],
          "parcoords": [
           {
            "line": {
             "colorbar": {
              "outlinewidth": 0,
              "ticks": ""
             }
            },
            "type": "parcoords"
           }
          ],
          "pie": [
           {
            "automargin": true,
            "type": "pie"
           }
          ],
          "scatter": [
           {
            "fillpattern": {
             "fillmode": "overlay",
             "size": 10,
             "solidity": 0.2
            },
            "type": "scatter"
           }
          ],
          "scatter3d": [
           {
            "line": {
             "colorbar": {
              "outlinewidth": 0,
              "ticks": ""
             }
            },
            "marker": {
             "colorbar": {
              "outlinewidth": 0,
              "ticks": ""
             }
            },
            "type": "scatter3d"
           }
          ],
          "scattercarpet": [
           {
            "marker": {
             "colorbar": {
              "outlinewidth": 0,
              "ticks": ""
             }
            },
            "type": "scattercarpet"
           }
          ],
          "scattergeo": [
           {
            "marker": {
             "colorbar": {
              "outlinewidth": 0,
              "ticks": ""
             }
            },
            "type": "scattergeo"
           }
          ],
          "scattergl": [
           {
            "marker": {
             "colorbar": {
              "outlinewidth": 0,
              "ticks": ""
             }
            },
            "type": "scattergl"
           }
          ],
          "scattermapbox": [
           {
            "marker": {
             "colorbar": {
              "outlinewidth": 0,
              "ticks": ""
             }
            },
            "type": "scattermapbox"
           }
          ],
          "scatterpolar": [
           {
            "marker": {
             "colorbar": {
              "outlinewidth": 0,
              "ticks": ""
             }
            },
            "type": "scatterpolar"
           }
          ],
          "scatterpolargl": [
           {
            "marker": {
             "colorbar": {
              "outlinewidth": 0,
              "ticks": ""
             }
            },
            "type": "scatterpolargl"
           }
          ],
          "scatterternary": [
           {
            "marker": {
             "colorbar": {
              "outlinewidth": 0,
              "ticks": ""
             }
            },
            "type": "scatterternary"
           }
          ],
          "surface": [
           {
            "colorbar": {
             "outlinewidth": 0,
             "ticks": ""
            },
            "colorscale": [
             [
              0,
              "#0d0887"
             ],
             [
              0.1111111111111111,
              "#46039f"
             ],
             [
              0.2222222222222222,
              "#7201a8"
             ],
             [
              0.3333333333333333,
              "#9c179e"
             ],
             [
              0.4444444444444444,
              "#bd3786"
             ],
             [
              0.5555555555555556,
              "#d8576b"
             ],
             [
              0.6666666666666666,
              "#ed7953"
             ],
             [
              0.7777777777777778,
              "#fb9f3a"
             ],
             [
              0.8888888888888888,
              "#fdca26"
             ],
             [
              1,
              "#f0f921"
             ]
            ],
            "type": "surface"
           }
          ],
          "table": [
           {
            "cells": {
             "fill": {
              "color": "#EBF0F8"
             },
             "line": {
              "color": "white"
             }
            },
            "header": {
             "fill": {
              "color": "#C8D4E3"
             },
             "line": {
              "color": "white"
             }
            },
            "type": "table"
           }
          ]
         },
         "layout": {
          "annotationdefaults": {
           "arrowcolor": "#2a3f5f",
           "arrowhead": 0,
           "arrowwidth": 1
          },
          "autotypenumbers": "strict",
          "coloraxis": {
           "colorbar": {
            "outlinewidth": 0,
            "ticks": ""
           }
          },
          "colorscale": {
           "diverging": [
            [
             0,
             "#8e0152"
            ],
            [
             0.1,
             "#c51b7d"
            ],
            [
             0.2,
             "#de77ae"
            ],
            [
             0.3,
             "#f1b6da"
            ],
            [
             0.4,
             "#fde0ef"
            ],
            [
             0.5,
             "#f7f7f7"
            ],
            [
             0.6,
             "#e6f5d0"
            ],
            [
             0.7,
             "#b8e186"
            ],
            [
             0.8,
             "#7fbc41"
            ],
            [
             0.9,
             "#4d9221"
            ],
            [
             1,
             "#276419"
            ]
           ],
           "sequential": [
            [
             0,
             "#0d0887"
            ],
            [
             0.1111111111111111,
             "#46039f"
            ],
            [
             0.2222222222222222,
             "#7201a8"
            ],
            [
             0.3333333333333333,
             "#9c179e"
            ],
            [
             0.4444444444444444,
             "#bd3786"
            ],
            [
             0.5555555555555556,
             "#d8576b"
            ],
            [
             0.6666666666666666,
             "#ed7953"
            ],
            [
             0.7777777777777778,
             "#fb9f3a"
            ],
            [
             0.8888888888888888,
             "#fdca26"
            ],
            [
             1,
             "#f0f921"
            ]
           ],
           "sequentialminus": [
            [
             0,
             "#0d0887"
            ],
            [
             0.1111111111111111,
             "#46039f"
            ],
            [
             0.2222222222222222,
             "#7201a8"
            ],
            [
             0.3333333333333333,
             "#9c179e"
            ],
            [
             0.4444444444444444,
             "#bd3786"
            ],
            [
             0.5555555555555556,
             "#d8576b"
            ],
            [
             0.6666666666666666,
             "#ed7953"
            ],
            [
             0.7777777777777778,
             "#fb9f3a"
            ],
            [
             0.8888888888888888,
             "#fdca26"
            ],
            [
             1,
             "#f0f921"
            ]
           ]
          },
          "colorway": [
           "#636efa",
           "#EF553B",
           "#00cc96",
           "#ab63fa",
           "#FFA15A",
           "#19d3f3",
           "#FF6692",
           "#B6E880",
           "#FF97FF",
           "#FECB52"
          ],
          "font": {
           "color": "#2a3f5f"
          },
          "geo": {
           "bgcolor": "white",
           "lakecolor": "white",
           "landcolor": "#E5ECF6",
           "showlakes": true,
           "showland": true,
           "subunitcolor": "white"
          },
          "hoverlabel": {
           "align": "left"
          },
          "hovermode": "closest",
          "mapbox": {
           "style": "light"
          },
          "paper_bgcolor": "white",
          "plot_bgcolor": "#E5ECF6",
          "polar": {
           "angularaxis": {
            "gridcolor": "white",
            "linecolor": "white",
            "ticks": ""
           },
           "bgcolor": "#E5ECF6",
           "radialaxis": {
            "gridcolor": "white",
            "linecolor": "white",
            "ticks": ""
           }
          },
          "scene": {
           "xaxis": {
            "backgroundcolor": "#E5ECF6",
            "gridcolor": "white",
            "gridwidth": 2,
            "linecolor": "white",
            "showbackground": true,
            "ticks": "",
            "zerolinecolor": "white"
           },
           "yaxis": {
            "backgroundcolor": "#E5ECF6",
            "gridcolor": "white",
            "gridwidth": 2,
            "linecolor": "white",
            "showbackground": true,
            "ticks": "",
            "zerolinecolor": "white"
           },
           "zaxis": {
            "backgroundcolor": "#E5ECF6",
            "gridcolor": "white",
            "gridwidth": 2,
            "linecolor": "white",
            "showbackground": true,
            "ticks": "",
            "zerolinecolor": "white"
           }
          },
          "shapedefaults": {
           "line": {
            "color": "#2a3f5f"
           }
          },
          "ternary": {
           "aaxis": {
            "gridcolor": "white",
            "linecolor": "white",
            "ticks": ""
           },
           "baxis": {
            "gridcolor": "white",
            "linecolor": "white",
            "ticks": ""
           },
           "bgcolor": "#E5ECF6",
           "caxis": {
            "gridcolor": "white",
            "linecolor": "white",
            "ticks": ""
           }
          },
          "title": {
           "x": 0.05
          },
          "xaxis": {
           "automargin": true,
           "gridcolor": "white",
           "linecolor": "white",
           "ticks": "",
           "title": {
            "standoff": 15
           },
           "zerolinecolor": "white",
           "zerolinewidth": 2
          },
          "yaxis": {
           "automargin": true,
           "gridcolor": "white",
           "linecolor": "white",
           "ticks": "",
           "title": {
            "standoff": 15
           },
           "zerolinecolor": "white",
           "zerolinewidth": 2
          }
         }
        },
        "title": {
         "text": "Human-annotated codes"
        },
        "xaxis": {
         "anchor": "y",
         "autorange": true,
         "domain": [
          0,
          1
         ],
         "range": [
          -0.5,
          11.5
         ],
         "tickangle": -45,
         "title": {
          "text": "Code"
         },
         "type": "category"
        },
        "yaxis": {
         "anchor": "x",
         "autorange": true,
         "domain": [
          0,
          1
         ],
         "range": [
          0,
          5.2631578947368425
         ],
         "title": {
          "text": "Count"
         },
         "type": "linear"
        }
       }
      },
      "image/png": "[encoded data removed]",
      "text/html": [
       "<div>                            <div id=\"11e54850-a1cb-4d38-bcf9-1304cdfaece4\" class=\"plotly-graph-div\" style=\"height:525px; width:100%;\"></div>            <script type=\"text/javascript\">                require([\"plotly\"], function(Plotly) {                    window.PLOTLYENV=window.PLOTLYENV || {};                                    if (document.getElementById(\"11e54850-a1cb-4d38-bcf9-1304cdfaece4\")) {                    Plotly.newPlot(                        \"11e54850-a1cb-4d38-bcf9-1304cdfaece4\",                        [{\"alignmentgroup\":\"True\",\"hovertemplate\":\"Code=%{x}\\u003cbr\\u003eCount=%{y}\\u003cextra\\u003e\\u003c\\u002fextra\\u003e\",\"legendgroup\":\"\",\"marker\":{\"color\":\"#636efa\",\"pattern\":{\"shape\":\"\"}},\"name\":\"\",\"offsetgroup\":\"\",\"orientation\":\"v\",\"showlegend\":false,\"textposition\":\"auto\",\"x\":[\"awe\",\"surprise\",\"scale\",\"beauty\",\"shock\",\"realization\",\"uncertainty\",\"violence\",\"dialogue\",\"shared experience\",\"anticipation\",\"world\"],\"xaxis\":\"x\",\"y\":[5,4,2,2,2,1,1,1,1,1,1,1],\"yaxis\":\"y\",\"type\":\"bar\"}],                        {\"template\":{\"data\":{\"histogram2dcontour\":[{\"type\":\"histogram2dcontour\",\"colorbar\":{\"outlinewidth\":0,\"ticks\":\"\"},\"colorscale\":[[0.0,\"#0d0887\"],[0.1111111111111111,\"#46039f\"],[0.2222222222222222,\"#7201a8\"],[0.3333333333333333,\"#9c179e\"],[0.4444444444444444,\"#bd3786\"],[0.5555555555555556,\"#d8576b\"],[0.6666666666666666,\"#ed7953\"],[0.7777777777777778,\"#fb9f3a\"],[0.8888888888888888,\"#fdca26\"],[1.0,\"#f0f921\"]]}],\"choropleth\":[{\"type\":\"choropleth\",\"colorbar\":{\"outlinewidth\":0,\"ticks\":\"\"}}],\"histogram2d\":[{\"type\":\"histogram2d\",\"colorbar\":{\"outlinewidth\":0,\"ticks\":\"\"},\"colorscale\":[[0.0,\"#0d0887\"],[0.1111111111111111,\"#46039f\"],[0.2222222222222222,\"#7201a8\"],[0.3333333333333333,\"#9c179e\"],[0.4444444444444444,\"#bd3786\"],[0.5555555555555556,\"#d8576b\"],[0.6666666666666666,\"#ed7953\"],[0.7777777777777778,\"#fb9f3a\"],[0.8888888888888888,\"#fdca26\"],[1.0,\"#f0f921\"]]}],\"heatmap\":[{\"type\":\"heatmap\",\"colorbar\":{\"outlinewidth\":0,\"ticks\":\"\"},\"colorscale\":[[0.0,\"#0d0887\"],[0.1111111111111111,\"#46039f\"],[0.2222222222222222,\"#7201a8\"],[0.3333333333333333,\"#9c179e\"],[0.4444444444444444,\"#bd3786\"],[0.5555555555555556,\"#d8576b\"],[0.6666666666666666,\"#ed7953\"],[0.7777777777777778,\"#fb9f3a\"],[0.8888888888888888,\"#fdca26\"],[1.0,\"#f0f921\"]]}],\"heatmapgl\":[{\"type\":\"heatmapgl\",\"colorbar\":{\"outlinewidth\":0,\"ticks\":\"\"},\"colorscale\":[[0.0,\"#0d0887\"],[0.1111111111111111,\"#46039f\"],[0.2222222222222222,\"#7201a8\"],[0.3333333333333333,\"#9c179e\"],[0.4444444444444444,\"#bd3786\"],[0.5555555555555556,\"#d8576b\"],[0.6666666666666666,\"#ed7953\"],[0.7777777777777778,\"#fb9f3a\"],[0.8888888888888888,\"#fdca26\"],[1.0,\"#f0f921\"]]}],\"contourcarpet\":[{\"type\":\"contourcarpet\",\"colorbar\":{\"outlinewidth\":0,\"ticks\":\"\"}}],\"contour\":[{\"type\":\"contour\",\"colorbar\":{\"outlinewidth\":0,\"ticks\":\"\"},\"colorscale\":[[0.0,\"#0d0887\"],[0.1111111111111111,\"#46039f\"],[0.2222222222222222,\"#7201a8\"],[0.3333333333333333,\"#9c179e\"],[0.4444444444444444,\"#bd3786\"],[0.5555555555555556,\"#d8576b\"],[0.6666666666666666,\"#ed7953\"],[0.7777777777777778,\"#fb9f3a\"],[0.8888888888888888,\"#fdca26\"],[1.0,\"#f0f921\"]]}],\"surface\":[{\"type\":\"surface\",\"colorbar\":{\"outlinewidth\":0,\"ticks\":\"\"},\"colorscale\":[[0.0,\"#0d0887\"],[0.1111111111111111,\"#46039f\"],[0.2222222222222222,\"#7201a8\"],[0.3333333333333333,\"#9c179e\"],[0.4444444444444444,\"#bd3786\"],[0.5555555555555556,\"#d8576b\"],[0.6666666666666666,\"#ed7953\"],[0.7777777777777778,\"#fb9f3a\"],[0.8888888888888888,\"#fdca26\"],[1.0,\"#f0f921\"]]}],\"mesh3d\":[{\"type\":\"mesh3d\",\"colorbar\":{\"outlinewidth\":0,\"ticks\":\"\"}}],\"scatter\":[{\"fillpattern\":{\"fillmode\":\"overlay\",\"size\":10,\"solidity\":0.2},\"type\":\"scatter\"}],\"parcoords\":[{\"type\":\"parcoords\",\"line\":{\"colorbar\":{\"outlinewidth\":0,\"ticks\":\"\"}}}],\"scatterpolargl\":[{\"type\":\"scatterpolargl\",\"marker\":{\"colorbar\":{\"outlinewidth\":0,\"ticks\":\"\"}}}],\"bar\":[{\"error_x\":{\"color\":\"#2a3f5f\"},\"error_y\":{\"color\":\"#2a3f5f\"},\"marker\":{\"line\":{\"color\":\"#E5ECF6\",\"width\":0.5},\"pattern\":{\"fillmode\":\"overlay\",\"size\":10,\"solidity\":0.2}},\"type\":\"bar\"}],\"scattergeo\":[{\"type\":\"scattergeo\",\"marker\":{\"colorbar\":{\"outlinewidth\":0,\"ticks\":\"\"}}}],\"scatterpolar\":[{\"type\":\"scatterpolar\",\"marker\":{\"colorbar\":{\"outlinewidth\":0,\"ticks\":\"\"}}}],\"histogram\":[{\"marker\":{\"pattern\":{\"fillmode\":\"overlay\",\"size\":10,\"solidity\":0.2}},\"type\":\"histogram\"}],\"scattergl\":[{\"type\":\"scattergl\",\"marker\":{\"colorbar\":{\"outlinewidth\":0,\"ticks\":\"\"}}}],\"scatter3d\":[{\"type\":\"scatter3d\",\"line\":{\"colorbar\":{\"outlinewidth\":0,\"ticks\":\"\"}},\"marker\":{\"colorbar\":{\"outlinewidth\":0,\"ticks\":\"\"}}}],\"scattermapbox\":[{\"type\":\"scattermapbox\",\"marker\":{\"colorbar\":{\"outlinewidth\":0,\"ticks\":\"\"}}}],\"scatterternary\":[{\"type\":\"scatterternary\",\"marker\":{\"colorbar\":{\"outlinewidth\":0,\"ticks\":\"\"}}}],\"scattercarpet\":[{\"type\":\"scattercarpet\",\"marker\":{\"colorbar\":{\"outlinewidth\":0,\"ticks\":\"\"}}}],\"carpet\":[{\"aaxis\":{\"endlinecolor\":\"#2a3f5f\",\"gridcolor\":\"white\",\"linecolor\":\"white\",\"minorgridcolor\":\"white\",\"startlinecolor\":\"#2a3f5f\"},\"baxis\":{\"endlinecolor\":\"#2a3f5f\",\"gridcolor\":\"white\",\"linecolor\":\"white\",\"minorgridcolor\":\"white\",\"startlinecolor\":\"#2a3f5f\"},\"type\":\"carpet\"}],\"table\":[{\"cells\":{\"fill\":{\"color\":\"#EBF0F8\"},\"line\":{\"color\":\"white\"}},\"header\":{\"fill\":{\"color\":\"#C8D4E3\"},\"line\":{\"color\":\"white\"}},\"type\":\"table\"}],\"barpolar\":[{\"marker\":{\"line\":{\"color\":\"#E5ECF6\",\"width\":0.5},\"pattern\":{\"fillmode\":\"overlay\",\"size\":10,\"solidity\":0.2}},\"type\":\"barpolar\"}],\"pie\":[{\"automargin\":true,\"type\":\"pie\"}]},\"layout\":{\"autotypenumbers\":\"strict\",\"colorway\":[\"#636efa\",\"#EF553B\",\"#00cc96\",\"#ab63fa\",\"#FFA15A\",\"#19d3f3\",\"#FF6692\",\"#B6E880\",\"#FF97FF\",\"#FECB52\"],\"font\":{\"color\":\"#2a3f5f\"},\"hovermode\":\"closest\",\"hoverlabel\":{\"align\":\"left\"},\"paper_bgcolor\":\"white\",\"plot_bgcolor\":\"#E5ECF6\",\"polar\":{\"bgcolor\":\"#E5ECF6\",\"angularaxis\":{\"gridcolor\":\"white\",\"linecolor\":\"white\",\"ticks\":\"\"},\"radialaxis\":{\"gridcolor\":\"white\",\"linecolor\":\"white\",\"ticks\":\"\"}},\"ternary\":{\"bgcolor\":\"#E5ECF6\",\"aaxis\":{\"gridcolor\":\"white\",\"linecolor\":\"white\",\"ticks\":\"\"},\"baxis\":{\"gridcolor\":\"white\",\"linecolor\":\"white\",\"ticks\":\"\"},\"caxis\":{\"gridcolor\":\"white\",\"linecolor\":\"white\",\"ticks\":\"\"}},\"coloraxis\":{\"colorbar\":{\"outlinewidth\":0,\"ticks\":\"\"}},\"colorscale\":{\"sequential\":[[0.0,\"#0d0887\"],[0.1111111111111111,\"#46039f\"],[0.2222222222222222,\"#7201a8\"],[0.3333333333333333,\"#9c179e\"],[0.4444444444444444,\"#bd3786\"],[0.5555555555555556,\"#d8576b\"],[0.6666666666666666,\"#ed7953\"],[0.7777777777777778,\"#fb9f3a\"],[0.8888888888888888,\"#fdca26\"],[1.0,\"#f0f921\"]],\"sequentialminus\":[[0.0,\"#0d0887\"],[0.1111111111111111,\"#46039f\"],[0.2222222222222222,\"#7201a8\"],[0.3333333333333333,\"#9c179e\"],[0.4444444444444444,\"#bd3786\"],[0.5555555555555556,\"#d8576b\"],[0.6666666666666666,\"#ed7953\"],[0.7777777777777778,\"#fb9f3a\"],[0.8888888888888888,\"#fdca26\"],[1.0,\"#f0f921\"]],\"diverging\":[[0,\"#8e0152\"],[0.1,\"#c51b7d\"],[0.2,\"#de77ae\"],[0.3,\"#f1b6da\"],[0.4,\"#fde0ef\"],[0.5,\"#f7f7f7\"],[0.6,\"#e6f5d0\"],[0.7,\"#b8e186\"],[0.8,\"#7fbc41\"],[0.9,\"#4d9221\"],[1,\"#276419\"]]},\"xaxis\":{\"gridcolor\":\"white\",\"linecolor\":\"white\",\"ticks\":\"\",\"title\":{\"standoff\":15},\"zerolinecolor\":\"white\",\"automargin\":true,\"zerolinewidth\":2},\"yaxis\":{\"gridcolor\":\"white\",\"linecolor\":\"white\",\"ticks\":\"\",\"title\":{\"standoff\":15},\"zerolinecolor\":\"white\",\"automargin\":true,\"zerolinewidth\":2},\"scene\":{\"xaxis\":{\"backgroundcolor\":\"#E5ECF6\",\"gridcolor\":\"white\",\"linecolor\":\"white\",\"showbackground\":true,\"ticks\":\"\",\"zerolinecolor\":\"white\",\"gridwidth\":2},\"yaxis\":{\"backgroundcolor\":\"#E5ECF6\",\"gridcolor\":\"white\",\"linecolor\":\"white\",\"showbackground\":true,\"ticks\":\"\",\"zerolinecolor\":\"white\",\"gridwidth\":2},\"zaxis\":{\"backgroundcolor\":\"#E5ECF6\",\"gridcolor\":\"white\",\"linecolor\":\"white\",\"showbackground\":true,\"ticks\":\"\",\"zerolinecolor\":\"white\",\"gridwidth\":2}},\"shapedefaults\":{\"line\":{\"color\":\"#2a3f5f\"}},\"annotationdefaults\":{\"arrowcolor\":\"#2a3f5f\",\"arrowhead\":0,\"arrowwidth\":1},\"geo\":{\"bgcolor\":\"white\",\"landcolor\":\"#E5ECF6\",\"subunitcolor\":\"white\",\"showland\":true,\"showlakes\":true,\"lakecolor\":\"white\"},\"title\":{\"x\":0.05},\"mapbox\":{\"style\":\"light\"}}},\"xaxis\":{\"anchor\":\"y\",\"domain\":[0.0,1.0],\"title\":{\"text\":\"Code\"},\"tickangle\":-45},\"yaxis\":{\"anchor\":\"x\",\"domain\":[0.0,1.0],\"title\":{\"text\":\"Count\"}},\"legend\":{\"tracegroupgap\":0},\"title\":{\"text\":\"Human-annotated codes\"},\"barmode\":\"relative\"},                        {\"responsive\": true}                    ).then(function(){\n",
       "                            \n",
       "var gd = document.getElementById('11e54850-a1cb-4d38-bcf9-1304cdfaece4');\n",
       "var x = new MutationObserver(function (mutations, observer) {{\n",
       "        var display = window.getComputedStyle(gd).display;\n",
       "        if (!display || display === 'none') {{\n",
       "            console.log([gd, 'removed!']);\n",
       "            Plotly.purge(gd);\n",
       "            observer.disconnect();\n",
       "        }}\n",
       "}});\n",
       "\n",
       "// Listen for the removal of the full notebook cells\n",
       "var notebookContainer = gd.closest('#notebook-container');\n",
       "if (notebookContainer) {{\n",
       "    x.observe(notebookContainer, {childList: true});\n",
       "}}\n",
       "\n",
       "// Listen for the clearing of the current output cell\n",
       "var outputEl = gd.closest('.output');\n",
       "if (outputEl) {{\n",
       "    x.observe(outputEl, {childList: true});\n",
       "}}\n",
       "\n",
       "                        })                };                });            </script>        </div>"
      ]
     },
     "metadata": {},
     "output_type": "display_data"
    }
   ],
   "source": [
    "# @title\n",
    "def get_codes_df(df):\n",
    "    codes = [code for coded_text in df.coded_text for _, code in llmcode.parse_codes(coded_text)]\n",
    "    code_counts = Counter(codes)\n",
    "    df_codes = pd.DataFrame(list(code_counts.items()), columns=['Code', 'Count'])\n",
    "    df_codes = df_codes.sort_values(by='Count', ascending=False).reset_index(drop=True)\n",
    "    return df_codes\n",
    "\n",
    "df_codes = get_codes_df(df_val)\n",
    "\n",
    "# Create a vertical bar plot using Plotly with angled x-axis labels\n",
    "fig = px.bar(df_codes, x='Code', y='Count', title='Human-annotated codes')\n",
    "\n",
    "# Update layout to angle x-axis labels at 45 degrees\n",
    "fig.update_layout(xaxis_tickangle=-45)\n",
    "\n",
    "fig.show()"
   ]
  },
  {
   "cell_type": "markdown",
   "metadata": {
    "id": "9xat5u4-EPlH"
   },
   "source": [
    "## Coding and quality metrics"
   ]
  },
  {
   "cell_type": "markdown",
   "metadata": {
    "id": "IAzMLDb_1w-D"
   },
   "source": [
    "In this notebook, we will be using the `code_inductively_with_code_consistency()` function from the LLMCode package. This function codes the input texts given:\n",
    "* the research question, defined earlier\n",
    "* the set of few-shot examples, defined earlier\n",
    "* a list of *ancestors* for each text in the input data and few-shot examples, providing the thread context of the text to the model \n",
    "* a bulleted list of coding instructions, given as a string.\n",
    "\n",
    "After coding the texts, the function attempts to correct some common errors that the LLM may make, such as correcting typos or omitting some non-coded sentences of the original text. For further analysis, it is important that the LLM preserves the exact formatting of the original texts.\n",
    "\n",
    "The term *code consistency* in the function name refers to the function's attempt to generate consistent codes across the different texts, similarly to a human coder. The function processes the texts sequentially, to allow the reuse of codes between text instances instead of creating an entirely new set of possibly redundant codes for each text. This is done by keeping track of a list of previous codes that is added as input to each new prompt.\n",
    "\n",
    "If you take a closer look at the code, you may notice that the function also generates a description for each code. This is in order to avoid generating duplicate codes with the same meaning. We store these descriptions at the end of this notebook alongside the coded texts, as they may be useful in further processing of the codes, by elaborating on their meaning.\n",
    "\n",
    "Run the following cell to code the input texts with the `code_inductively_with_code_consistency()` function. This may take a few moments."
   ]
  },
  {
   "cell_type": "code",
   "execution_count": 11,
   "metadata": {
    "cellView": "form",
    "id": "ZfoBkSkHEPlH"
   },
   "outputs": [
    {
     "name": "stdout",
     "output_type": "stream",
     "text": [
      " |████████████████████████████████████████████████████████████████████████████████████████████████████| 100.0% \n",
      "Coding complete, proceed to the next cell to see the output\n"
     ]
    }
   ],
   "source": [
    "# @title\n",
    "\n",
    "def code_inductively(df_input, coding_instructions):\n",
    "    input_texts = df_input.text.tolist()\n",
    "    input_ancestors = [get_ancestor_texts(id) for id in df_input.index]\n",
    "    return llmcode.code_inductively_with_code_consistency(\n",
    "        texts=input_texts,\n",
    "        text_ancestors=input_ancestors,\n",
    "        research_question=research_question,\n",
    "        coding_instructions=coding_instructions,\n",
    "        few_shot_examples=df_few_shot,\n",
    "        few_shot_ancestors=few_shot_ancestors,\n",
    "        gpt_model=gpt_model\n",
    "    )\n",
    "\n",
    "# Instructions that are appended to the LLM prompt\n",
    "coding_instructions = f\"\"\"- Ignore text that is not insightful with regards to the research question: {research_question}.\"\"\"\n",
    "\n",
    "# Do inductive coding\n",
    "coded_texts, code_descriptions = code_inductively(df_val, coding_instructions)\n",
    "\n",
    "print(\"Coding complete, proceed to the next cell to see the output\")"
   ]
  },
  {
   "cell_type": "markdown",
   "metadata": {
    "id": "xTxGomIeDtoq"
   },
   "source": [
    "Next, we evaluate the LLM's output against human-coded texts from our validation set, i.e. some instances from `coded_file` that weren't used as few-shot examples.\n",
    "\n",
    "We print out a table that contains the LLM- and human-coded texts side by side. This table also contains two metrics to help you evaluate the model's output: [Intersection over Union (IoU, a.k.a. Jaccard Index)](https://en.wikipedia.org/wiki/Jaccard_index) and a modified [Hausdorff distance measure](https://en.wikipedia.org/wiki/Hausdorff_distance).\n",
    "\n",
    "**IoU** calculates the overlap between LLM- and human-highlighted parts of each text, measuring how similarly the model can identify interesting parts in the text to a human coder. For the IoU score, 0 means no overlap and 1 means perfect overlap, i.e., identical human and LLM highlights. \n",
    "\n",
    "IoU does not tell us anything about the codes that are assigned to each highlight, for which reason we also calculate the **Hausdorff distance** between each pair of LLM- and human-coded texts. Note that the coded parts of the text may vary between annotators, which makes a highlight level evaluation of codes difficult. In order to address this issue, we compare the codes on a text level (as opposed to highlight level), by merging all the codes that are assigned to any highlight in the text. The Hausdorff distance measure calculated by the LLMCode package then utilizes code embeddings to evaluate the semantic similarity between the LLM and human-generated codes for each text.\n",
    "\n",
    "You can choose to sort the texts by either of the two metrics. This enables you to easily spot cases where the model is doing well or underperfoming. Note that a **higher IoU is better** (higher IoU = more overlap between highlighted segments), while a **lower Hausdorff distance is better** (lower distance = codes are more similar). Be sure to also compare the LLM- and human-annotated texts yourself, as sometimes the errors may be due to inconsistencies in your own coding."
   ]
  },
  {
   "cell_type": "code",
   "execution_count": 14,
   "metadata": {
    "cellView": "form",
    "id": "flg1C8aPDu2A"
   },
   "outputs": [
    {
     "name": "stdout",
     "output_type": "stream",
     "text": [
      "Loaded embeddings from cache, hash b179f6a5bb2327e66fb357323b2a6c56\n",
      "Average IoU: 0.3832\n",
      "Average Hausdorff distance: 0.0683\n"
     ]
    },
    {
     "data": {
      "text/html": [
       "<table border=\"1\" class=\"dataframe\">\n",
       "  <thead>\n",
       "    <tr style=\"text-align: right;\">\n",
       "      <th></th>\n",
       "      <th>llm_coded_text</th>\n",
       "      <th>human_coded_text</th>\n",
       "      <th>IoU</th>\n",
       "      <th>Hausdorff</th>\n",
       "    </tr>\n",
       "  </thead>\n",
       "  <tbody>\n",
       "    <tr>\n",
       "      <th>3</th>\n",
       "      <td>Likewise.</td>\n",
       "      <td>Likewise.</td>\n",
       "      <td>1.000000</td>\n",
       "      <td>0.000000</td>\n",
       "    </tr>\n",
       "    <tr>\n",
       "      <th>11</th>\n",
       "      <td>Except no annoyingly whiny red plants or vomiting armored cockroaches.</td>\n",
       "      <td>Except no annoyingly whiny red plants or vomiting armored cockroaches.</td>\n",
       "      <td>1.000000</td>\n",
       "      <td>0.000000</td>\n",
       "    </tr>\n",
       "    <tr>\n",
       "      <th>18</th>\n",
       "      <td>This 100%. <b>I jaw hit the floor when the cavern opened. I was NOT ready for that!</b><sup>awe; surprise</sup></td>\n",
       "      <td>This 100%. <b>I jaw hit the floor when the cavern opened. I was NOT ready for that!</b><sup>shock; surprise; awe</sup></td>\n",
       "      <td>1.000000</td>\n",
       "      <td>0.018913</td>\n",
       "    </tr>\n",
       "    <tr>\n",
       "      <th>6</th>\n",
       "      <td>I knew going into the game that it was gonna be pretty, but <b>seeing the vast expanse of Siofra River as I descended the elevator made my jaw hit the fucking floor.</b><sup>awe</sup> <b>Easily the most beautiful area in the game.</b><sup>awe</sup></td>\n",
       "      <td>I knew going into the game that it was gonna be pretty, but <b>seeing the vast expanse of Siofra River as I descended the elevator made my jaw hit the fucking floor</b><sup>scale; awe</sup>.  Easily <b>the most beautiful area in the game</b><sup>beauty</sup>.</td>\n",
       "      <td>0.949153</td>\n",
       "      <td>0.063900</td>\n",
       "    </tr>\n",
       "    <tr>\n",
       "      <th>14</th>\n",
       "      <td>Siofra river reveal is definitely my fave too, <b>just due to the absolute sheer scale of exploration being laid bare before me as if to accent I still had much more to explore than I thought in the world.</b><sup>scale; awe</sup></td>\n",
       "      <td>Siofra river reveal is definitely my fave too, just due to <b>the absolute sheer scale of exploration being laid bare before me as if to accent I still had much more to explore than I thought in the world</b><sup>scale; anticipation; surprise</sup>.</td>\n",
       "      <td>0.927419</td>\n",
       "      <td>0.066010</td>\n",
       "    </tr>\n",
       "    <tr>\n",
       "      <th>2</th>\n",
       "      <td>nothing is quite as memorable <b>that seeing your character looking like a pin cushion for several minutes.</b><sup>awe; danger</sup></td>\n",
       "      <td>nothing is quite as memorable that <b>seeing your character looking like a pin cushion</b><sup>violence</sup> for several minutes.</td>\n",
       "      <td>0.661290</td>\n",
       "      <td>0.134691</td>\n",
       "    </tr>\n",
       "    <tr>\n",
       "      <th>15</th>\n",
       "      <td>I never had the cartoon ‘jaw-drop’ until that moment. <b>I was alone in my room almost drooling because of the beautiful world opening up to me!</b><sup>awe; immersion</sup></td>\n",
       "      <td><b>I never had the cartoon ‘jaw-drop’ until that moment. I was alone in my room almost drooling because of the beautiful world opening up to me!</b><sup>awe; beauty; world</sup></td>\n",
       "      <td>0.630631</td>\n",
       "      <td>0.060079</td>\n",
       "    </tr>\n",
       "    <tr>\n",
       "      <th>5</th>\n",
       "      <td>“<b>Oh Fuck, this game is even bigger than I thought</b>”<sup>surprise</sup> and then “<b>Oh FUCK I do no damage to these things</b>”<sup>danger; frustration</sup></td>\n",
       "      <td><b>“Oh Fuck, this game is even bigger than I thought”</b><sup>surprise; realization</sup> and then “Oh FUCK I do no damage to these things”</td>\n",
       "      <td>0.558824</td>\n",
       "      <td>0.084580</td>\n",
       "    </tr>\n",
       "    <tr>\n",
       "      <th>12</th>\n",
       "      <td>Yes! <b>Felt like I was traveling for ages!</b><sup>determination</sup> <b>Kept telling my friends about that experience. It was my first underground area and it was just so jaw dropping</b><sup>awe; connection</sup></td>\n",
       "      <td>Yes! Felt like I was traveling for ages! <b>Kept telling my friends about that experience.</b><sup>shared experience</sup> It was my first underground area and <b>it was just so jaw dropping</b><sup>awe</sup></td>\n",
       "      <td>0.512605</td>\n",
       "      <td>0.059159</td>\n",
       "    </tr>\n",
       "    <tr>\n",
       "      <th>1</th>\n",
       "      <td>Yeah me it was the first elevator down to Sofia River… <b>I had no idea what to expect and then bam… that view of that huge purple expanse.</b><sup>surprise; awe</sup> <b>That’s when I realized this game was much larger and more diverse than I had ever imagined</b><sup>realization; scale</sup></td>\n",
       "      <td>Yeah me it was the first elevator down to Sofia River… <b>I had no idea what to expect and then bam…</b><sup>uncertainty; surprise</sup> that view of that huge purple expanse. That’s when I realized this game was much larger and more diverse than I had ever imagined</td>\n",
       "      <td>0.235294</td>\n",
       "      <td>0.089820</td>\n",
       "    </tr>\n",
       "    <tr>\n",
       "      <th>13</th>\n",
       "      <td>This. <b>It was 4 am and I&#x27;d been playing for 10 hours straight no breaks except to eat and use the restroom and even eating I would do at my PC (I was excited okay)</b><sup>determination</sup> <b>and I remember stumbling across this and my mouth just. Dropped. I was so in awe I just sat at my desk for 5 minutes before even going back to the game.</b><sup>awe</sup> <b>I told myself I&#x27;m getting too excited and this game is too good and I&#x27;m too delirious to say this but Elden Ring is the best game I&#x27;ve ever played.</b><sup>realization</sup> <b>I told myself to save that opinion for the morning when I have some rest and can think clearly. The opinion stayed</b><sup>reflection</sup>.</td>\n",
       "      <td>This. It was 4 am and I&#x27;d been playing for 10 hours straight no breaks except to eat and use the restroom and even eating I would do at my PC (I was excited okay) and I remember stumbling across this and <b>my mouth just. Dropped. I was so in awe I just sat at my desk for 5 minutes before even going back to the game.</b><sup>awe; shock</sup> I told myself I&#x27;m getting too excited and this game is too good and I&#x27;m too delirious to say this but Elden Ring is the best game I&#x27;ve ever played. I told myself to save that opinion for the morning when I have some rest and can think clearly. The opinion stayed</td>\n",
       "      <td>0.189189</td>\n",
       "      <td>0.078731</td>\n",
       "    </tr>\n",
       "    <tr>\n",
       "      <th>0</th>\n",
       "      <td>I used to be an adventurer like you. <b>Then I took an arrow in the… look, adventuring is dangerous ok, can we leave it at that?</b><sup>humor; danger</sup></td>\n",
       "      <td>I used to be an adventurer like you. Then I took an arrow in the… look, adventuring is dangerous ok, can we leave it at that?</td>\n",
       "      <td>0.000000</td>\n",
       "      <td>0.115518</td>\n",
       "    </tr>\n",
       "    <tr>\n",
       "      <th>10</th>\n",
       "      <td>&gt;\\tThe first time I went down the elevator to Nokron honestly. <br><br><b>The moment I saw that elevator my first thought was “I’m going to end up in Blackreach.”</b><sup>anticipation; connection</sup></td>\n",
       "      <td>&gt;\\tThe first time I went down the elevator to Nokron honestly. <br><br>The moment I saw that elevator my first thought was “I’m going to end up in Blackreach”.</td>\n",
       "      <td>0.000000</td>\n",
       "      <td>0.076760</td>\n",
       "    </tr>\n",
       "    <tr>\n",
       "      <th>9</th>\n",
       "      <td>&quot;But hell, I&#x27;m not turning back&quot;. <b>Oh, yeah.</b><sup>determination</sup></td>\n",
       "      <td>&quot;But hell, I&#x27;m not turning back&quot;. Oh, yeah.</td>\n",
       "      <td>0.000000</td>\n",
       "      <td>0.111200</td>\n",
       "    </tr>\n",
       "    <tr>\n",
       "      <th>8</th>\n",
       "      <td>I agree, <b>reminded me of the underground eco system on Skyrim where the snow elves recluses to.</b><sup>scale; connection</sup></td>\n",
       "      <td>I agree, reminded me of the underground eco system on Skyrim where the snow elves recluses to.</td>\n",
       "      <td>0.000000</td>\n",
       "      <td>0.078749</td>\n",
       "    </tr>\n",
       "    <tr>\n",
       "      <th>7</th>\n",
       "      <td>Best dialogue in the game<sup>dialogue; narrative</sup></td>\n",
       "      <td><b>Best dialogue in the game</b><sup>dialogue</sup></td>\n",
       "      <td>0.000000</td>\n",
       "      <td>0.091442</td>\n",
       "    </tr>\n",
       "    <tr>\n",
       "      <th>4</th>\n",
       "      <td>Dude i was <b>shitting my pants down that lift to Nokron</b><sup>danger</sup>. I clearly remember just saying <b>“holy fuuuuck”</b><sup>awe</sup> and taking it all in.</td>\n",
       "      <td>Dude i was shitting my pants down that lift to Nokron. I clearly remember just saying “holy fuuuuck” and taking it all in.</td>\n",
       "      <td>0.000000</td>\n",
       "      <td>0.082754</td>\n",
       "    </tr>\n",
       "    <tr>\n",
       "      <th>16</th>\n",
       "      <td>I took an arrow to every <b>oriface</b>.<sup>danger</sup></td>\n",
       "      <td>I took an arrow to every oriface.</td>\n",
       "      <td>0.000000</td>\n",
       "      <td>0.000000</td>\n",
       "    </tr>\n",
       "    <tr>\n",
       "      <th>17</th>\n",
       "      <td>Graceless Tarnished. <br><br>What is thy business with these thrones?<br><br>Ahhhh….<br><br><b>Godrick the Golden.</b><sup>connection</sup> <br><br><b>The twin prodigies, Miquella and Malenia.</b><sup>connection</sup> <br><br><b>General Radahn.</b><sup>connection</sup> *Praetor Rykard.* <b>Lunar princess Ranni.</b><sup>connection</sup> <br><br><b>Willful traitors, all!</b><sup>reflection</sup> <br><br>Thy kind are all of a piece. Pillagers, emboldened by the flame of ambition!<br><br><b>Have it writ upon thy meagre grave. Felled, by King Morgott! Last of all kings.</b><sup>determination; danger</sup></td>\n",
       "      <td>Graceless Tarnished. <br><br>What is thy business with these thrones?<br><br>Ahhhh….<br><br>Godrick the Golden. <br><br>The twin prodigies, Miquella and Malenia. <br><br>General Radahn. *Praetor Rykard.* Lunar princess Ranni. <br><br>Willful traitors, all! <br><br>Thy kind are all of a piece. Pillagers, emboldened by the flame of ambition!<br><br>Have it writ upon thy meagre grave. Felled, by King Morgott! Last of all kings.</td>\n",
       "      <td>0.000000</td>\n",
       "      <td>0.086214</td>\n",
       "    </tr>\n",
       "    <tr>\n",
       "      <th>19</th>\n",
       "      <td>Yeah, this is hands down <b>one of my top soulsborneringiro moments!</b><sup>connection</sup></td>\n",
       "      <td>Yeah, this is hands down one of my top soulsborneringiro moments!</td>\n",
       "      <td>0.000000</td>\n",
       "      <td>0.066945</td>\n",
       "    </tr>\n",
       "  </tbody>\n",
       "</table>"
      ],
      "text/plain": [
       "<IPython.core.display.HTML object>"
      ]
     },
     "metadata": {},
     "output_type": "display_data"
    }
   ],
   "source": [
    "#-------------------------------------------------------\n",
    "#User-defined parameters. You can freely edit the values\n",
    "\n",
    "sort_by = \"IoU\" # @param [\"IoU\",\"Hausdorff\",\"Input order\"]\n",
    "\n",
    "#-------------------------------------------------------------------\n",
    "#Implementation. Only edit this part if you know what your are doing\n",
    "\n",
    "html_report, df_eval = llmcode.run_coding_eval(\n",
    "    llm_coded_texts=coded_texts,\n",
    "    human_coded_texts=df_val.coded_text.tolist(),\n",
    "    embedding_context=embedding_context,\n",
    "    embedding_model=embedding_model,\n",
    "    sort_by=sort_by\n",
    ")\n",
    "\n",
    "avg_iou = np.mean(df_eval[\"IoU\"])\n",
    "avg_hausdorff = np.mean(df_eval[\"Hausdorff\"])\n",
    "print(f\"Average IoU: {avg_iou:.4f}\")\n",
    "print(f\"Average Hausdorff distance: {avg_hausdorff:.4f}\")\n",
    "\n",
    "display(HTML(html_report))"
   ]
  },
  {
   "cell_type": "markdown",
   "metadata": {
    "id": "yde1LI35Wu1j"
   },
   "source": [
    "Next, let's visualize all the LLM-generated codes and the number of times they appear. You may wish to compare these to the human-annotated code distribution above, and see how well they match. Can you find any new codes, or ones that are missing?"
   ]
  },
  {
   "cell_type": "code",
   "execution_count": 15,
   "metadata": {
    "cellView": "form",
    "id": "Q7LPCqQaT8p7"
   },
   "outputs": [
    {
     "data": {
      "application/vnd.plotly.v1+json": {
       "config": {
        "plotlyServerURL": "https://plot.ly"
       },
       "data": [
        {
         "alignmentgroup": "True",
         "hovertemplate": "Code=%{x}<br>Count=%{y}<extra></extra>",
         "legendgroup": "",
         "marker": {
          "color": "#636efa",
          "pattern": {
           "shape": ""
          }
         },
         "name": "",
         "offsetgroup": "",
         "orientation": "v",
         "showlegend": false,
         "textposition": "auto",
         "type": "bar",
         "x": [
          "awe",
          "connection",
          "danger",
          "determination",
          "scale",
          "realization",
          "surprise",
          "reflection",
          "humor",
          "anticipation",
          "immersion"
         ],
         "xaxis": "x",
         "y": [
          10,
          8,
          4,
          4,
          3,
          2,
          2,
          2,
          1,
          1,
          1
         ],
         "yaxis": "y"
        }
       ],
       "layout": {
        "autosize": true,
        "barmode": "relative",
        "legend": {
         "tracegroupgap": 0
        },
        "template": {
         "data": {
          "bar": [
           {
            "error_x": {
             "color": "#2a3f5f"
            },
            "error_y": {
             "color": "#2a3f5f"
            },
            "marker": {
             "line": {
              "color": "#E5ECF6",
              "width": 0.5
             },
             "pattern": {
              "fillmode": "overlay",
              "size": 10,
              "solidity": 0.2
             }
            },
            "type": "bar"
           }
          ],
          "barpolar": [
           {
            "marker": {
             "line": {
              "color": "#E5ECF6",
              "width": 0.5
             },
             "pattern": {
              "fillmode": "overlay",
              "size": 10,
              "solidity": 0.2
             }
            },
            "type": "barpolar"
           }
          ],
          "carpet": [
           {
            "aaxis": {
             "endlinecolor": "#2a3f5f",
             "gridcolor": "white",
             "linecolor": "white",
             "minorgridcolor": "white",
             "startlinecolor": "#2a3f5f"
            },
            "baxis": {
             "endlinecolor": "#2a3f5f",
             "gridcolor": "white",
             "linecolor": "white",
             "minorgridcolor": "white",
             "startlinecolor": "#2a3f5f"
            },
            "type": "carpet"
           }
          ],
          "choropleth": [
           {
            "colorbar": {
             "outlinewidth": 0,
             "ticks": ""
            },
            "type": "choropleth"
           }
          ],
          "contour": [
           {
            "colorbar": {
             "outlinewidth": 0,
             "ticks": ""
            },
            "colorscale": [
             [
              0,
              "#0d0887"
             ],
             [
              0.1111111111111111,
              "#46039f"
             ],
             [
              0.2222222222222222,
              "#7201a8"
             ],
             [
              0.3333333333333333,
              "#9c179e"
             ],
             [
              0.4444444444444444,
              "#bd3786"
             ],
             [
              0.5555555555555556,
              "#d8576b"
             ],
             [
              0.6666666666666666,
              "#ed7953"
             ],
             [
              0.7777777777777778,
              "#fb9f3a"
             ],
             [
              0.8888888888888888,
              "#fdca26"
             ],
             [
              1,
              "#f0f921"
             ]
            ],
            "type": "contour"
           }
          ],
          "contourcarpet": [
           {
            "colorbar": {
             "outlinewidth": 0,
             "ticks": ""
            },
            "type": "contourcarpet"
           }
          ],
          "heatmap": [
           {
            "colorbar": {
             "outlinewidth": 0,
             "ticks": ""
            },
            "colorscale": [
             [
              0,
              "#0d0887"
             ],
             [
              0.1111111111111111,
              "#46039f"
             ],
             [
              0.2222222222222222,
              "#7201a8"
             ],
             [
              0.3333333333333333,
              "#9c179e"
             ],
             [
              0.4444444444444444,
              "#bd3786"
             ],
             [
              0.5555555555555556,
              "#d8576b"
             ],
             [
              0.6666666666666666,
              "#ed7953"
             ],
             [
              0.7777777777777778,
              "#fb9f3a"
             ],
             [
              0.8888888888888888,
              "#fdca26"
             ],
             [
              1,
              "#f0f921"
             ]
            ],
            "type": "heatmap"
           }
          ],
          "heatmapgl": [
           {
            "colorbar": {
             "outlinewidth": 0,
             "ticks": ""
            },
            "colorscale": [
             [
              0,
              "#0d0887"
             ],
             [
              0.1111111111111111,
              "#46039f"
             ],
             [
              0.2222222222222222,
              "#7201a8"
             ],
             [
              0.3333333333333333,
              "#9c179e"
             ],
             [
              0.4444444444444444,
              "#bd3786"
             ],
             [
              0.5555555555555556,
              "#d8576b"
             ],
             [
              0.6666666666666666,
              "#ed7953"
             ],
             [
              0.7777777777777778,
              "#fb9f3a"
             ],
             [
              0.8888888888888888,
              "#fdca26"
             ],
             [
              1,
              "#f0f921"
             ]
            ],
            "type": "heatmapgl"
           }
          ],
          "histogram": [
           {
            "marker": {
             "pattern": {
              "fillmode": "overlay",
              "size": 10,
              "solidity": 0.2
             }
            },
            "type": "histogram"
           }
          ],
          "histogram2d": [
           {
            "colorbar": {
             "outlinewidth": 0,
             "ticks": ""
            },
            "colorscale": [
             [
              0,
              "#0d0887"
             ],
             [
              0.1111111111111111,
              "#46039f"
             ],
             [
              0.2222222222222222,
              "#7201a8"
             ],
             [
              0.3333333333333333,
              "#9c179e"
             ],
             [
              0.4444444444444444,
              "#bd3786"
             ],
             [
              0.5555555555555556,
              "#d8576b"
             ],
             [
              0.6666666666666666,
              "#ed7953"
             ],
             [
              0.7777777777777778,
              "#fb9f3a"
             ],
             [
              0.8888888888888888,
              "#fdca26"
             ],
             [
              1,
              "#f0f921"
             ]
            ],
            "type": "histogram2d"
           }
          ],
          "histogram2dcontour": [
           {
            "colorbar": {
             "outlinewidth": 0,
             "ticks": ""
            },
            "colorscale": [
             [
              0,
              "#0d0887"
             ],
             [
              0.1111111111111111,
              "#46039f"
             ],
             [
              0.2222222222222222,
              "#7201a8"
             ],
             [
              0.3333333333333333,
              "#9c179e"
             ],
             [
              0.4444444444444444,
              "#bd3786"
             ],
             [
              0.5555555555555556,
              "#d8576b"
             ],
             [
              0.6666666666666666,
              "#ed7953"
             ],
             [
              0.7777777777777778,
              "#fb9f3a"
             ],
             [
              0.8888888888888888,
              "#fdca26"
             ],
             [
              1,
              "#f0f921"
             ]
            ],
            "type": "histogram2dcontour"
           }
          ],
          "mesh3d": [
           {
            "colorbar": {
             "outlinewidth": 0,
             "ticks": ""
            },
            "type": "mesh3d"
           }
          ],
          "parcoords": [
           {
            "line": {
             "colorbar": {
              "outlinewidth": 0,
              "ticks": ""
             }
            },
            "type": "parcoords"
           }
          ],
          "pie": [
           {
            "automargin": true,
            "type": "pie"
           }
          ],
          "scatter": [
           {
            "fillpattern": {
             "fillmode": "overlay",
             "size": 10,
             "solidity": 0.2
            },
            "type": "scatter"
           }
          ],
          "scatter3d": [
           {
            "line": {
             "colorbar": {
              "outlinewidth": 0,
              "ticks": ""
             }
            },
            "marker": {
             "colorbar": {
              "outlinewidth": 0,
              "ticks": ""
             }
            },
            "type": "scatter3d"
           }
          ],
          "scattercarpet": [
           {
            "marker": {
             "colorbar": {
              "outlinewidth": 0,
              "ticks": ""
             }
            },
            "type": "scattercarpet"
           }
          ],
          "scattergeo": [
           {
            "marker": {
             "colorbar": {
              "outlinewidth": 0,
              "ticks": ""
             }
            },
            "type": "scattergeo"
           }
          ],
          "scattergl": [
           {
            "marker": {
             "colorbar": {
              "outlinewidth": 0,
              "ticks": ""
             }
            },
            "type": "scattergl"
           }
          ],
          "scattermapbox": [
           {
            "marker": {
             "colorbar": {
              "outlinewidth": 0,
              "ticks": ""
             }
            },
            "type": "scattermapbox"
           }
          ],
          "scatterpolar": [
           {
            "marker": {
             "colorbar": {
              "outlinewidth": 0,
              "ticks": ""
             }
            },
            "type": "scatterpolar"
           }
          ],
          "scatterpolargl": [
           {
            "marker": {
             "colorbar": {
              "outlinewidth": 0,
              "ticks": ""
             }
            },
            "type": "scatterpolargl"
           }
          ],
          "scatterternary": [
           {
            "marker": {
             "colorbar": {
              "outlinewidth": 0,
              "ticks": ""
             }
            },
            "type": "scatterternary"
           }
          ],
          "surface": [
           {
            "colorbar": {
             "outlinewidth": 0,
             "ticks": ""
            },
            "colorscale": [
             [
              0,
              "#0d0887"
             ],
             [
              0.1111111111111111,
              "#46039f"
             ],
             [
              0.2222222222222222,
              "#7201a8"
             ],
             [
              0.3333333333333333,
              "#9c179e"
             ],
             [
              0.4444444444444444,
              "#bd3786"
             ],
             [
              0.5555555555555556,
              "#d8576b"
             ],
             [
              0.6666666666666666,
              "#ed7953"
             ],
             [
              0.7777777777777778,
              "#fb9f3a"
             ],
             [
              0.8888888888888888,
              "#fdca26"
             ],
             [
              1,
              "#f0f921"
             ]
            ],
            "type": "surface"
           }
          ],
          "table": [
           {
            "cells": {
             "fill": {
              "color": "#EBF0F8"
             },
             "line": {
              "color": "white"
             }
            },
            "header": {
             "fill": {
              "color": "#C8D4E3"
             },
             "line": {
              "color": "white"
             }
            },
            "type": "table"
           }
          ]
         },
         "layout": {
          "annotationdefaults": {
           "arrowcolor": "#2a3f5f",
           "arrowhead": 0,
           "arrowwidth": 1
          },
          "autotypenumbers": "strict",
          "coloraxis": {
           "colorbar": {
            "outlinewidth": 0,
            "ticks": ""
           }
          },
          "colorscale": {
           "diverging": [
            [
             0,
             "#8e0152"
            ],
            [
             0.1,
             "#c51b7d"
            ],
            [
             0.2,
             "#de77ae"
            ],
            [
             0.3,
             "#f1b6da"
            ],
            [
             0.4,
             "#fde0ef"
            ],
            [
             0.5,
             "#f7f7f7"
            ],
            [
             0.6,
             "#e6f5d0"
            ],
            [
             0.7,
             "#b8e186"
            ],
            [
             0.8,
             "#7fbc41"
            ],
            [
             0.9,
             "#4d9221"
            ],
            [
             1,
             "#276419"
            ]
           ],
           "sequential": [
            [
             0,
             "#0d0887"
            ],
            [
             0.1111111111111111,
             "#46039f"
            ],
            [
             0.2222222222222222,
             "#7201a8"
            ],
            [
             0.3333333333333333,
             "#9c179e"
            ],
            [
             0.4444444444444444,
             "#bd3786"
            ],
            [
             0.5555555555555556,
             "#d8576b"
            ],
            [
             0.6666666666666666,
             "#ed7953"
            ],
            [
             0.7777777777777778,
             "#fb9f3a"
            ],
            [
             0.8888888888888888,
             "#fdca26"
            ],
            [
             1,
             "#f0f921"
            ]
           ],
           "sequentialminus": [
            [
             0,
             "#0d0887"
            ],
            [
             0.1111111111111111,
             "#46039f"
            ],
            [
             0.2222222222222222,
             "#7201a8"
            ],
            [
             0.3333333333333333,
             "#9c179e"
            ],
            [
             0.4444444444444444,
             "#bd3786"
            ],
            [
             0.5555555555555556,
             "#d8576b"
            ],
            [
             0.6666666666666666,
             "#ed7953"
            ],
            [
             0.7777777777777778,
             "#fb9f3a"
            ],
            [
             0.8888888888888888,
             "#fdca26"
            ],
            [
             1,
             "#f0f921"
            ]
           ]
          },
          "colorway": [
           "#636efa",
           "#EF553B",
           "#00cc96",
           "#ab63fa",
           "#FFA15A",
           "#19d3f3",
           "#FF6692",
           "#B6E880",
           "#FF97FF",
           "#FECB52"
          ],
          "font": {
           "color": "#2a3f5f"
          },
          "geo": {
           "bgcolor": "white",
           "lakecolor": "white",
           "landcolor": "#E5ECF6",
           "showlakes": true,
           "showland": true,
           "subunitcolor": "white"
          },
          "hoverlabel": {
           "align": "left"
          },
          "hovermode": "closest",
          "mapbox": {
           "style": "light"
          },
          "paper_bgcolor": "white",
          "plot_bgcolor": "#E5ECF6",
          "polar": {
           "angularaxis": {
            "gridcolor": "white",
            "linecolor": "white",
            "ticks": ""
           },
           "bgcolor": "#E5ECF6",
           "radialaxis": {
            "gridcolor": "white",
            "linecolor": "white",
            "ticks": ""
           }
          },
          "scene": {
           "xaxis": {
            "backgroundcolor": "#E5ECF6",
            "gridcolor": "white",
            "gridwidth": 2,
            "linecolor": "white",
            "showbackground": true,
            "ticks": "",
            "zerolinecolor": "white"
           },
           "yaxis": {
            "backgroundcolor": "#E5ECF6",
            "gridcolor": "white",
            "gridwidth": 2,
            "linecolor": "white",
            "showbackground": true,
            "ticks": "",
            "zerolinecolor": "white"
           },
           "zaxis": {
            "backgroundcolor": "#E5ECF6",
            "gridcolor": "white",
            "gridwidth": 2,
            "linecolor": "white",
            "showbackground": true,
            "ticks": "",
            "zerolinecolor": "white"
           }
          },
          "shapedefaults": {
           "line": {
            "color": "#2a3f5f"
           }
          },
          "ternary": {
           "aaxis": {
            "gridcolor": "white",
            "linecolor": "white",
            "ticks": ""
           },
           "baxis": {
            "gridcolor": "white",
            "linecolor": "white",
            "ticks": ""
           },
           "bgcolor": "#E5ECF6",
           "caxis": {
            "gridcolor": "white",
            "linecolor": "white",
            "ticks": ""
           }
          },
          "title": {
           "x": 0.05
          },
          "xaxis": {
           "automargin": true,
           "gridcolor": "white",
           "linecolor": "white",
           "ticks": "",
           "title": {
            "standoff": 15
           },
           "zerolinecolor": "white",
           "zerolinewidth": 2
          },
          "yaxis": {
           "automargin": true,
           "gridcolor": "white",
           "linecolor": "white",
           "ticks": "",
           "title": {
            "standoff": 15
           },
           "zerolinecolor": "white",
           "zerolinewidth": 2
          }
         }
        },
        "title": {
         "text": "LLM-generated codes"
        },
        "xaxis": {
         "anchor": "y",
         "autorange": true,
         "domain": [
          0,
          1
         ],
         "range": [
          -0.5,
          10.5
         ],
         "tickangle": -45,
         "title": {
          "text": "Code"
         },
         "type": "category"
        },
        "yaxis": {
         "anchor": "x",
         "autorange": true,
         "domain": [
          0,
          1
         ],
         "range": [
          0,
          10.526315789473685
         ],
         "title": {
          "text": "Count"
         },
         "type": "linear"
        }
       }
      },
      "image/png": "[encoded data removed]",
      "text/html": [
       "<div>                            <div id=\"c1c54f91-dbde-4375-a2ad-cb2fff127081\" class=\"plotly-graph-div\" style=\"height:525px; width:100%;\"></div>            <script type=\"text/javascript\">                require([\"plotly\"], function(Plotly) {                    window.PLOTLYENV=window.PLOTLYENV || {};                                    if (document.getElementById(\"c1c54f91-dbde-4375-a2ad-cb2fff127081\")) {                    Plotly.newPlot(                        \"c1c54f91-dbde-4375-a2ad-cb2fff127081\",                        [{\"alignmentgroup\":\"True\",\"hovertemplate\":\"Code=%{x}\\u003cbr\\u003eCount=%{y}\\u003cextra\\u003e\\u003c\\u002fextra\\u003e\",\"legendgroup\":\"\",\"marker\":{\"color\":\"#636efa\",\"pattern\":{\"shape\":\"\"}},\"name\":\"\",\"offsetgroup\":\"\",\"orientation\":\"v\",\"showlegend\":false,\"textposition\":\"auto\",\"x\":[\"awe\",\"connection\",\"danger\",\"determination\",\"scale\",\"realization\",\"surprise\",\"reflection\",\"humor\",\"anticipation\",\"immersion\"],\"xaxis\":\"x\",\"y\":[10,8,4,4,3,2,2,2,1,1,1],\"yaxis\":\"y\",\"type\":\"bar\"}],                        {\"template\":{\"data\":{\"histogram2dcontour\":[{\"type\":\"histogram2dcontour\",\"colorbar\":{\"outlinewidth\":0,\"ticks\":\"\"},\"colorscale\":[[0.0,\"#0d0887\"],[0.1111111111111111,\"#46039f\"],[0.2222222222222222,\"#7201a8\"],[0.3333333333333333,\"#9c179e\"],[0.4444444444444444,\"#bd3786\"],[0.5555555555555556,\"#d8576b\"],[0.6666666666666666,\"#ed7953\"],[0.7777777777777778,\"#fb9f3a\"],[0.8888888888888888,\"#fdca26\"],[1.0,\"#f0f921\"]]}],\"choropleth\":[{\"type\":\"choropleth\",\"colorbar\":{\"outlinewidth\":0,\"ticks\":\"\"}}],\"histogram2d\":[{\"type\":\"histogram2d\",\"colorbar\":{\"outlinewidth\":0,\"ticks\":\"\"},\"colorscale\":[[0.0,\"#0d0887\"],[0.1111111111111111,\"#46039f\"],[0.2222222222222222,\"#7201a8\"],[0.3333333333333333,\"#9c179e\"],[0.4444444444444444,\"#bd3786\"],[0.5555555555555556,\"#d8576b\"],[0.6666666666666666,\"#ed7953\"],[0.7777777777777778,\"#fb9f3a\"],[0.8888888888888888,\"#fdca26\"],[1.0,\"#f0f921\"]]}],\"heatmap\":[{\"type\":\"heatmap\",\"colorbar\":{\"outlinewidth\":0,\"ticks\":\"\"},\"colorscale\":[[0.0,\"#0d0887\"],[0.1111111111111111,\"#46039f\"],[0.2222222222222222,\"#7201a8\"],[0.3333333333333333,\"#9c179e\"],[0.4444444444444444,\"#bd3786\"],[0.5555555555555556,\"#d8576b\"],[0.6666666666666666,\"#ed7953\"],[0.7777777777777778,\"#fb9f3a\"],[0.8888888888888888,\"#fdca26\"],[1.0,\"#f0f921\"]]}],\"heatmapgl\":[{\"type\":\"heatmapgl\",\"colorbar\":{\"outlinewidth\":0,\"ticks\":\"\"},\"colorscale\":[[0.0,\"#0d0887\"],[0.1111111111111111,\"#46039f\"],[0.2222222222222222,\"#7201a8\"],[0.3333333333333333,\"#9c179e\"],[0.4444444444444444,\"#bd3786\"],[0.5555555555555556,\"#d8576b\"],[0.6666666666666666,\"#ed7953\"],[0.7777777777777778,\"#fb9f3a\"],[0.8888888888888888,\"#fdca26\"],[1.0,\"#f0f921\"]]}],\"contourcarpet\":[{\"type\":\"contourcarpet\",\"colorbar\":{\"outlinewidth\":0,\"ticks\":\"\"}}],\"contour\":[{\"type\":\"contour\",\"colorbar\":{\"outlinewidth\":0,\"ticks\":\"\"},\"colorscale\":[[0.0,\"#0d0887\"],[0.1111111111111111,\"#46039f\"],[0.2222222222222222,\"#7201a8\"],[0.3333333333333333,\"#9c179e\"],[0.4444444444444444,\"#bd3786\"],[0.5555555555555556,\"#d8576b\"],[0.6666666666666666,\"#ed7953\"],[0.7777777777777778,\"#fb9f3a\"],[0.8888888888888888,\"#fdca26\"],[1.0,\"#f0f921\"]]}],\"surface\":[{\"type\":\"surface\",\"colorbar\":{\"outlinewidth\":0,\"ticks\":\"\"},\"colorscale\":[[0.0,\"#0d0887\"],[0.1111111111111111,\"#46039f\"],[0.2222222222222222,\"#7201a8\"],[0.3333333333333333,\"#9c179e\"],[0.4444444444444444,\"#bd3786\"],[0.5555555555555556,\"#d8576b\"],[0.6666666666666666,\"#ed7953\"],[0.7777777777777778,\"#fb9f3a\"],[0.8888888888888888,\"#fdca26\"],[1.0,\"#f0f921\"]]}],\"mesh3d\":[{\"type\":\"mesh3d\",\"colorbar\":{\"outlinewidth\":0,\"ticks\":\"\"}}],\"scatter\":[{\"fillpattern\":{\"fillmode\":\"overlay\",\"size\":10,\"solidity\":0.2},\"type\":\"scatter\"}],\"parcoords\":[{\"type\":\"parcoords\",\"line\":{\"colorbar\":{\"outlinewidth\":0,\"ticks\":\"\"}}}],\"scatterpolargl\":[{\"type\":\"scatterpolargl\",\"marker\":{\"colorbar\":{\"outlinewidth\":0,\"ticks\":\"\"}}}],\"bar\":[{\"error_x\":{\"color\":\"#2a3f5f\"},\"error_y\":{\"color\":\"#2a3f5f\"},\"marker\":{\"line\":{\"color\":\"#E5ECF6\",\"width\":0.5},\"pattern\":{\"fillmode\":\"overlay\",\"size\":10,\"solidity\":0.2}},\"type\":\"bar\"}],\"scattergeo\":[{\"type\":\"scattergeo\",\"marker\":{\"colorbar\":{\"outlinewidth\":0,\"ticks\":\"\"}}}],\"scatterpolar\":[{\"type\":\"scatterpolar\",\"marker\":{\"colorbar\":{\"outlinewidth\":0,\"ticks\":\"\"}}}],\"histogram\":[{\"marker\":{\"pattern\":{\"fillmode\":\"overlay\",\"size\":10,\"solidity\":0.2}},\"type\":\"histogram\"}],\"scattergl\":[{\"type\":\"scattergl\",\"marker\":{\"colorbar\":{\"outlinewidth\":0,\"ticks\":\"\"}}}],\"scatter3d\":[{\"type\":\"scatter3d\",\"line\":{\"colorbar\":{\"outlinewidth\":0,\"ticks\":\"\"}},\"marker\":{\"colorbar\":{\"outlinewidth\":0,\"ticks\":\"\"}}}],\"scattermapbox\":[{\"type\":\"scattermapbox\",\"marker\":{\"colorbar\":{\"outlinewidth\":0,\"ticks\":\"\"}}}],\"scatterternary\":[{\"type\":\"scatterternary\",\"marker\":{\"colorbar\":{\"outlinewidth\":0,\"ticks\":\"\"}}}],\"scattercarpet\":[{\"type\":\"scattercarpet\",\"marker\":{\"colorbar\":{\"outlinewidth\":0,\"ticks\":\"\"}}}],\"carpet\":[{\"aaxis\":{\"endlinecolor\":\"#2a3f5f\",\"gridcolor\":\"white\",\"linecolor\":\"white\",\"minorgridcolor\":\"white\",\"startlinecolor\":\"#2a3f5f\"},\"baxis\":{\"endlinecolor\":\"#2a3f5f\",\"gridcolor\":\"white\",\"linecolor\":\"white\",\"minorgridcolor\":\"white\",\"startlinecolor\":\"#2a3f5f\"},\"type\":\"carpet\"}],\"table\":[{\"cells\":{\"fill\":{\"color\":\"#EBF0F8\"},\"line\":{\"color\":\"white\"}},\"header\":{\"fill\":{\"color\":\"#C8D4E3\"},\"line\":{\"color\":\"white\"}},\"type\":\"table\"}],\"barpolar\":[{\"marker\":{\"line\":{\"color\":\"#E5ECF6\",\"width\":0.5},\"pattern\":{\"fillmode\":\"overlay\",\"size\":10,\"solidity\":0.2}},\"type\":\"barpolar\"}],\"pie\":[{\"automargin\":true,\"type\":\"pie\"}]},\"layout\":{\"autotypenumbers\":\"strict\",\"colorway\":[\"#636efa\",\"#EF553B\",\"#00cc96\",\"#ab63fa\",\"#FFA15A\",\"#19d3f3\",\"#FF6692\",\"#B6E880\",\"#FF97FF\",\"#FECB52\"],\"font\":{\"color\":\"#2a3f5f\"},\"hovermode\":\"closest\",\"hoverlabel\":{\"align\":\"left\"},\"paper_bgcolor\":\"white\",\"plot_bgcolor\":\"#E5ECF6\",\"polar\":{\"bgcolor\":\"#E5ECF6\",\"angularaxis\":{\"gridcolor\":\"white\",\"linecolor\":\"white\",\"ticks\":\"\"},\"radialaxis\":{\"gridcolor\":\"white\",\"linecolor\":\"white\",\"ticks\":\"\"}},\"ternary\":{\"bgcolor\":\"#E5ECF6\",\"aaxis\":{\"gridcolor\":\"white\",\"linecolor\":\"white\",\"ticks\":\"\"},\"baxis\":{\"gridcolor\":\"white\",\"linecolor\":\"white\",\"ticks\":\"\"},\"caxis\":{\"gridcolor\":\"white\",\"linecolor\":\"white\",\"ticks\":\"\"}},\"coloraxis\":{\"colorbar\":{\"outlinewidth\":0,\"ticks\":\"\"}},\"colorscale\":{\"sequential\":[[0.0,\"#0d0887\"],[0.1111111111111111,\"#46039f\"],[0.2222222222222222,\"#7201a8\"],[0.3333333333333333,\"#9c179e\"],[0.4444444444444444,\"#bd3786\"],[0.5555555555555556,\"#d8576b\"],[0.6666666666666666,\"#ed7953\"],[0.7777777777777778,\"#fb9f3a\"],[0.8888888888888888,\"#fdca26\"],[1.0,\"#f0f921\"]],\"sequentialminus\":[[0.0,\"#0d0887\"],[0.1111111111111111,\"#46039f\"],[0.2222222222222222,\"#7201a8\"],[0.3333333333333333,\"#9c179e\"],[0.4444444444444444,\"#bd3786\"],[0.5555555555555556,\"#d8576b\"],[0.6666666666666666,\"#ed7953\"],[0.7777777777777778,\"#fb9f3a\"],[0.8888888888888888,\"#fdca26\"],[1.0,\"#f0f921\"]],\"diverging\":[[0,\"#8e0152\"],[0.1,\"#c51b7d\"],[0.2,\"#de77ae\"],[0.3,\"#f1b6da\"],[0.4,\"#fde0ef\"],[0.5,\"#f7f7f7\"],[0.6,\"#e6f5d0\"],[0.7,\"#b8e186\"],[0.8,\"#7fbc41\"],[0.9,\"#4d9221\"],[1,\"#276419\"]]},\"xaxis\":{\"gridcolor\":\"white\",\"linecolor\":\"white\",\"ticks\":\"\",\"title\":{\"standoff\":15},\"zerolinecolor\":\"white\",\"automargin\":true,\"zerolinewidth\":2},\"yaxis\":{\"gridcolor\":\"white\",\"linecolor\":\"white\",\"ticks\":\"\",\"title\":{\"standoff\":15},\"zerolinecolor\":\"white\",\"automargin\":true,\"zerolinewidth\":2},\"scene\":{\"xaxis\":{\"backgroundcolor\":\"#E5ECF6\",\"gridcolor\":\"white\",\"linecolor\":\"white\",\"showbackground\":true,\"ticks\":\"\",\"zerolinecolor\":\"white\",\"gridwidth\":2},\"yaxis\":{\"backgroundcolor\":\"#E5ECF6\",\"gridcolor\":\"white\",\"linecolor\":\"white\",\"showbackground\":true,\"ticks\":\"\",\"zerolinecolor\":\"white\",\"gridwidth\":2},\"zaxis\":{\"backgroundcolor\":\"#E5ECF6\",\"gridcolor\":\"white\",\"linecolor\":\"white\",\"showbackground\":true,\"ticks\":\"\",\"zerolinecolor\":\"white\",\"gridwidth\":2}},\"shapedefaults\":{\"line\":{\"color\":\"#2a3f5f\"}},\"annotationdefaults\":{\"arrowcolor\":\"#2a3f5f\",\"arrowhead\":0,\"arrowwidth\":1},\"geo\":{\"bgcolor\":\"white\",\"landcolor\":\"#E5ECF6\",\"subunitcolor\":\"white\",\"showland\":true,\"showlakes\":true,\"lakecolor\":\"white\"},\"title\":{\"x\":0.05},\"mapbox\":{\"style\":\"light\"}}},\"xaxis\":{\"anchor\":\"y\",\"domain\":[0.0,1.0],\"title\":{\"text\":\"Code\"},\"tickangle\":-45},\"yaxis\":{\"anchor\":\"x\",\"domain\":[0.0,1.0],\"title\":{\"text\":\"Count\"}},\"legend\":{\"tracegroupgap\":0},\"title\":{\"text\":\"LLM-generated codes\"},\"barmode\":\"relative\"},                        {\"responsive\": true}                    ).then(function(){\n",
       "                            \n",
       "var gd = document.getElementById('c1c54f91-dbde-4375-a2ad-cb2fff127081');\n",
       "var x = new MutationObserver(function (mutations, observer) {{\n",
       "        var display = window.getComputedStyle(gd).display;\n",
       "        if (!display || display === 'none') {{\n",
       "            console.log([gd, 'removed!']);\n",
       "            Plotly.purge(gd);\n",
       "            observer.disconnect();\n",
       "        }}\n",
       "}});\n",
       "\n",
       "// Listen for the removal of the full notebook cells\n",
       "var notebookContainer = gd.closest('#notebook-container');\n",
       "if (notebookContainer) {{\n",
       "    x.observe(notebookContainer, {childList: true});\n",
       "}}\n",
       "\n",
       "// Listen for the clearing of the current output cell\n",
       "var outputEl = gd.closest('.output');\n",
       "if (outputEl) {{\n",
       "    x.observe(outputEl, {childList: true});\n",
       "}}\n",
       "\n",
       "                        })                };                });            </script>        </div>"
      ]
     },
     "metadata": {},
     "output_type": "display_data"
    }
   ],
   "source": [
    "# @title\n",
    "def plot_generated_codes(code_highlights, title):\n",
    "    code_counts = [(code, len(highlights)) for code, highlights in code_highlights.items()]\n",
    "    df_codes = pd.DataFrame(code_counts, columns=['Code', 'Count'])\n",
    "    df_codes = df_codes.sort_values(by='Count', ascending=False).reset_index(drop=True)\n",
    "\n",
    "    # Create a vertical bar plot using Plotly with angled x-axis labels\n",
    "    fig = px.bar(df_codes, x='Code', y='Count', title=title)\n",
    "\n",
    "    # Update layout to angle x-axis labels at 45 degrees\n",
    "    fig.update_layout(xaxis_tickangle=-45)\n",
    "    fig.show()\n",
    "\n",
    "# Parse all codes and highlights in LLM output\n",
    "code_highlights = llmcode.get_codes_and_highlights(coded_texts)\n",
    "plot_generated_codes(code_highlights, 'LLM-generated codes')"
   ]
  },
  {
   "cell_type": "markdown",
   "metadata": {
    "id": "XOEqcrZwXPdT"
   },
   "source": [
    "In order to compare the human- and LLM-generated codes in more detail, let's visualize the codes with the help of _word embeddings_, which capture the meaning of words and can therefore be used to explore code similarities. We will use OpenAI's embedding models for this. Word embeddings are typically very high-dimensional vectors, so we will reduce the dimensionality of the vectors to two in order to plot them onto a two-dimensional plane.\n",
    "\n",
    "We create an interactive visualization of the code embeddings using Plotly, so that you can hover over the plot to reveal the code name and an example of an associated highlight from the texts. The size of each marker corresponds to the total number of highlights for that code in the texts. The visualization contains markers for three kinds of codes:\n",
    "* LLM code (new): A code entirely generated by the LLM.\n",
    "* LLM code (few-shot): A code generated by the LLM that was included in the few-shot examples given to it.\n",
    "* Human code: A code in the human-annotated input texts, for comparison.\n",
    "\n",
    "Note that there is likely a lot of overlap between the markers as both LLM- and human-annotated codes are plotted, so be sure to hover your mouse over the plot to view details of any overlapping markers."
   ]
  },
  {
   "cell_type": "code",
   "execution_count": 18,
   "metadata": {
    "cellView": "form",
    "id": "IlMAD7lVYfRS"
   },
   "outputs": [
    {
     "data": {
      "application/vnd.plotly.v1+json": {
       "config": {
        "plotlyServerURL": "https://plot.ly"
       },
       "data": [
        {
         "hovertemplate": "<b>%{hovertext}</b><br><br>Color=LLM code (new)<br>x=%{x}<br>y=%{y}<br>Size=%{marker.size}<extra></extra>",
         "hovertext": [
          "humor (1)</br></br>\"Then I took an arrow in the… look, adventuring is dangerous</br>ok, can we leave it at that?\"",
          "danger (4)</br></br>\"Then I took an arrow in the… look, adventuring is dangerous</br>ok, can we leave it at that?\"",
          "awe (10)</br></br>\"I had no idea what to expect and then bam… that view of that</br>huge purple expanse.\"",
          "connection (8)</br></br>\"reminded me of the underground eco system on Skyrim where</br>the snow elves recluses to.\"",
          "determination (4)</br></br>\"Oh, yeah.\"",
          "anticipation (1)</br></br>\"The moment I saw that elevator my first thought was “I’m</br>going to end up in Blackreach.”\"",
          "reflection (2)</br></br>\"I told myself to save that opinion for the morning when I</br>have some rest and can think clearly. The opinion stayed\"",
          "immersion (1)</br></br>\"I was alone in my room almost drooling because of the</br>beautiful world opening up to me!\""
         ],
         "legendgroup": "LLM code (new)",
         "marker": {
          "color": "#636efa",
          "size": [
           0.1,
           0.4,
           1,
           0.8,
           0.4,
           0.1,
           0.2,
           0.1
          ],
          "sizemode": "area",
          "sizeref": 0.0025,
          "symbol": "circle"
         },
         "mode": "markers",
         "name": "LLM code (new)",
         "orientation": "v",
         "showlegend": true,
         "type": "scatter",
         "x": [
          7.787478446960449,
          5.471713066101074,
          6.581779956817627,
          7.487159729003906,
          6.7629289627075195,
          5.7390851974487305,
          7.504757404327393,
          7.202803611755371
         ],
         "xaxis": "x",
         "y": [
          14.50378131866455,
          15.069863319396973,
          15.198504447937012,
          13.692278861999512,
          13.425135612487793,
          13.915502548217773,
          12.467656135559082,
          12.6257963180542
         ],
         "yaxis": "y"
        },
        {
         "hovertemplate": "<b>%{hovertext}</b><br><br>Color=LLM code (few-shot)<br>x=%{x}<br>y=%{y}<br>Size=%{marker.size}<extra></extra>",
         "hovertext": [
          "surprise (2)</br></br>\"I had no idea what to expect and then bam… that view of that</br>huge purple expanse.\"",
          "realization (2)</br></br>\"That’s when I realized this game was much larger and more</br>diverse than I had ever imagined\"",
          "scale (3)</br></br>\"That’s when I realized this game was much larger and more</br>diverse than I had ever imagined\""
         ],
         "legendgroup": "LLM code (few-shot)",
         "marker": {
          "color": "#EF553B",
          "size": [
           0.2,
           0.2,
           0.3
          ],
          "sizemode": "area",
          "sizeref": 0.0025,
          "symbol": "circle"
         },
         "mode": "markers",
         "name": "LLM code (few-shot)",
         "orientation": "v",
         "showlegend": true,
         "type": "scatter",
         "x": [
          6.836038112640381,
          6.9169602394104,
          6.676916122436523
         ],
         "xaxis": "x",
         "y": [
          16.062467575073242,
          13.814900398254395,
          14.369098663330078
         ],
         "yaxis": "y"
        },
        {
         "hovertemplate": "<b>%{hovertext}</b><br><br>Color=Human code<br>x=%{x}<br>y=%{y}<br>Size=%{marker.size}<extra></extra>",
         "hovertext": [
          "uncertainty (1)</br></br>\"I had no idea what to expect and then bam…\"",
          "surprise (4)</br></br>\"I had no idea what to expect and then bam…\"",
          "violence (1)</br></br>\"seeing your character looking like a pin cushion\"",
          "realization (1)</br></br>\"“Oh Fuck, this game is even bigger than I thought”\"",
          "scale (2)</br></br>\"seeing the vast expanse of Siofra River as I descended the</br>elevator made my jaw hit the fucking floor\"",
          "awe (5)</br></br>\"seeing the vast expanse of Siofra River as I descended the</br>elevator made my jaw hit the fucking floor\"",
          "beauty (2)</br></br>\"the most beautiful area in the game\"",
          "dialogue (1)</br></br>\"Best dialogue in the game\"",
          "shared experience (1)</br></br>\"Kept telling my friends about that experience.\"",
          "shock (2)</br></br>\"my mouth just. Dropped. I was so in awe I just sat at my</br>desk for 5 minutes before even going back to the game.\"",
          "anticipation (1)</br></br>\"the absolute sheer scale of exploration being laid bare</br>before me as if to accent I still had much more to explore</br>than I thought in the world\"",
          "world (1)</br></br>\"I never had the cartoon ‘jaw-drop’ until that moment. I was</br>alone in my room almost drooling because of the beautiful</br>world opening up to me!\""
         ],
         "legendgroup": "Human code",
         "marker": {
          "color": "#00cc96",
          "size": [
           0.1,
           0.4,
           0.1,
           0.1,
           0.2,
           0.5,
           0.2,
           0.1,
           0.1,
           0.2,
           0.1,
           0.1
          ],
          "sizemode": "area",
          "sizeref": 0.0025,
          "symbol": "circle"
         },
         "mode": "markers",
         "name": "Human code",
         "orientation": "v",
         "showlegend": true,
         "type": "scatter",
         "x": [
          5.3309783935546875,
          6.836038112640381,
          5.873904705047607,
          6.9169602394104,
          6.676916122436523,
          6.581779956817627,
          7.094238758087158,
          7.865597724914551,
          7.9762396812438965,
          7.227331638336182,
          5.7390851974487305,
          7.244256019592285
         ],
         "xaxis": "x",
         "y": [
          14.186749458312988,
          16.062467575073242,
          14.905714988708496,
          13.814900398254395,
          14.369098663330078,
          15.198504447937012,
          14.932065963745117,
          12.783164024353027,
          13.83248233795166,
          15.878965377807617,
          13.915502548217773,
          14.361113548278809
         ],
         "yaxis": "y"
        }
       ],
       "layout": {
        "height": 800,
        "legend": {
         "itemsizing": "constant",
         "title": {
          "text": "Color"
         },
         "tracegroupgap": 0
        },
        "template": {
         "data": {
          "bar": [
           {
            "error_x": {
             "color": "#2a3f5f"
            },
            "error_y": {
             "color": "#2a3f5f"
            },
            "marker": {
             "line": {
              "color": "#E5ECF6",
              "width": 0.5
             },
             "pattern": {
              "fillmode": "overlay",
              "size": 10,
              "solidity": 0.2
             }
            },
            "type": "bar"
           }
          ],
          "barpolar": [
           {
            "marker": {
             "line": {
              "color": "#E5ECF6",
              "width": 0.5
             },
             "pattern": {
              "fillmode": "overlay",
              "size": 10,
              "solidity": 0.2
             }
            },
            "type": "barpolar"
           }
          ],
          "carpet": [
           {
            "aaxis": {
             "endlinecolor": "#2a3f5f",
             "gridcolor": "white",
             "linecolor": "white",
             "minorgridcolor": "white",
             "startlinecolor": "#2a3f5f"
            },
            "baxis": {
             "endlinecolor": "#2a3f5f",
             "gridcolor": "white",
             "linecolor": "white",
             "minorgridcolor": "white",
             "startlinecolor": "#2a3f5f"
            },
            "type": "carpet"
           }
          ],
          "choropleth": [
           {
            "colorbar": {
             "outlinewidth": 0,
             "ticks": ""
            },
            "type": "choropleth"
           }
          ],
          "contour": [
           {
            "colorbar": {
             "outlinewidth": 0,
             "ticks": ""
            },
            "colorscale": [
             [
              0,
              "#0d0887"
             ],
             [
              0.1111111111111111,
              "#46039f"
             ],
             [
              0.2222222222222222,
              "#7201a8"
             ],
             [
              0.3333333333333333,
              "#9c179e"
             ],
             [
              0.4444444444444444,
              "#bd3786"
             ],
             [
              0.5555555555555556,
              "#d8576b"
             ],
             [
              0.6666666666666666,
              "#ed7953"
             ],
             [
              0.7777777777777778,
              "#fb9f3a"
             ],
             [
              0.8888888888888888,
              "#fdca26"
             ],
             [
              1,
              "#f0f921"
             ]
            ],
            "type": "contour"
           }
          ],
          "contourcarpet": [
           {
            "colorbar": {
             "outlinewidth": 0,
             "ticks": ""
            },
            "type": "contourcarpet"
           }
          ],
          "heatmap": [
           {
            "colorbar": {
             "outlinewidth": 0,
             "ticks": ""
            },
            "colorscale": [
             [
              0,
              "#0d0887"
             ],
             [
              0.1111111111111111,
              "#46039f"
             ],
             [
              0.2222222222222222,
              "#7201a8"
             ],
             [
              0.3333333333333333,
              "#9c179e"
             ],
             [
              0.4444444444444444,
              "#bd3786"
             ],
             [
              0.5555555555555556,
              "#d8576b"
             ],
             [
              0.6666666666666666,
              "#ed7953"
             ],
             [
              0.7777777777777778,
              "#fb9f3a"
             ],
             [
              0.8888888888888888,
              "#fdca26"
             ],
             [
              1,
              "#f0f921"
             ]
            ],
            "type": "heatmap"
           }
          ],
          "heatmapgl": [
           {
            "colorbar": {
             "outlinewidth": 0,
             "ticks": ""
            },
            "colorscale": [
             [
              0,
              "#0d0887"
             ],
             [
              0.1111111111111111,
              "#46039f"
             ],
             [
              0.2222222222222222,
              "#7201a8"
             ],
             [
              0.3333333333333333,
              "#9c179e"
             ],
             [
              0.4444444444444444,
              "#bd3786"
             ],
             [
              0.5555555555555556,
              "#d8576b"
             ],
             [
              0.6666666666666666,
              "#ed7953"
             ],
             [
              0.7777777777777778,
              "#fb9f3a"
             ],
             [
              0.8888888888888888,
              "#fdca26"
             ],
             [
              1,
              "#f0f921"
             ]
            ],
            "type": "heatmapgl"
           }
          ],
          "histogram": [
           {
            "marker": {
             "pattern": {
              "fillmode": "overlay",
              "size": 10,
              "solidity": 0.2
             }
            },
            "type": "histogram"
           }
          ],
          "histogram2d": [
           {
            "colorbar": {
             "outlinewidth": 0,
             "ticks": ""
            },
            "colorscale": [
             [
              0,
              "#0d0887"
             ],
             [
              0.1111111111111111,
              "#46039f"
             ],
             [
              0.2222222222222222,
              "#7201a8"
             ],
             [
              0.3333333333333333,
              "#9c179e"
             ],
             [
              0.4444444444444444,
              "#bd3786"
             ],
             [
              0.5555555555555556,
              "#d8576b"
             ],
             [
              0.6666666666666666,
              "#ed7953"
             ],
             [
              0.7777777777777778,
              "#fb9f3a"
             ],
             [
              0.8888888888888888,
              "#fdca26"
             ],
             [
              1,
              "#f0f921"
             ]
            ],
            "type": "histogram2d"
           }
          ],
          "histogram2dcontour": [
           {
            "colorbar": {
             "outlinewidth": 0,
             "ticks": ""
            },
            "colorscale": [
             [
              0,
              "#0d0887"
             ],
             [
              0.1111111111111111,
              "#46039f"
             ],
             [
              0.2222222222222222,
              "#7201a8"
             ],
             [
              0.3333333333333333,
              "#9c179e"
             ],
             [
              0.4444444444444444,
              "#bd3786"
             ],
             [
              0.5555555555555556,
              "#d8576b"
             ],
             [
              0.6666666666666666,
              "#ed7953"
             ],
             [
              0.7777777777777778,
              "#fb9f3a"
             ],
             [
              0.8888888888888888,
              "#fdca26"
             ],
             [
              1,
              "#f0f921"
             ]
            ],
            "type": "histogram2dcontour"
           }
          ],
          "mesh3d": [
           {
            "colorbar": {
             "outlinewidth": 0,
             "ticks": ""
            },
            "type": "mesh3d"
           }
          ],
          "parcoords": [
           {
            "line": {
             "colorbar": {
              "outlinewidth": 0,
              "ticks": ""
             }
            },
            "type": "parcoords"
           }
          ],
          "pie": [
           {
            "automargin": true,
            "type": "pie"
           }
          ],
          "scatter": [
           {
            "fillpattern": {
             "fillmode": "overlay",
             "size": 10,
             "solidity": 0.2
            },
            "type": "scatter"
           }
          ],
          "scatter3d": [
           {
            "line": {
             "colorbar": {
              "outlinewidth": 0,
              "ticks": ""
             }
            },
            "marker": {
             "colorbar": {
              "outlinewidth": 0,
              "ticks": ""
             }
            },
            "type": "scatter3d"
           }
          ],
          "scattercarpet": [
           {
            "marker": {
             "colorbar": {
              "outlinewidth": 0,
              "ticks": ""
             }
            },
            "type": "scattercarpet"
           }
          ],
          "scattergeo": [
           {
            "marker": {
             "colorbar": {
              "outlinewidth": 0,
              "ticks": ""
             }
            },
            "type": "scattergeo"
           }
          ],
          "scattergl": [
           {
            "marker": {
             "colorbar": {
              "outlinewidth": 0,
              "ticks": ""
             }
            },
            "type": "scattergl"
           }
          ],
          "scattermapbox": [
           {
            "marker": {
             "colorbar": {
              "outlinewidth": 0,
              "ticks": ""
             }
            },
            "type": "scattermapbox"
           }
          ],
          "scatterpolar": [
           {
            "marker": {
             "colorbar": {
              "outlinewidth": 0,
              "ticks": ""
             }
            },
            "type": "scatterpolar"
           }
          ],
          "scatterpolargl": [
           {
            "marker": {
             "colorbar": {
              "outlinewidth": 0,
              "ticks": ""
             }
            },
            "type": "scatterpolargl"
           }
          ],
          "scatterternary": [
           {
            "marker": {
             "colorbar": {
              "outlinewidth": 0,
              "ticks": ""
             }
            },
            "type": "scatterternary"
           }
          ],
          "surface": [
           {
            "colorbar": {
             "outlinewidth": 0,
             "ticks": ""
            },
            "colorscale": [
             [
              0,
              "#0d0887"
             ],
             [
              0.1111111111111111,
              "#46039f"
             ],
             [
              0.2222222222222222,
              "#7201a8"
             ],
             [
              0.3333333333333333,
              "#9c179e"
             ],
             [
              0.4444444444444444,
              "#bd3786"
             ],
             [
              0.5555555555555556,
              "#d8576b"
             ],
             [
              0.6666666666666666,
              "#ed7953"
             ],
             [
              0.7777777777777778,
              "#fb9f3a"
             ],
             [
              0.8888888888888888,
              "#fdca26"
             ],
             [
              1,
              "#f0f921"
             ]
            ],
            "type": "surface"
           }
          ],
          "table": [
           {
            "cells": {
             "fill": {
              "color": "#EBF0F8"
             },
             "line": {
              "color": "white"
             }
            },
            "header": {
             "fill": {
              "color": "#C8D4E3"
             },
             "line": {
              "color": "white"
             }
            },
            "type": "table"
           }
          ]
         },
         "layout": {
          "annotationdefaults": {
           "arrowcolor": "#2a3f5f",
           "arrowhead": 0,
           "arrowwidth": 1
          },
          "autotypenumbers": "strict",
          "coloraxis": {
           "colorbar": {
            "outlinewidth": 0,
            "ticks": ""
           }
          },
          "colorscale": {
           "diverging": [
            [
             0,
             "#8e0152"
            ],
            [
             0.1,
             "#c51b7d"
            ],
            [
             0.2,
             "#de77ae"
            ],
            [
             0.3,
             "#f1b6da"
            ],
            [
             0.4,
             "#fde0ef"
            ],
            [
             0.5,
             "#f7f7f7"
            ],
            [
             0.6,
             "#e6f5d0"
            ],
            [
             0.7,
             "#b8e186"
            ],
            [
             0.8,
             "#7fbc41"
            ],
            [
             0.9,
             "#4d9221"
            ],
            [
             1,
             "#276419"
            ]
           ],
           "sequential": [
            [
             0,
             "#0d0887"
            ],
            [
             0.1111111111111111,
             "#46039f"
            ],
            [
             0.2222222222222222,
             "#7201a8"
            ],
            [
             0.3333333333333333,
             "#9c179e"
            ],
            [
             0.4444444444444444,
             "#bd3786"
            ],
            [
             0.5555555555555556,
             "#d8576b"
            ],
            [
             0.6666666666666666,
             "#ed7953"
            ],
            [
             0.7777777777777778,
             "#fb9f3a"
            ],
            [
             0.8888888888888888,
             "#fdca26"
            ],
            [
             1,
             "#f0f921"
            ]
           ],
           "sequentialminus": [
            [
             0,
             "#0d0887"
            ],
            [
             0.1111111111111111,
             "#46039f"
            ],
            [
             0.2222222222222222,
             "#7201a8"
            ],
            [
             0.3333333333333333,
             "#9c179e"
            ],
            [
             0.4444444444444444,
             "#bd3786"
            ],
            [
             0.5555555555555556,
             "#d8576b"
            ],
            [
             0.6666666666666666,
             "#ed7953"
            ],
            [
             0.7777777777777778,
             "#fb9f3a"
            ],
            [
             0.8888888888888888,
             "#fdca26"
            ],
            [
             1,
             "#f0f921"
            ]
           ]
          },
          "colorway": [
           "#636efa",
           "#EF553B",
           "#00cc96",
           "#ab63fa",
           "#FFA15A",
           "#19d3f3",
           "#FF6692",
           "#B6E880",
           "#FF97FF",
           "#FECB52"
          ],
          "font": {
           "color": "#2a3f5f"
          },
          "geo": {
           "bgcolor": "white",
           "lakecolor": "white",
           "landcolor": "#E5ECF6",
           "showlakes": true,
           "showland": true,
           "subunitcolor": "white"
          },
          "hoverlabel": {
           "align": "left"
          },
          "hovermode": "closest",
          "mapbox": {
           "style": "light"
          },
          "paper_bgcolor": "white",
          "plot_bgcolor": "#E5ECF6",
          "polar": {
           "angularaxis": {
            "gridcolor": "white",
            "linecolor": "white",
            "ticks": ""
           },
           "bgcolor": "#E5ECF6",
           "radialaxis": {
            "gridcolor": "white",
            "linecolor": "white",
            "ticks": ""
           }
          },
          "scene": {
           "xaxis": {
            "backgroundcolor": "#E5ECF6",
            "gridcolor": "white",
            "gridwidth": 2,
            "linecolor": "white",
            "showbackground": true,
            "ticks": "",
            "zerolinecolor": "white"
           },
           "yaxis": {
            "backgroundcolor": "#E5ECF6",
            "gridcolor": "white",
            "gridwidth": 2,
            "linecolor": "white",
            "showbackground": true,
            "ticks": "",
            "zerolinecolor": "white"
           },
           "zaxis": {
            "backgroundcolor": "#E5ECF6",
            "gridcolor": "white",
            "gridwidth": 2,
            "linecolor": "white",
            "showbackground": true,
            "ticks": "",
            "zerolinecolor": "white"
           }
          },
          "shapedefaults": {
           "line": {
            "color": "#2a3f5f"
           }
          },
          "ternary": {
           "aaxis": {
            "gridcolor": "white",
            "linecolor": "white",
            "ticks": ""
           },
           "baxis": {
            "gridcolor": "white",
            "linecolor": "white",
            "ticks": ""
           },
           "bgcolor": "#E5ECF6",
           "caxis": {
            "gridcolor": "white",
            "linecolor": "white",
            "ticks": ""
           }
          },
          "title": {
           "x": 0.05
          },
          "xaxis": {
           "automargin": true,
           "gridcolor": "white",
           "linecolor": "white",
           "ticks": "",
           "title": {
            "standoff": 15
           },
           "zerolinecolor": "white",
           "zerolinewidth": 2
          },
          "yaxis": {
           "automargin": true,
           "gridcolor": "white",
           "linecolor": "white",
           "ticks": "",
           "title": {
            "standoff": 15
           },
           "zerolinecolor": "white",
           "zerolinewidth": 2
          }
         }
        },
        "title": {
         "text": "Codes Visualised in 2D"
        },
        "width": 1000,
        "xaxis": {
         "anchor": "y",
         "autorange": true,
         "domain": [
          0,
          1
         ],
         "range": [
          5.161146443177754,
          8.14607163162083
         ],
         "title": {
          "text": "x"
         },
         "type": "linear"
        },
        "yaxis": {
         "anchor": "x",
         "autorange": true,
         "domain": [
          0,
          1
         ],
         "range": [
          12.214650052983684,
          16.334938245894783
         ],
         "title": {
          "text": "y"
         },
         "type": "linear"
        }
       }
      },
      "image/png": "[encoded data removed]",
      "text/html": [
       "<div>                            <div id=\"0ff2bd04-6167-47d4-ae6c-d0e4f826f432\" class=\"plotly-graph-div\" style=\"height:800px; width:1000px;\"></div>            <script type=\"text/javascript\">                require([\"plotly\"], function(Plotly) {                    window.PLOTLYENV=window.PLOTLYENV || {};                                    if (document.getElementById(\"0ff2bd04-6167-47d4-ae6c-d0e4f826f432\")) {                    Plotly.newPlot(                        \"0ff2bd04-6167-47d4-ae6c-d0e4f826f432\",                        [{\"hovertemplate\":\"\\u003cb\\u003e%{hovertext}\\u003c\\u002fb\\u003e\\u003cbr\\u003e\\u003cbr\\u003eColor=LLM code (new)\\u003cbr\\u003ex=%{x}\\u003cbr\\u003ey=%{y}\\u003cbr\\u003eSize=%{marker.size}\\u003cextra\\u003e\\u003c\\u002fextra\\u003e\",\"hovertext\":[\"humor (1)\\u003c\\u002fbr\\u003e\\u003c\\u002fbr\\u003e\\\"Then I took an arrow in the\\u2026 look, adventuring is dangerous\\u003c\\u002fbr\\u003eok, can we leave it at that?\\\"\",\"danger (4)\\u003c\\u002fbr\\u003e\\u003c\\u002fbr\\u003e\\\"Then I took an arrow in the\\u2026 look, adventuring is dangerous\\u003c\\u002fbr\\u003eok, can we leave it at that?\\\"\",\"awe (10)\\u003c\\u002fbr\\u003e\\u003c\\u002fbr\\u003e\\\"I had no idea what to expect and then bam\\u2026 that view of that\\u003c\\u002fbr\\u003ehuge purple expanse.\\\"\",\"connection (8)\\u003c\\u002fbr\\u003e\\u003c\\u002fbr\\u003e\\\"reminded me of the underground eco system on Skyrim where\\u003c\\u002fbr\\u003ethe snow elves recluses to.\\\"\",\"determination (4)\\u003c\\u002fbr\\u003e\\u003c\\u002fbr\\u003e\\\"Oh, yeah.\\\"\",\"anticipation (1)\\u003c\\u002fbr\\u003e\\u003c\\u002fbr\\u003e\\\"The moment I saw that elevator my first thought was \\u201cI\\u2019m\\u003c\\u002fbr\\u003egoing to end up in Blackreach.\\u201d\\\"\",\"reflection (2)\\u003c\\u002fbr\\u003e\\u003c\\u002fbr\\u003e\\\"I told myself to save that opinion for the morning when I\\u003c\\u002fbr\\u003ehave some rest and can think clearly. The opinion stayed\\\"\",\"immersion (1)\\u003c\\u002fbr\\u003e\\u003c\\u002fbr\\u003e\\\"I was alone in my room almost drooling because of the\\u003c\\u002fbr\\u003ebeautiful world opening up to me!\\\"\"],\"legendgroup\":\"LLM code (new)\",\"marker\":{\"color\":\"#636efa\",\"size\":[0.1,0.4,1.0,0.8,0.4,0.1,0.2,0.1],\"sizemode\":\"area\",\"sizeref\":0.0025,\"symbol\":\"circle\"},\"mode\":\"markers\",\"name\":\"LLM code (new)\",\"orientation\":\"v\",\"showlegend\":true,\"x\":[7.787478446960449,5.471713066101074,6.581779956817627,7.487159729003906,6.7629289627075195,5.7390851974487305,7.504757404327393,7.202803611755371],\"xaxis\":\"x\",\"y\":[14.50378131866455,15.069863319396973,15.198504447937012,13.692278861999512,13.425135612487793,13.915502548217773,12.467656135559082,12.6257963180542],\"yaxis\":\"y\",\"type\":\"scatter\"},{\"hovertemplate\":\"\\u003cb\\u003e%{hovertext}\\u003c\\u002fb\\u003e\\u003cbr\\u003e\\u003cbr\\u003eColor=LLM code (few-shot)\\u003cbr\\u003ex=%{x}\\u003cbr\\u003ey=%{y}\\u003cbr\\u003eSize=%{marker.size}\\u003cextra\\u003e\\u003c\\u002fextra\\u003e\",\"hovertext\":[\"surprise (2)\\u003c\\u002fbr\\u003e\\u003c\\u002fbr\\u003e\\\"I had no idea what to expect and then bam\\u2026 that view of that\\u003c\\u002fbr\\u003ehuge purple expanse.\\\"\",\"realization (2)\\u003c\\u002fbr\\u003e\\u003c\\u002fbr\\u003e\\\"That\\u2019s when I realized this game was much larger and more\\u003c\\u002fbr\\u003ediverse than I had ever imagined\\\"\",\"scale (3)\\u003c\\u002fbr\\u003e\\u003c\\u002fbr\\u003e\\\"That\\u2019s when I realized this game was much larger and more\\u003c\\u002fbr\\u003ediverse than I had ever imagined\\\"\"],\"legendgroup\":\"LLM code (few-shot)\",\"marker\":{\"color\":\"#EF553B\",\"size\":[0.2,0.2,0.3],\"sizemode\":\"area\",\"sizeref\":0.0025,\"symbol\":\"circle\"},\"mode\":\"markers\",\"name\":\"LLM code (few-shot)\",\"orientation\":\"v\",\"showlegend\":true,\"x\":[6.836038112640381,6.9169602394104,6.676916122436523],\"xaxis\":\"x\",\"y\":[16.062467575073242,13.814900398254395,14.369098663330078],\"yaxis\":\"y\",\"type\":\"scatter\"},{\"hovertemplate\":\"\\u003cb\\u003e%{hovertext}\\u003c\\u002fb\\u003e\\u003cbr\\u003e\\u003cbr\\u003eColor=Human code\\u003cbr\\u003ex=%{x}\\u003cbr\\u003ey=%{y}\\u003cbr\\u003eSize=%{marker.size}\\u003cextra\\u003e\\u003c\\u002fextra\\u003e\",\"hovertext\":[\"uncertainty (1)\\u003c\\u002fbr\\u003e\\u003c\\u002fbr\\u003e\\\"I had no idea what to expect and then bam\\u2026\\\"\",\"surprise (4)\\u003c\\u002fbr\\u003e\\u003c\\u002fbr\\u003e\\\"I had no idea what to expect and then bam\\u2026\\\"\",\"violence (1)\\u003c\\u002fbr\\u003e\\u003c\\u002fbr\\u003e\\\"seeing your character looking like a pin cushion\\\"\",\"realization (1)\\u003c\\u002fbr\\u003e\\u003c\\u002fbr\\u003e\\\"\\u201cOh Fuck, this game is even bigger than I thought\\u201d\\\"\",\"scale (2)\\u003c\\u002fbr\\u003e\\u003c\\u002fbr\\u003e\\\"seeing the vast expanse of Siofra River as I descended the\\u003c\\u002fbr\\u003eelevator made my jaw hit the fucking floor\\\"\",\"awe (5)\\u003c\\u002fbr\\u003e\\u003c\\u002fbr\\u003e\\\"seeing the vast expanse of Siofra River as I descended the\\u003c\\u002fbr\\u003eelevator made my jaw hit the fucking floor\\\"\",\"beauty (2)\\u003c\\u002fbr\\u003e\\u003c\\u002fbr\\u003e\\\"the most beautiful area in the game\\\"\",\"dialogue (1)\\u003c\\u002fbr\\u003e\\u003c\\u002fbr\\u003e\\\"Best dialogue in the game\\\"\",\"shared experience (1)\\u003c\\u002fbr\\u003e\\u003c\\u002fbr\\u003e\\\"Kept telling my friends about that experience.\\\"\",\"shock (2)\\u003c\\u002fbr\\u003e\\u003c\\u002fbr\\u003e\\\"my mouth just. Dropped. I was so in awe I just sat at my\\u003c\\u002fbr\\u003edesk for 5 minutes before even going back to the game.\\\"\",\"anticipation (1)\\u003c\\u002fbr\\u003e\\u003c\\u002fbr\\u003e\\\"the absolute sheer scale of exploration being laid bare\\u003c\\u002fbr\\u003ebefore me as if to accent I still had much more to explore\\u003c\\u002fbr\\u003ethan I thought in the world\\\"\",\"world (1)\\u003c\\u002fbr\\u003e\\u003c\\u002fbr\\u003e\\\"I never had the cartoon \\u2018jaw-drop\\u2019 until that moment. I was\\u003c\\u002fbr\\u003ealone in my room almost drooling because of the beautiful\\u003c\\u002fbr\\u003eworld opening up to me!\\\"\"],\"legendgroup\":\"Human code\",\"marker\":{\"color\":\"#00cc96\",\"size\":[0.1,0.4,0.1,0.1,0.2,0.5,0.2,0.1,0.1,0.2,0.1,0.1],\"sizemode\":\"area\",\"sizeref\":0.0025,\"symbol\":\"circle\"},\"mode\":\"markers\",\"name\":\"Human code\",\"orientation\":\"v\",\"showlegend\":true,\"x\":[5.3309783935546875,6.836038112640381,5.873904705047607,6.9169602394104,6.676916122436523,6.581779956817627,7.094238758087158,7.865597724914551,7.9762396812438965,7.227331638336182,5.7390851974487305,7.244256019592285],\"xaxis\":\"x\",\"y\":[14.186749458312988,16.062467575073242,14.905714988708496,13.814900398254395,14.369098663330078,15.198504447937012,14.932065963745117,12.783164024353027,13.83248233795166,15.878965377807617,13.915502548217773,14.361113548278809],\"yaxis\":\"y\",\"type\":\"scatter\"}],                        {\"template\":{\"data\":{\"histogram2dcontour\":[{\"type\":\"histogram2dcontour\",\"colorbar\":{\"outlinewidth\":0,\"ticks\":\"\"},\"colorscale\":[[0.0,\"#0d0887\"],[0.1111111111111111,\"#46039f\"],[0.2222222222222222,\"#7201a8\"],[0.3333333333333333,\"#9c179e\"],[0.4444444444444444,\"#bd3786\"],[0.5555555555555556,\"#d8576b\"],[0.6666666666666666,\"#ed7953\"],[0.7777777777777778,\"#fb9f3a\"],[0.8888888888888888,\"#fdca26\"],[1.0,\"#f0f921\"]]}],\"choropleth\":[{\"type\":\"choropleth\",\"colorbar\":{\"outlinewidth\":0,\"ticks\":\"\"}}],\"histogram2d\":[{\"type\":\"histogram2d\",\"colorbar\":{\"outlinewidth\":0,\"ticks\":\"\"},\"colorscale\":[[0.0,\"#0d0887\"],[0.1111111111111111,\"#46039f\"],[0.2222222222222222,\"#7201a8\"],[0.3333333333333333,\"#9c179e\"],[0.4444444444444444,\"#bd3786\"],[0.5555555555555556,\"#d8576b\"],[0.6666666666666666,\"#ed7953\"],[0.7777777777777778,\"#fb9f3a\"],[0.8888888888888888,\"#fdca26\"],[1.0,\"#f0f921\"]]}],\"heatmap\":[{\"type\":\"heatmap\",\"colorbar\":{\"outlinewidth\":0,\"ticks\":\"\"},\"colorscale\":[[0.0,\"#0d0887\"],[0.1111111111111111,\"#46039f\"],[0.2222222222222222,\"#7201a8\"],[0.3333333333333333,\"#9c179e\"],[0.4444444444444444,\"#bd3786\"],[0.5555555555555556,\"#d8576b\"],[0.6666666666666666,\"#ed7953\"],[0.7777777777777778,\"#fb9f3a\"],[0.8888888888888888,\"#fdca26\"],[1.0,\"#f0f921\"]]}],\"heatmapgl\":[{\"type\":\"heatmapgl\",\"colorbar\":{\"outlinewidth\":0,\"ticks\":\"\"},\"colorscale\":[[0.0,\"#0d0887\"],[0.1111111111111111,\"#46039f\"],[0.2222222222222222,\"#7201a8\"],[0.3333333333333333,\"#9c179e\"],[0.4444444444444444,\"#bd3786\"],[0.5555555555555556,\"#d8576b\"],[0.6666666666666666,\"#ed7953\"],[0.7777777777777778,\"#fb9f3a\"],[0.8888888888888888,\"#fdca26\"],[1.0,\"#f0f921\"]]}],\"contourcarpet\":[{\"type\":\"contourcarpet\",\"colorbar\":{\"outlinewidth\":0,\"ticks\":\"\"}}],\"contour\":[{\"type\":\"contour\",\"colorbar\":{\"outlinewidth\":0,\"ticks\":\"\"},\"colorscale\":[[0.0,\"#0d0887\"],[0.1111111111111111,\"#46039f\"],[0.2222222222222222,\"#7201a8\"],[0.3333333333333333,\"#9c179e\"],[0.4444444444444444,\"#bd3786\"],[0.5555555555555556,\"#d8576b\"],[0.6666666666666666,\"#ed7953\"],[0.7777777777777778,\"#fb9f3a\"],[0.8888888888888888,\"#fdca26\"],[1.0,\"#f0f921\"]]}],\"surface\":[{\"type\":\"surface\",\"colorbar\":{\"outlinewidth\":0,\"ticks\":\"\"},\"colorscale\":[[0.0,\"#0d0887\"],[0.1111111111111111,\"#46039f\"],[0.2222222222222222,\"#7201a8\"],[0.3333333333333333,\"#9c179e\"],[0.4444444444444444,\"#bd3786\"],[0.5555555555555556,\"#d8576b\"],[0.6666666666666666,\"#ed7953\"],[0.7777777777777778,\"#fb9f3a\"],[0.8888888888888888,\"#fdca26\"],[1.0,\"#f0f921\"]]}],\"mesh3d\":[{\"type\":\"mesh3d\",\"colorbar\":{\"outlinewidth\":0,\"ticks\":\"\"}}],\"scatter\":[{\"fillpattern\":{\"fillmode\":\"overlay\",\"size\":10,\"solidity\":0.2},\"type\":\"scatter\"}],\"parcoords\":[{\"type\":\"parcoords\",\"line\":{\"colorbar\":{\"outlinewidth\":0,\"ticks\":\"\"}}}],\"scatterpolargl\":[{\"type\":\"scatterpolargl\",\"marker\":{\"colorbar\":{\"outlinewidth\":0,\"ticks\":\"\"}}}],\"bar\":[{\"error_x\":{\"color\":\"#2a3f5f\"},\"error_y\":{\"color\":\"#2a3f5f\"},\"marker\":{\"line\":{\"color\":\"#E5ECF6\",\"width\":0.5},\"pattern\":{\"fillmode\":\"overlay\",\"size\":10,\"solidity\":0.2}},\"type\":\"bar\"}],\"scattergeo\":[{\"type\":\"scattergeo\",\"marker\":{\"colorbar\":{\"outlinewidth\":0,\"ticks\":\"\"}}}],\"scatterpolar\":[{\"type\":\"scatterpolar\",\"marker\":{\"colorbar\":{\"outlinewidth\":0,\"ticks\":\"\"}}}],\"histogram\":[{\"marker\":{\"pattern\":{\"fillmode\":\"overlay\",\"size\":10,\"solidity\":0.2}},\"type\":\"histogram\"}],\"scattergl\":[{\"type\":\"scattergl\",\"marker\":{\"colorbar\":{\"outlinewidth\":0,\"ticks\":\"\"}}}],\"scatter3d\":[{\"type\":\"scatter3d\",\"line\":{\"colorbar\":{\"outlinewidth\":0,\"ticks\":\"\"}},\"marker\":{\"colorbar\":{\"outlinewidth\":0,\"ticks\":\"\"}}}],\"scattermapbox\":[{\"type\":\"scattermapbox\",\"marker\":{\"colorbar\":{\"outlinewidth\":0,\"ticks\":\"\"}}}],\"scatterternary\":[{\"type\":\"scatterternary\",\"marker\":{\"colorbar\":{\"outlinewidth\":0,\"ticks\":\"\"}}}],\"scattercarpet\":[{\"type\":\"scattercarpet\",\"marker\":{\"colorbar\":{\"outlinewidth\":0,\"ticks\":\"\"}}}],\"carpet\":[{\"aaxis\":{\"endlinecolor\":\"#2a3f5f\",\"gridcolor\":\"white\",\"linecolor\":\"white\",\"minorgridcolor\":\"white\",\"startlinecolor\":\"#2a3f5f\"},\"baxis\":{\"endlinecolor\":\"#2a3f5f\",\"gridcolor\":\"white\",\"linecolor\":\"white\",\"minorgridcolor\":\"white\",\"startlinecolor\":\"#2a3f5f\"},\"type\":\"carpet\"}],\"table\":[{\"cells\":{\"fill\":{\"color\":\"#EBF0F8\"},\"line\":{\"color\":\"white\"}},\"header\":{\"fill\":{\"color\":\"#C8D4E3\"},\"line\":{\"color\":\"white\"}},\"type\":\"table\"}],\"barpolar\":[{\"marker\":{\"line\":{\"color\":\"#E5ECF6\",\"width\":0.5},\"pattern\":{\"fillmode\":\"overlay\",\"size\":10,\"solidity\":0.2}},\"type\":\"barpolar\"}],\"pie\":[{\"automargin\":true,\"type\":\"pie\"}]},\"layout\":{\"autotypenumbers\":\"strict\",\"colorway\":[\"#636efa\",\"#EF553B\",\"#00cc96\",\"#ab63fa\",\"#FFA15A\",\"#19d3f3\",\"#FF6692\",\"#B6E880\",\"#FF97FF\",\"#FECB52\"],\"font\":{\"color\":\"#2a3f5f\"},\"hovermode\":\"closest\",\"hoverlabel\":{\"align\":\"left\"},\"paper_bgcolor\":\"white\",\"plot_bgcolor\":\"#E5ECF6\",\"polar\":{\"bgcolor\":\"#E5ECF6\",\"angularaxis\":{\"gridcolor\":\"white\",\"linecolor\":\"white\",\"ticks\":\"\"},\"radialaxis\":{\"gridcolor\":\"white\",\"linecolor\":\"white\",\"ticks\":\"\"}},\"ternary\":{\"bgcolor\":\"#E5ECF6\",\"aaxis\":{\"gridcolor\":\"white\",\"linecolor\":\"white\",\"ticks\":\"\"},\"baxis\":{\"gridcolor\":\"white\",\"linecolor\":\"white\",\"ticks\":\"\"},\"caxis\":{\"gridcolor\":\"white\",\"linecolor\":\"white\",\"ticks\":\"\"}},\"coloraxis\":{\"colorbar\":{\"outlinewidth\":0,\"ticks\":\"\"}},\"colorscale\":{\"sequential\":[[0.0,\"#0d0887\"],[0.1111111111111111,\"#46039f\"],[0.2222222222222222,\"#7201a8\"],[0.3333333333333333,\"#9c179e\"],[0.4444444444444444,\"#bd3786\"],[0.5555555555555556,\"#d8576b\"],[0.6666666666666666,\"#ed7953\"],[0.7777777777777778,\"#fb9f3a\"],[0.8888888888888888,\"#fdca26\"],[1.0,\"#f0f921\"]],\"sequentialminus\":[[0.0,\"#0d0887\"],[0.1111111111111111,\"#46039f\"],[0.2222222222222222,\"#7201a8\"],[0.3333333333333333,\"#9c179e\"],[0.4444444444444444,\"#bd3786\"],[0.5555555555555556,\"#d8576b\"],[0.6666666666666666,\"#ed7953\"],[0.7777777777777778,\"#fb9f3a\"],[0.8888888888888888,\"#fdca26\"],[1.0,\"#f0f921\"]],\"diverging\":[[0,\"#8e0152\"],[0.1,\"#c51b7d\"],[0.2,\"#de77ae\"],[0.3,\"#f1b6da\"],[0.4,\"#fde0ef\"],[0.5,\"#f7f7f7\"],[0.6,\"#e6f5d0\"],[0.7,\"#b8e186\"],[0.8,\"#7fbc41\"],[0.9,\"#4d9221\"],[1,\"#276419\"]]},\"xaxis\":{\"gridcolor\":\"white\",\"linecolor\":\"white\",\"ticks\":\"\",\"title\":{\"standoff\":15},\"zerolinecolor\":\"white\",\"automargin\":true,\"zerolinewidth\":2},\"yaxis\":{\"gridcolor\":\"white\",\"linecolor\":\"white\",\"ticks\":\"\",\"title\":{\"standoff\":15},\"zerolinecolor\":\"white\",\"automargin\":true,\"zerolinewidth\":2},\"scene\":{\"xaxis\":{\"backgroundcolor\":\"#E5ECF6\",\"gridcolor\":\"white\",\"linecolor\":\"white\",\"showbackground\":true,\"ticks\":\"\",\"zerolinecolor\":\"white\",\"gridwidth\":2},\"yaxis\":{\"backgroundcolor\":\"#E5ECF6\",\"gridcolor\":\"white\",\"linecolor\":\"white\",\"showbackground\":true,\"ticks\":\"\",\"zerolinecolor\":\"white\",\"gridwidth\":2},\"zaxis\":{\"backgroundcolor\":\"#E5ECF6\",\"gridcolor\":\"white\",\"linecolor\":\"white\",\"showbackground\":true,\"ticks\":\"\",\"zerolinecolor\":\"white\",\"gridwidth\":2}},\"shapedefaults\":{\"line\":{\"color\":\"#2a3f5f\"}},\"annotationdefaults\":{\"arrowcolor\":\"#2a3f5f\",\"arrowhead\":0,\"arrowwidth\":1},\"geo\":{\"bgcolor\":\"white\",\"landcolor\":\"#E5ECF6\",\"subunitcolor\":\"white\",\"showland\":true,\"showlakes\":true,\"lakecolor\":\"white\"},\"title\":{\"x\":0.05},\"mapbox\":{\"style\":\"light\"}}},\"xaxis\":{\"anchor\":\"y\",\"domain\":[0.0,1.0],\"title\":{\"text\":\"x\"}},\"yaxis\":{\"anchor\":\"x\",\"domain\":[0.0,1.0],\"title\":{\"text\":\"y\"}},\"legend\":{\"title\":{\"text\":\"Color\"},\"tracegroupgap\":0,\"itemsizing\":\"constant\"},\"title\":{\"text\":\"Codes Visualised in 2D\"},\"height\":800,\"width\":1000},                        {\"responsive\": true}                    ).then(function(){\n",
       "                            \n",
       "var gd = document.getElementById('0ff2bd04-6167-47d4-ae6c-d0e4f826f432');\n",
       "var x = new MutationObserver(function (mutations, observer) {{\n",
       "        var display = window.getComputedStyle(gd).display;\n",
       "        if (!display || display === 'none') {{\n",
       "            console.log([gd, 'removed!']);\n",
       "            Plotly.purge(gd);\n",
       "            observer.disconnect();\n",
       "        }}\n",
       "}});\n",
       "\n",
       "// Listen for the removal of the full notebook cells\n",
       "var notebookContainer = gd.closest('#notebook-container');\n",
       "if (notebookContainer) {{\n",
       "    x.observe(notebookContainer, {childList: true});\n",
       "}}\n",
       "\n",
       "// Listen for the clearing of the current output cell\n",
       "var outputEl = gd.closest('.output');\n",
       "if (outputEl) {{\n",
       "    x.observe(outputEl, {childList: true});\n",
       "}}\n",
       "\n",
       "                        })                };                });            </script>        </div>"
      ]
     },
     "metadata": {},
     "output_type": "display_data"
    }
   ],
   "source": [
    "# @title\n",
    "def prepare_code_vis_df(code_highlights, human_code_highlights, few_shot_codes, embedding_context, embedding_model):\n",
    "    # Find code embeddings for all codes\n",
    "    all_codes = set(code_highlights.keys()).union(set(human_code_highlights.keys()))\n",
    "    df_em = llmcode.get_2d_code_embeddings(list(all_codes), embedding_context, embedding_model)\n",
    "\n",
    "    # Create DataFrame of LLM-generated codes\n",
    "    df_llm = pd.DataFrame([(c,) for c in code_highlights.keys()], columns=[\"code\"])\n",
    "    df_llm[\"code_count\"] = df_llm[\"code\"].apply(lambda code: len(code_highlights[code]))\n",
    "    df_llm[\"example\"] = df_llm[\"code\"].apply(lambda code: code_highlights[code][0])\n",
    "    df_llm[\"group\"] = df_llm.code.apply(lambda code: \"LLM code (few-shot)\" if code in few_shot_codes else \"LLM code (new)\")\n",
    "\n",
    "    # Create DataFrame of human-generated codes\n",
    "    df_human = pd.DataFrame([(c,) for c in human_code_highlights.keys()], columns=[\"code\"])\n",
    "    df_human[\"code_count\"] = df_human[\"code\"].apply(lambda code: len(human_code_highlights[code]))\n",
    "    df_human[\"example\"] = df_human[\"code\"].apply(lambda code: human_code_highlights[code][0])\n",
    "    df_human[\"group\"] = \"Human code\"\n",
    "\n",
    "    # Concatenate code DataFrames and merge with embeddings\n",
    "    df_em_codes = pd.concat([df_llm, df_human])\n",
    "    df_em_codes = df_em_codes.merge(df_em, on=\"code\", validate=\"many_to_one\")\n",
    "    return df_em_codes\n",
    "\n",
    "def visualise_2d_embeddings(df_em):\n",
    "    # Prepare labels for visualisation\n",
    "    hover_texts = []\n",
    "    colors = []  # List to store color categories\n",
    "    for _, row in df_em.iterrows():\n",
    "        text = f\"{row.code} ({row.code_count})</br></br>\"\n",
    "\n",
    "        # Add an example of a code highlight\n",
    "        text += '\"' + \"</br>\".join(textwrap.wrap(row.example, width=60)) + '\"'\n",
    "\n",
    "        hover_texts.append(text)\n",
    "\n",
    "        # Determine color category based on group\n",
    "        colors.append(row.group)\n",
    "\n",
    "    df_vis = pd.DataFrame()\n",
    "    df_vis[\"Hover\"] = hover_texts\n",
    "    df_vis[\"Size\"] = [c / df_em[\"code_count\"].max() for c in df_em[\"code_count\"]]\n",
    "    df_vis[\"x\"] = df_em[\"code_2d_0\"]\n",
    "    df_vis[\"y\"] = df_em[\"code_2d_1\"]\n",
    "    df_vis[\"Color\"] = colors\n",
    "\n",
    "    # Plot the codes in 2D\n",
    "    fig = px.scatter(df_vis,\n",
    "                     width=1000, height=800,\n",
    "                     x=\"x\",\n",
    "                     y=\"y\",\n",
    "                     size=\"Size\",\n",
    "                     color=\"Color\",  # Set color categories\n",
    "                     hover_name=\"Hover\",\n",
    "                     title=\"Codes Visualised in 2D\")\n",
    "\n",
    "\n",
    "    fig.show()\n",
    "\n",
    "human_code_highlights = llmcode.get_codes_and_highlights(df_val.coded_text)\n",
    "df_em = prepare_code_vis_df(\n",
    "    code_highlights,\n",
    "    human_code_highlights,\n",
    "    few_shot_codes,\n",
    "    embedding_context,\n",
    "    embedding_model\n",
    ")\n",
    "visualise_2d_embeddings(df_em)"
   ]
  },
  {
   "cell_type": "markdown",
   "metadata": {},
   "source": [
    "## Prompt iteration\n",
    "\n",
    "Now that we've gotten a handle on how coding with LLMCode works, as well as the metrics by which we can evaluate the coding quality, let's see if we can increase the performance of the model by iterating on the coding instructions given to the model as part of the prompt. For reflexive coding, the coder's own understanding of the topic and the data is important in shaping the findings. By tuning the instructions, you can help the model understand how you personally coded the data.  \n",
    "\n",
    "First, run the following cell that prepares a function for both coding and the subsequent evaluation of the coded data, allowing us to neatly test the entire pipeline with different instructions."
   ]
  },
  {
   "cell_type": "code",
   "execution_count": 19,
   "metadata": {},
   "outputs": [
    {
     "name": "stdout",
     "output_type": "stream",
     "text": [
      "Instruction iteration function ready, proceed\n"
     ]
    }
   ],
   "source": [
    "# @title\n",
    "\n",
    "def code_and_eval(\n",
    "    df_input,\n",
    "    coding_instructions,\n",
    "    sort_by=\"IoU\",\n",
    "):\n",
    "    # Perform inductive coding\n",
    "    coded_texts, _ = code_inductively(df_input, coding_instructions)\n",
    "    \n",
    "    # Run eval\n",
    "    html_report, df_eval = llmcode.run_coding_eval(\n",
    "        llm_coded_texts=coded_texts,\n",
    "        human_coded_texts=df_input.coded_text.tolist(),\n",
    "        embedding_context=embedding_context,\n",
    "        embedding_model=embedding_model,\n",
    "        sort_by=sort_by\n",
    "    )\n",
    "\n",
    "    # Print averages\n",
    "    avg_iou = np.mean(df_eval[\"IoU\"])\n",
    "    avg_hausdorff = np.mean(df_eval[\"Hausdorff\"])\n",
    "    print(f\"Average IoU: {avg_iou:.4f}\")\n",
    "    print(f\"Average Hausdorff distance: {avg_hausdorff:.4f}\")\n",
    "\n",
    "    # Visualise results\n",
    "    code_highlights = llmcode.get_codes_and_highlights(coded_texts)\n",
    "    human_code_highlights = llmcode.get_codes_and_highlights(df_input.coded_text)\n",
    "    df_em = prepare_code_vis_df(\n",
    "        code_highlights,\n",
    "        human_code_highlights,\n",
    "        few_shot_codes,\n",
    "        embedding_context,\n",
    "        embedding_model\n",
    "    )\n",
    "    visualise_2d_embeddings(df_em)\n",
    "\n",
    "    # Print table\n",
    "    display(HTML(html_report))\n",
    "\n",
    "print(\"Instruction iteration function ready, proceed\")"
   ]
  },
  {
   "cell_type": "markdown",
   "metadata": {},
   "source": [
    "The following cell runs the coding and evaluation with a `coding_instructions` string variable that you can modify to your liking. The instructions defined here are appended to the LLM prompt, to help it understand how you would like the texts to be coded. Output format instructions and the few-shot examples are already added to the prompt automatically by LLMCode, so these should not be included in `coding_instructions`.\n",
    "\n",
    "The variable is initialised with the same instructions given to the model in the previous section: a single item instructing the model to focus on the defined research question. Based on the evaluations you ran in the previous section, try to improve upon these instructions by adding new lines and running the cell to see if you can improve the model's performance. Place each new instruction on its own line beginning with a dash.\n",
    "\n",
    "Below, we have provided three identical cells so you may iterate on the instructions by adding lines to the `coding_instructions` variable and running the coding multiple times until you're happy with the output. This way, we store a trace of the results you got with the previous instructions. Before running each cell, copy the instructions from the previous cell and add one or more additional lines."
   ]
  },
  {
   "cell_type": "code",
   "execution_count": 20,
   "metadata": {},
   "outputs": [
    {
     "name": "stdout",
     "output_type": "stream",
     "text": [
      " |████████████████████████████████████████████████████████████████████████████████████████████████████| 100.0% \n",
      " |----------------------------------------------------------------------------------------------------| 0.0% \n",
      "Average IoU: 0.4292\n",
      "Average Hausdorff distance: 0.0713\n",
      " |----------------------------------------------------------------------------------------------------| 0.0% \n"
     ]
    },
    {
     "data": {
      "application/vnd.plotly.v1+json": {
       "config": {
        "plotlyServerURL": "https://plot.ly"
       },
       "data": [
        {
         "hovertemplate": "<b>%{hovertext}</b><br><br>Color=LLM code (new)<br>x=%{x}<br>y=%{y}<br>Size=%{marker.size}<extra></extra>",
         "hovertext": [
          "humor (1)</br></br>\"look, adventuring is dangerous ok, can we leave it at that?\"",
          "danger (2)</br></br>\"look, adventuring is dangerous ok, can we leave it at that?\"",
          "awe (8)</br></br>\"I had no idea what to expect and then bam… that view of that</br>huge purple expanse.\"",
          "visual (3)</br></br>\"that seeing your character looking like a pin cushion for</br>several minutes.\"",
          "impact (13)</br></br>\"that seeing your character looking like a pin cushion for</br>several minutes.\"",
          "fear (1)</br></br>\"shitting my pants down that lift to Nokron.\"",
          "connection (3)</br></br>\"reminded me of the underground eco system on Skyrim where</br>the snow elves recluses to\"",
          "anticipation (3)</br></br>\"The moment I saw that elevator my first thought was “I’m</br>going to end up in Blackreach.”\"",
          "foreboding (1)</br></br>\"The moment I saw that elevator my first thought was “I’m</br>going to end up in Blackreach.”\"",
          "reflection (1)</br></br>\"I told myself to save that opinion for the morning when I</br>have some rest and can think clearly. The opinion stayed\"",
          "immersion (1)</br></br>\"never had the cartoon ‘jaw-drop’ until that moment. I was</br>alone in my room almost drooling because of the beautiful</br>world opening up to me!\"",
          "emotion (2)</br></br>\"never had the cartoon ‘jaw-drop’ until that moment. I was</br>alone in my room almost drooling because of the beautiful</br>world opening up to me!\"",
          "character (4)</br></br>\"Godrick the Golden.\"",
          "theme (2)</br></br>\"Willful traitors, all!\""
         ],
         "legendgroup": "LLM code (new)",
         "marker": {
          "color": "#636efa",
          "size": [
           0.07692307692307693,
           0.15384615384615385,
           0.6153846153846154,
           0.23076923076923078,
           1,
           0.07692307692307693,
           0.23076923076923078,
           0.23076923076923078,
           0.07692307692307693,
           0.07692307692307693,
           0.07692307692307693,
           0.15384615384615385,
           0.3076923076923077,
           0.15384615384615385
          ],
          "sizemode": "area",
          "sizeref": 0.0025,
          "symbol": "circle"
         },
         "mode": "markers",
         "name": "LLM code (new)",
         "orientation": "v",
         "showlegend": true,
         "type": "scatter",
         "x": [
          1.5336651802062988,
          -0.08823733776807785,
          -0.6146954894065857,
          0.873650312423706,
          -0.05188789218664169,
          -0.6864568591117859,
          0.974847674369812,
          -0.9885355830192566,
          -1.1791025400161743,
          1.0245553255081177,
          0.5765697956085205,
          1.557509422302246,
          1.0419015884399414,
          0.4012708365917206
         ],
         "xaxis": "x",
         "y": [
          5.8366546630859375,
          4.42451810836792,
          6.401838779449463,
          5.154759407043457,
          7.694833755493164,
          4.623745918273926,
          6.314596176147461,
          5.777751922607422,
          5.310743808746338,
          7.71088171005249,
          7.720839023590088,
          6.2119669914245605,
          5.791705131530762,
          5.7439656257629395
         ],
         "yaxis": "y"
        },
        {
         "hovertemplate": "<b>%{hovertext}</b><br><br>Color=LLM code (few-shot)<br>x=%{x}<br>y=%{y}<br>Size=%{marker.size}<extra></extra>",
         "hovertext": [
          "surprise (3)</br></br>\"I had no idea what to expect and then bam… that view of that</br>huge purple expanse.\"",
          "realization (3)</br></br>\"That’s when I realized this game was much larger and more</br>diverse than I had ever imagined.\"",
          "scale (2)</br></br>\"That’s when I realized this game was much larger and more</br>diverse than I had ever imagined.\""
         ],
         "legendgroup": "LLM code (few-shot)",
         "marker": {
          "color": "#EF553B",
          "size": [
           0.23076923076923078,
           0.23076923076923078,
           0.15384615384615385
          ],
          "sizemode": "area",
          "sizeref": 0.0025,
          "symbol": "circle"
         },
         "mode": "markers",
         "name": "LLM code (few-shot)",
         "orientation": "v",
         "showlegend": true,
         "type": "scatter",
         "x": [
          -0.7930207848548889,
          0.16334736347198486,
          0.5099560022354126
         ],
         "xaxis": "x",
         "y": [
          7.030350208282471,
          6.98505973815918,
          6.0453901290893555
         ],
         "yaxis": "y"
        },
        {
         "hovertemplate": "<b>%{hovertext}</b><br><br>Color=Human code<br>x=%{x}<br>y=%{y}<br>Size=%{marker.size}<extra></extra>",
         "hovertext": [
          "uncertainty (1)</br></br>\"I had no idea what to expect and then bam…\"",
          "surprise (4)</br></br>\"I had no idea what to expect and then bam…\"",
          "violence (1)</br></br>\"seeing your character looking like a pin cushion\"",
          "realization (1)</br></br>\"“Oh Fuck, this game is even bigger than I thought”\"",
          "scale (2)</br></br>\"seeing the vast expanse of Siofra River as I descended the</br>elevator made my jaw hit the fucking floor\"",
          "awe (5)</br></br>\"seeing the vast expanse of Siofra River as I descended the</br>elevator made my jaw hit the fucking floor\"",
          "beauty (2)</br></br>\"the most beautiful area in the game\"",
          "dialogue (1)</br></br>\"Best dialogue in the game\"",
          "shared experience (1)</br></br>\"Kept telling my friends about that experience.\"",
          "shock (2)</br></br>\"my mouth just. Dropped. I was so in awe I just sat at my</br>desk for 5 minutes before even going back to the game.\"",
          "anticipation (1)</br></br>\"the absolute sheer scale of exploration being laid bare</br>before me as if to accent I still had much more to explore</br>than I thought in the world\"",
          "world (1)</br></br>\"I never had the cartoon ‘jaw-drop’ until that moment. I was</br>alone in my room almost drooling because of the beautiful</br>world opening up to me!\""
         ],
         "legendgroup": "Human code",
         "marker": {
          "color": "#00cc96",
          "size": [
           0.07692307692307693,
           0.3076923076923077,
           0.07692307692307693,
           0.07692307692307693,
           0.15384615384615385,
           0.38461538461538464,
           0.15384615384615385,
           0.07692307692307693,
           0.07692307692307693,
           0.15384615384615385,
           0.07692307692307693,
           0.07692307692307693
          ],
          "sizemode": "area",
          "sizeref": 0.0025,
          "symbol": "circle"
         },
         "mode": "markers",
         "name": "Human code",
         "orientation": "v",
         "showlegend": true,
         "type": "scatter",
         "x": [
          -0.5683022737503052,
          -0.7930207848548889,
          0.3371979892253876,
          0.16334736347198486,
          0.5099560022354126,
          -0.6146954894065857,
          1.2625269889831543,
          1.3203010559082031,
          0.9038059115409851,
          -0.9939702749252319,
          -0.9885355830192566,
          -0.031617794185876846
         ],
         "xaxis": "x",
         "y": [
          5.435676574707031,
          7.030350208282471,
          4.443818092346191,
          6.98505973815918,
          6.0453901290893555,
          6.401838779449463,
          5.103497505187988,
          7.32381534576416,
          6.756630897521973,
          7.312339782714844,
          5.777751922607422,
          6.301133155822754
         ],
         "yaxis": "y"
        }
       ],
       "layout": {
        "height": 800,
        "legend": {
         "itemsizing": "constant",
         "title": {
          "text": "Color"
         },
         "tracegroupgap": 0
        },
        "template": {
         "data": {
          "bar": [
           {
            "error_x": {
             "color": "#2a3f5f"
            },
            "error_y": {
             "color": "#2a3f5f"
            },
            "marker": {
             "line": {
              "color": "#E5ECF6",
              "width": 0.5
             },
             "pattern": {
              "fillmode": "overlay",
              "size": 10,
              "solidity": 0.2
             }
            },
            "type": "bar"
           }
          ],
          "barpolar": [
           {
            "marker": {
             "line": {
              "color": "#E5ECF6",
              "width": 0.5
             },
             "pattern": {
              "fillmode": "overlay",
              "size": 10,
              "solidity": 0.2
             }
            },
            "type": "barpolar"
           }
          ],
          "carpet": [
           {
            "aaxis": {
             "endlinecolor": "#2a3f5f",
             "gridcolor": "white",
             "linecolor": "white",
             "minorgridcolor": "white",
             "startlinecolor": "#2a3f5f"
            },
            "baxis": {
             "endlinecolor": "#2a3f5f",
             "gridcolor": "white",
             "linecolor": "white",
             "minorgridcolor": "white",
             "startlinecolor": "#2a3f5f"
            },
            "type": "carpet"
           }
          ],
          "choropleth": [
           {
            "colorbar": {
             "outlinewidth": 0,
             "ticks": ""
            },
            "type": "choropleth"
           }
          ],
          "contour": [
           {
            "colorbar": {
             "outlinewidth": 0,
             "ticks": ""
            },
            "colorscale": [
             [
              0,
              "#0d0887"
             ],
             [
              0.1111111111111111,
              "#46039f"
             ],
             [
              0.2222222222222222,
              "#7201a8"
             ],
             [
              0.3333333333333333,
              "#9c179e"
             ],
             [
              0.4444444444444444,
              "#bd3786"
             ],
             [
              0.5555555555555556,
              "#d8576b"
             ],
             [
              0.6666666666666666,
              "#ed7953"
             ],
             [
              0.7777777777777778,
              "#fb9f3a"
             ],
             [
              0.8888888888888888,
              "#fdca26"
             ],
             [
              1,
              "#f0f921"
             ]
            ],
            "type": "contour"
           }
          ],
          "contourcarpet": [
           {
            "colorbar": {
             "outlinewidth": 0,
             "ticks": ""
            },
            "type": "contourcarpet"
           }
          ],
          "heatmap": [
           {
            "colorbar": {
             "outlinewidth": 0,
             "ticks": ""
            },
            "colorscale": [
             [
              0,
              "#0d0887"
             ],
             [
              0.1111111111111111,
              "#46039f"
             ],
             [
              0.2222222222222222,
              "#7201a8"
             ],
             [
              0.3333333333333333,
              "#9c179e"
             ],
             [
              0.4444444444444444,
              "#bd3786"
             ],
             [
              0.5555555555555556,
              "#d8576b"
             ],
             [
              0.6666666666666666,
              "#ed7953"
             ],
             [
              0.7777777777777778,
              "#fb9f3a"
             ],
             [
              0.8888888888888888,
              "#fdca26"
             ],
             [
              1,
              "#f0f921"
             ]
            ],
            "type": "heatmap"
           }
          ],
          "heatmapgl": [
           {
            "colorbar": {
             "outlinewidth": 0,
             "ticks": ""
            },
            "colorscale": [
             [
              0,
              "#0d0887"
             ],
             [
              0.1111111111111111,
              "#46039f"
             ],
             [
              0.2222222222222222,
              "#7201a8"
             ],
             [
              0.3333333333333333,
              "#9c179e"
             ],
             [
              0.4444444444444444,
              "#bd3786"
             ],
             [
              0.5555555555555556,
              "#d8576b"
             ],
             [
              0.6666666666666666,
              "#ed7953"
             ],
             [
              0.7777777777777778,
              "#fb9f3a"
             ],
             [
              0.8888888888888888,
              "#fdca26"
             ],
             [
              1,
              "#f0f921"
             ]
            ],
            "type": "heatmapgl"
           }
          ],
          "histogram": [
           {
            "marker": {
             "pattern": {
              "fillmode": "overlay",
              "size": 10,
              "solidity": 0.2
             }
            },
            "type": "histogram"
           }
          ],
          "histogram2d": [
           {
            "colorbar": {
             "outlinewidth": 0,
             "ticks": ""
            },
            "colorscale": [
             [
              0,
              "#0d0887"
             ],
             [
              0.1111111111111111,
              "#46039f"
             ],
             [
              0.2222222222222222,
              "#7201a8"
             ],
             [
              0.3333333333333333,
              "#9c179e"
             ],
             [
              0.4444444444444444,
              "#bd3786"
             ],
             [
              0.5555555555555556,
              "#d8576b"
             ],
             [
              0.6666666666666666,
              "#ed7953"
             ],
             [
              0.7777777777777778,
              "#fb9f3a"
             ],
             [
              0.8888888888888888,
              "#fdca26"
             ],
             [
              1,
              "#f0f921"
             ]
            ],
            "type": "histogram2d"
           }
          ],
          "histogram2dcontour": [
           {
            "colorbar": {
             "outlinewidth": 0,
             "ticks": ""
            },
            "colorscale": [
             [
              0,
              "#0d0887"
             ],
             [
              0.1111111111111111,
              "#46039f"
             ],
             [
              0.2222222222222222,
              "#7201a8"
             ],
             [
              0.3333333333333333,
              "#9c179e"
             ],
             [
              0.4444444444444444,
              "#bd3786"
             ],
             [
              0.5555555555555556,
              "#d8576b"
             ],
             [
              0.6666666666666666,
              "#ed7953"
             ],
             [
              0.7777777777777778,
              "#fb9f3a"
             ],
             [
              0.8888888888888888,
              "#fdca26"
             ],
             [
              1,
              "#f0f921"
             ]
            ],
            "type": "histogram2dcontour"
           }
          ],
          "mesh3d": [
           {
            "colorbar": {
             "outlinewidth": 0,
             "ticks": ""
            },
            "type": "mesh3d"
           }
          ],
          "parcoords": [
           {
            "line": {
             "colorbar": {
              "outlinewidth": 0,
              "ticks": ""
             }
            },
            "type": "parcoords"
           }
          ],
          "pie": [
           {
            "automargin": true,
            "type": "pie"
           }
          ],
          "scatter": [
           {
            "fillpattern": {
             "fillmode": "overlay",
             "size": 10,
             "solidity": 0.2
            },
            "type": "scatter"
           }
          ],
          "scatter3d": [
           {
            "line": {
             "colorbar": {
              "outlinewidth": 0,
              "ticks": ""
             }
            },
            "marker": {
             "colorbar": {
              "outlinewidth": 0,
              "ticks": ""
             }
            },
            "type": "scatter3d"
           }
          ],
          "scattercarpet": [
           {
            "marker": {
             "colorbar": {
              "outlinewidth": 0,
              "ticks": ""
             }
            },
            "type": "scattercarpet"
           }
          ],
          "scattergeo": [
           {
            "marker": {
             "colorbar": {
              "outlinewidth": 0,
              "ticks": ""
             }
            },
            "type": "scattergeo"
           }
          ],
          "scattergl": [
           {
            "marker": {
             "colorbar": {
              "outlinewidth": 0,
              "ticks": ""
             }
            },
            "type": "scattergl"
           }
          ],
          "scattermapbox": [
           {
            "marker": {
             "colorbar": {
              "outlinewidth": 0,
              "ticks": ""
             }
            },
            "type": "scattermapbox"
           }
          ],
          "scatterpolar": [
           {
            "marker": {
             "colorbar": {
              "outlinewidth": 0,
              "ticks": ""
             }
            },
            "type": "scatterpolar"
           }
          ],
          "scatterpolargl": [
           {
            "marker": {
             "colorbar": {
              "outlinewidth": 0,
              "ticks": ""
             }
            },
            "type": "scatterpolargl"
           }
          ],
          "scatterternary": [
           {
            "marker": {
             "colorbar": {
              "outlinewidth": 0,
              "ticks": ""
             }
            },
            "type": "scatterternary"
           }
          ],
          "surface": [
           {
            "colorbar": {
             "outlinewidth": 0,
             "ticks": ""
            },
            "colorscale": [
             [
              0,
              "#0d0887"
             ],
             [
              0.1111111111111111,
              "#46039f"
             ],
             [
              0.2222222222222222,
              "#7201a8"
             ],
             [
              0.3333333333333333,
              "#9c179e"
             ],
             [
              0.4444444444444444,
              "#bd3786"
             ],
             [
              0.5555555555555556,
              "#d8576b"
             ],
             [
              0.6666666666666666,
              "#ed7953"
             ],
             [
              0.7777777777777778,
              "#fb9f3a"
             ],
             [
              0.8888888888888888,
              "#fdca26"
             ],
             [
              1,
              "#f0f921"
             ]
            ],
            "type": "surface"
           }
          ],
          "table": [
           {
            "cells": {
             "fill": {
              "color": "#EBF0F8"
             },
             "line": {
              "color": "white"
             }
            },
            "header": {
             "fill": {
              "color": "#C8D4E3"
             },
             "line": {
              "color": "white"
             }
            },
            "type": "table"
           }
          ]
         },
         "layout": {
          "annotationdefaults": {
           "arrowcolor": "#2a3f5f",
           "arrowhead": 0,
           "arrowwidth": 1
          },
          "autotypenumbers": "strict",
          "coloraxis": {
           "colorbar": {
            "outlinewidth": 0,
            "ticks": ""
           }
          },
          "colorscale": {
           "diverging": [
            [
             0,
             "#8e0152"
            ],
            [
             0.1,
             "#c51b7d"
            ],
            [
             0.2,
             "#de77ae"
            ],
            [
             0.3,
             "#f1b6da"
            ],
            [
             0.4,
             "#fde0ef"
            ],
            [
             0.5,
             "#f7f7f7"
            ],
            [
             0.6,
             "#e6f5d0"
            ],
            [
             0.7,
             "#b8e186"
            ],
            [
             0.8,
             "#7fbc41"
            ],
            [
             0.9,
             "#4d9221"
            ],
            [
             1,
             "#276419"
            ]
           ],
           "sequential": [
            [
             0,
             "#0d0887"
            ],
            [
             0.1111111111111111,
             "#46039f"
            ],
            [
             0.2222222222222222,
             "#7201a8"
            ],
            [
             0.3333333333333333,
             "#9c179e"
            ],
            [
             0.4444444444444444,
             "#bd3786"
            ],
            [
             0.5555555555555556,
             "#d8576b"
            ],
            [
             0.6666666666666666,
             "#ed7953"
            ],
            [
             0.7777777777777778,
             "#fb9f3a"
            ],
            [
             0.8888888888888888,
             "#fdca26"
            ],
            [
             1,
             "#f0f921"
            ]
           ],
           "sequentialminus": [
            [
             0,
             "#0d0887"
            ],
            [
             0.1111111111111111,
             "#46039f"
            ],
            [
             0.2222222222222222,
             "#7201a8"
            ],
            [
             0.3333333333333333,
             "#9c179e"
            ],
            [
             0.4444444444444444,
             "#bd3786"
            ],
            [
             0.5555555555555556,
             "#d8576b"
            ],
            [
             0.6666666666666666,
             "#ed7953"
            ],
            [
             0.7777777777777778,
             "#fb9f3a"
            ],
            [
             0.8888888888888888,
             "#fdca26"
            ],
            [
             1,
             "#f0f921"
            ]
           ]
          },
          "colorway": [
           "#636efa",
           "#EF553B",
           "#00cc96",
           "#ab63fa",
           "#FFA15A",
           "#19d3f3",
           "#FF6692",
           "#B6E880",
           "#FF97FF",
           "#FECB52"
          ],
          "font": {
           "color": "#2a3f5f"
          },
          "geo": {
           "bgcolor": "white",
           "lakecolor": "white",
           "landcolor": "#E5ECF6",
           "showlakes": true,
           "showland": true,
           "subunitcolor": "white"
          },
          "hoverlabel": {
           "align": "left"
          },
          "hovermode": "closest",
          "mapbox": {
           "style": "light"
          },
          "paper_bgcolor": "white",
          "plot_bgcolor": "#E5ECF6",
          "polar": {
           "angularaxis": {
            "gridcolor": "white",
            "linecolor": "white",
            "ticks": ""
           },
           "bgcolor": "#E5ECF6",
           "radialaxis": {
            "gridcolor": "white",
            "linecolor": "white",
            "ticks": ""
           }
          },
          "scene": {
           "xaxis": {
            "backgroundcolor": "#E5ECF6",
            "gridcolor": "white",
            "gridwidth": 2,
            "linecolor": "white",
            "showbackground": true,
            "ticks": "",
            "zerolinecolor": "white"
           },
           "yaxis": {
            "backgroundcolor": "#E5ECF6",
            "gridcolor": "white",
            "gridwidth": 2,
            "linecolor": "white",
            "showbackground": true,
            "ticks": "",
            "zerolinecolor": "white"
           },
           "zaxis": {
            "backgroundcolor": "#E5ECF6",
            "gridcolor": "white",
            "gridwidth": 2,
            "linecolor": "white",
            "showbackground": true,
            "ticks": "",
            "zerolinecolor": "white"
           }
          },
          "shapedefaults": {
           "line": {
            "color": "#2a3f5f"
           }
          },
          "ternary": {
           "aaxis": {
            "gridcolor": "white",
            "linecolor": "white",
            "ticks": ""
           },
           "baxis": {
            "gridcolor": "white",
            "linecolor": "white",
            "ticks": ""
           },
           "bgcolor": "#E5ECF6",
           "caxis": {
            "gridcolor": "white",
            "linecolor": "white",
            "ticks": ""
           }
          },
          "title": {
           "x": 0.05
          },
          "xaxis": {
           "automargin": true,
           "gridcolor": "white",
           "linecolor": "white",
           "ticks": "",
           "title": {
            "standoff": 15
           },
           "zerolinecolor": "white",
           "zerolinewidth": 2
          },
          "yaxis": {
           "automargin": true,
           "gridcolor": "white",
           "linecolor": "white",
           "ticks": "",
           "title": {
            "standoff": 15
           },
           "zerolinecolor": "white",
           "zerolinewidth": 2
          }
         }
        },
        "title": {
         "text": "Codes Visualised in 2D"
        },
        "width": 1000,
        "xaxis": {
         "anchor": "y",
         "autorange": true,
         "domain": [
          0,
          1
         ],
         "range": [
          -1.3523394515878513,
          1.7384902334246632
         ],
         "title": {
          "text": "x"
         },
         "type": "linear"
        },
        "yaxis": {
         "anchor": "x",
         "autorange": true,
         "domain": [
          0,
          1
         ],
         "range": [
          4.197532285751524,
          7.980452718891389
         ],
         "title": {
          "text": "y"
         },
         "type": "linear"
        }
       }
      },
      "image/png": "[encoded data removed]",
      "text/html": [
       "<div>                            <div id=\"04397c92-afac-43cd-98df-a72a603f417f\" class=\"plotly-graph-div\" style=\"height:800px; width:1000px;\"></div>            <script type=\"text/javascript\">                require([\"plotly\"], function(Plotly) {                    window.PLOTLYENV=window.PLOTLYENV || {};                                    if (document.getElementById(\"04397c92-afac-43cd-98df-a72a603f417f\")) {                    Plotly.newPlot(                        \"04397c92-afac-43cd-98df-a72a603f417f\",                        [{\"hovertemplate\":\"\\u003cb\\u003e%{hovertext}\\u003c\\u002fb\\u003e\\u003cbr\\u003e\\u003cbr\\u003eColor=LLM code (new)\\u003cbr\\u003ex=%{x}\\u003cbr\\u003ey=%{y}\\u003cbr\\u003eSize=%{marker.size}\\u003cextra\\u003e\\u003c\\u002fextra\\u003e\",\"hovertext\":[\"humor (1)\\u003c\\u002fbr\\u003e\\u003c\\u002fbr\\u003e\\\"look, adventuring is dangerous ok, can we leave it at that?\\\"\",\"danger (2)\\u003c\\u002fbr\\u003e\\u003c\\u002fbr\\u003e\\\"look, adventuring is dangerous ok, can we leave it at that?\\\"\",\"awe (8)\\u003c\\u002fbr\\u003e\\u003c\\u002fbr\\u003e\\\"I had no idea what to expect and then bam\\u2026 that view of that\\u003c\\u002fbr\\u003ehuge purple expanse.\\\"\",\"visual (3)\\u003c\\u002fbr\\u003e\\u003c\\u002fbr\\u003e\\\"that seeing your character looking like a pin cushion for\\u003c\\u002fbr\\u003eseveral minutes.\\\"\",\"impact (13)\\u003c\\u002fbr\\u003e\\u003c\\u002fbr\\u003e\\\"that seeing your character looking like a pin cushion for\\u003c\\u002fbr\\u003eseveral minutes.\\\"\",\"fear (1)\\u003c\\u002fbr\\u003e\\u003c\\u002fbr\\u003e\\\"shitting my pants down that lift to Nokron.\\\"\",\"connection (3)\\u003c\\u002fbr\\u003e\\u003c\\u002fbr\\u003e\\\"reminded me of the underground eco system on Skyrim where\\u003c\\u002fbr\\u003ethe snow elves recluses to\\\"\",\"anticipation (3)\\u003c\\u002fbr\\u003e\\u003c\\u002fbr\\u003e\\\"The moment I saw that elevator my first thought was \\u201cI\\u2019m\\u003c\\u002fbr\\u003egoing to end up in Blackreach.\\u201d\\\"\",\"foreboding (1)\\u003c\\u002fbr\\u003e\\u003c\\u002fbr\\u003e\\\"The moment I saw that elevator my first thought was \\u201cI\\u2019m\\u003c\\u002fbr\\u003egoing to end up in Blackreach.\\u201d\\\"\",\"reflection (1)\\u003c\\u002fbr\\u003e\\u003c\\u002fbr\\u003e\\\"I told myself to save that opinion for the morning when I\\u003c\\u002fbr\\u003ehave some rest and can think clearly. The opinion stayed\\\"\",\"immersion (1)\\u003c\\u002fbr\\u003e\\u003c\\u002fbr\\u003e\\\"never had the cartoon \\u2018jaw-drop\\u2019 until that moment. I was\\u003c\\u002fbr\\u003ealone in my room almost drooling because of the beautiful\\u003c\\u002fbr\\u003eworld opening up to me!\\\"\",\"emotion (2)\\u003c\\u002fbr\\u003e\\u003c\\u002fbr\\u003e\\\"never had the cartoon \\u2018jaw-drop\\u2019 until that moment. I was\\u003c\\u002fbr\\u003ealone in my room almost drooling because of the beautiful\\u003c\\u002fbr\\u003eworld opening up to me!\\\"\",\"character (4)\\u003c\\u002fbr\\u003e\\u003c\\u002fbr\\u003e\\\"Godrick the Golden.\\\"\",\"theme (2)\\u003c\\u002fbr\\u003e\\u003c\\u002fbr\\u003e\\\"Willful traitors, all!\\\"\"],\"legendgroup\":\"LLM code (new)\",\"marker\":{\"color\":\"#636efa\",\"size\":[0.07692307692307693,0.15384615384615385,0.6153846153846154,0.23076923076923078,1.0,0.07692307692307693,0.23076923076923078,0.23076923076923078,0.07692307692307693,0.07692307692307693,0.07692307692307693,0.15384615384615385,0.3076923076923077,0.15384615384615385],\"sizemode\":\"area\",\"sizeref\":0.0025,\"symbol\":\"circle\"},\"mode\":\"markers\",\"name\":\"LLM code (new)\",\"orientation\":\"v\",\"showlegend\":true,\"x\":[1.5336651802062988,-0.08823733776807785,-0.6146954894065857,0.873650312423706,-0.05188789218664169,-0.6864568591117859,0.974847674369812,-0.9885355830192566,-1.1791025400161743,1.0245553255081177,0.5765697956085205,1.557509422302246,1.0419015884399414,0.4012708365917206],\"xaxis\":\"x\",\"y\":[5.8366546630859375,4.42451810836792,6.401838779449463,5.154759407043457,7.694833755493164,4.623745918273926,6.314596176147461,5.777751922607422,5.310743808746338,7.71088171005249,7.720839023590088,6.2119669914245605,5.791705131530762,5.7439656257629395],\"yaxis\":\"y\",\"type\":\"scatter\"},{\"hovertemplate\":\"\\u003cb\\u003e%{hovertext}\\u003c\\u002fb\\u003e\\u003cbr\\u003e\\u003cbr\\u003eColor=LLM code (few-shot)\\u003cbr\\u003ex=%{x}\\u003cbr\\u003ey=%{y}\\u003cbr\\u003eSize=%{marker.size}\\u003cextra\\u003e\\u003c\\u002fextra\\u003e\",\"hovertext\":[\"surprise (3)\\u003c\\u002fbr\\u003e\\u003c\\u002fbr\\u003e\\\"I had no idea what to expect and then bam\\u2026 that view of that\\u003c\\u002fbr\\u003ehuge purple expanse.\\\"\",\"realization (3)\\u003c\\u002fbr\\u003e\\u003c\\u002fbr\\u003e\\\"That\\u2019s when I realized this game was much larger and more\\u003c\\u002fbr\\u003ediverse than I had ever imagined.\\\"\",\"scale (2)\\u003c\\u002fbr\\u003e\\u003c\\u002fbr\\u003e\\\"That\\u2019s when I realized this game was much larger and more\\u003c\\u002fbr\\u003ediverse than I had ever imagined.\\\"\"],\"legendgroup\":\"LLM code (few-shot)\",\"marker\":{\"color\":\"#EF553B\",\"size\":[0.23076923076923078,0.23076923076923078,0.15384615384615385],\"sizemode\":\"area\",\"sizeref\":0.0025,\"symbol\":\"circle\"},\"mode\":\"markers\",\"name\":\"LLM code (few-shot)\",\"orientation\":\"v\",\"showlegend\":true,\"x\":[-0.7930207848548889,0.16334736347198486,0.5099560022354126],\"xaxis\":\"x\",\"y\":[7.030350208282471,6.98505973815918,6.0453901290893555],\"yaxis\":\"y\",\"type\":\"scatter\"},{\"hovertemplate\":\"\\u003cb\\u003e%{hovertext}\\u003c\\u002fb\\u003e\\u003cbr\\u003e\\u003cbr\\u003eColor=Human code\\u003cbr\\u003ex=%{x}\\u003cbr\\u003ey=%{y}\\u003cbr\\u003eSize=%{marker.size}\\u003cextra\\u003e\\u003c\\u002fextra\\u003e\",\"hovertext\":[\"uncertainty (1)\\u003c\\u002fbr\\u003e\\u003c\\u002fbr\\u003e\\\"I had no idea what to expect and then bam\\u2026\\\"\",\"surprise (4)\\u003c\\u002fbr\\u003e\\u003c\\u002fbr\\u003e\\\"I had no idea what to expect and then bam\\u2026\\\"\",\"violence (1)\\u003c\\u002fbr\\u003e\\u003c\\u002fbr\\u003e\\\"seeing your character looking like a pin cushion\\\"\",\"realization (1)\\u003c\\u002fbr\\u003e\\u003c\\u002fbr\\u003e\\\"\\u201cOh Fuck, this game is even bigger than I thought\\u201d\\\"\",\"scale (2)\\u003c\\u002fbr\\u003e\\u003c\\u002fbr\\u003e\\\"seeing the vast expanse of Siofra River as I descended the\\u003c\\u002fbr\\u003eelevator made my jaw hit the fucking floor\\\"\",\"awe (5)\\u003c\\u002fbr\\u003e\\u003c\\u002fbr\\u003e\\\"seeing the vast expanse of Siofra River as I descended the\\u003c\\u002fbr\\u003eelevator made my jaw hit the fucking floor\\\"\",\"beauty (2)\\u003c\\u002fbr\\u003e\\u003c\\u002fbr\\u003e\\\"the most beautiful area in the game\\\"\",\"dialogue (1)\\u003c\\u002fbr\\u003e\\u003c\\u002fbr\\u003e\\\"Best dialogue in the game\\\"\",\"shared experience (1)\\u003c\\u002fbr\\u003e\\u003c\\u002fbr\\u003e\\\"Kept telling my friends about that experience.\\\"\",\"shock (2)\\u003c\\u002fbr\\u003e\\u003c\\u002fbr\\u003e\\\"my mouth just. Dropped. I was so in awe I just sat at my\\u003c\\u002fbr\\u003edesk for 5 minutes before even going back to the game.\\\"\",\"anticipation (1)\\u003c\\u002fbr\\u003e\\u003c\\u002fbr\\u003e\\\"the absolute sheer scale of exploration being laid bare\\u003c\\u002fbr\\u003ebefore me as if to accent I still had much more to explore\\u003c\\u002fbr\\u003ethan I thought in the world\\\"\",\"world (1)\\u003c\\u002fbr\\u003e\\u003c\\u002fbr\\u003e\\\"I never had the cartoon \\u2018jaw-drop\\u2019 until that moment. I was\\u003c\\u002fbr\\u003ealone in my room almost drooling because of the beautiful\\u003c\\u002fbr\\u003eworld opening up to me!\\\"\"],\"legendgroup\":\"Human code\",\"marker\":{\"color\":\"#00cc96\",\"size\":[0.07692307692307693,0.3076923076923077,0.07692307692307693,0.07692307692307693,0.15384615384615385,0.38461538461538464,0.15384615384615385,0.07692307692307693,0.07692307692307693,0.15384615384615385,0.07692307692307693,0.07692307692307693],\"sizemode\":\"area\",\"sizeref\":0.0025,\"symbol\":\"circle\"},\"mode\":\"markers\",\"name\":\"Human code\",\"orientation\":\"v\",\"showlegend\":true,\"x\":[-0.5683022737503052,-0.7930207848548889,0.3371979892253876,0.16334736347198486,0.5099560022354126,-0.6146954894065857,1.2625269889831543,1.3203010559082031,0.9038059115409851,-0.9939702749252319,-0.9885355830192566,-0.031617794185876846],\"xaxis\":\"x\",\"y\":[5.435676574707031,7.030350208282471,4.443818092346191,6.98505973815918,6.0453901290893555,6.401838779449463,5.103497505187988,7.32381534576416,6.756630897521973,7.312339782714844,5.777751922607422,6.301133155822754],\"yaxis\":\"y\",\"type\":\"scatter\"}],                        {\"template\":{\"data\":{\"histogram2dcontour\":[{\"type\":\"histogram2dcontour\",\"colorbar\":{\"outlinewidth\":0,\"ticks\":\"\"},\"colorscale\":[[0.0,\"#0d0887\"],[0.1111111111111111,\"#46039f\"],[0.2222222222222222,\"#7201a8\"],[0.3333333333333333,\"#9c179e\"],[0.4444444444444444,\"#bd3786\"],[0.5555555555555556,\"#d8576b\"],[0.6666666666666666,\"#ed7953\"],[0.7777777777777778,\"#fb9f3a\"],[0.8888888888888888,\"#fdca26\"],[1.0,\"#f0f921\"]]}],\"choropleth\":[{\"type\":\"choropleth\",\"colorbar\":{\"outlinewidth\":0,\"ticks\":\"\"}}],\"histogram2d\":[{\"type\":\"histogram2d\",\"colorbar\":{\"outlinewidth\":0,\"ticks\":\"\"},\"colorscale\":[[0.0,\"#0d0887\"],[0.1111111111111111,\"#46039f\"],[0.2222222222222222,\"#7201a8\"],[0.3333333333333333,\"#9c179e\"],[0.4444444444444444,\"#bd3786\"],[0.5555555555555556,\"#d8576b\"],[0.6666666666666666,\"#ed7953\"],[0.7777777777777778,\"#fb9f3a\"],[0.8888888888888888,\"#fdca26\"],[1.0,\"#f0f921\"]]}],\"heatmap\":[{\"type\":\"heatmap\",\"colorbar\":{\"outlinewidth\":0,\"ticks\":\"\"},\"colorscale\":[[0.0,\"#0d0887\"],[0.1111111111111111,\"#46039f\"],[0.2222222222222222,\"#7201a8\"],[0.3333333333333333,\"#9c179e\"],[0.4444444444444444,\"#bd3786\"],[0.5555555555555556,\"#d8576b\"],[0.6666666666666666,\"#ed7953\"],[0.7777777777777778,\"#fb9f3a\"],[0.8888888888888888,\"#fdca26\"],[1.0,\"#f0f921\"]]}],\"heatmapgl\":[{\"type\":\"heatmapgl\",\"colorbar\":{\"outlinewidth\":0,\"ticks\":\"\"},\"colorscale\":[[0.0,\"#0d0887\"],[0.1111111111111111,\"#46039f\"],[0.2222222222222222,\"#7201a8\"],[0.3333333333333333,\"#9c179e\"],[0.4444444444444444,\"#bd3786\"],[0.5555555555555556,\"#d8576b\"],[0.6666666666666666,\"#ed7953\"],[0.7777777777777778,\"#fb9f3a\"],[0.8888888888888888,\"#fdca26\"],[1.0,\"#f0f921\"]]}],\"contourcarpet\":[{\"type\":\"contourcarpet\",\"colorbar\":{\"outlinewidth\":0,\"ticks\":\"\"}}],\"contour\":[{\"type\":\"contour\",\"colorbar\":{\"outlinewidth\":0,\"ticks\":\"\"},\"colorscale\":[[0.0,\"#0d0887\"],[0.1111111111111111,\"#46039f\"],[0.2222222222222222,\"#7201a8\"],[0.3333333333333333,\"#9c179e\"],[0.4444444444444444,\"#bd3786\"],[0.5555555555555556,\"#d8576b\"],[0.6666666666666666,\"#ed7953\"],[0.7777777777777778,\"#fb9f3a\"],[0.8888888888888888,\"#fdca26\"],[1.0,\"#f0f921\"]]}],\"surface\":[{\"type\":\"surface\",\"colorbar\":{\"outlinewidth\":0,\"ticks\":\"\"},\"colorscale\":[[0.0,\"#0d0887\"],[0.1111111111111111,\"#46039f\"],[0.2222222222222222,\"#7201a8\"],[0.3333333333333333,\"#9c179e\"],[0.4444444444444444,\"#bd3786\"],[0.5555555555555556,\"#d8576b\"],[0.6666666666666666,\"#ed7953\"],[0.7777777777777778,\"#fb9f3a\"],[0.8888888888888888,\"#fdca26\"],[1.0,\"#f0f921\"]]}],\"mesh3d\":[{\"type\":\"mesh3d\",\"colorbar\":{\"outlinewidth\":0,\"ticks\":\"\"}}],\"scatter\":[{\"fillpattern\":{\"fillmode\":\"overlay\",\"size\":10,\"solidity\":0.2},\"type\":\"scatter\"}],\"parcoords\":[{\"type\":\"parcoords\",\"line\":{\"colorbar\":{\"outlinewidth\":0,\"ticks\":\"\"}}}],\"scatterpolargl\":[{\"type\":\"scatterpolargl\",\"marker\":{\"colorbar\":{\"outlinewidth\":0,\"ticks\":\"\"}}}],\"bar\":[{\"error_x\":{\"color\":\"#2a3f5f\"},\"error_y\":{\"color\":\"#2a3f5f\"},\"marker\":{\"line\":{\"color\":\"#E5ECF6\",\"width\":0.5},\"pattern\":{\"fillmode\":\"overlay\",\"size\":10,\"solidity\":0.2}},\"type\":\"bar\"}],\"scattergeo\":[{\"type\":\"scattergeo\",\"marker\":{\"colorbar\":{\"outlinewidth\":0,\"ticks\":\"\"}}}],\"scatterpolar\":[{\"type\":\"scatterpolar\",\"marker\":{\"colorbar\":{\"outlinewidth\":0,\"ticks\":\"\"}}}],\"histogram\":[{\"marker\":{\"pattern\":{\"fillmode\":\"overlay\",\"size\":10,\"solidity\":0.2}},\"type\":\"histogram\"}],\"scattergl\":[{\"type\":\"scattergl\",\"marker\":{\"colorbar\":{\"outlinewidth\":0,\"ticks\":\"\"}}}],\"scatter3d\":[{\"type\":\"scatter3d\",\"line\":{\"colorbar\":{\"outlinewidth\":0,\"ticks\":\"\"}},\"marker\":{\"colorbar\":{\"outlinewidth\":0,\"ticks\":\"\"}}}],\"scattermapbox\":[{\"type\":\"scattermapbox\",\"marker\":{\"colorbar\":{\"outlinewidth\":0,\"ticks\":\"\"}}}],\"scatterternary\":[{\"type\":\"scatterternary\",\"marker\":{\"colorbar\":{\"outlinewidth\":0,\"ticks\":\"\"}}}],\"scattercarpet\":[{\"type\":\"scattercarpet\",\"marker\":{\"colorbar\":{\"outlinewidth\":0,\"ticks\":\"\"}}}],\"carpet\":[{\"aaxis\":{\"endlinecolor\":\"#2a3f5f\",\"gridcolor\":\"white\",\"linecolor\":\"white\",\"minorgridcolor\":\"white\",\"startlinecolor\":\"#2a3f5f\"},\"baxis\":{\"endlinecolor\":\"#2a3f5f\",\"gridcolor\":\"white\",\"linecolor\":\"white\",\"minorgridcolor\":\"white\",\"startlinecolor\":\"#2a3f5f\"},\"type\":\"carpet\"}],\"table\":[{\"cells\":{\"fill\":{\"color\":\"#EBF0F8\"},\"line\":{\"color\":\"white\"}},\"header\":{\"fill\":{\"color\":\"#C8D4E3\"},\"line\":{\"color\":\"white\"}},\"type\":\"table\"}],\"barpolar\":[{\"marker\":{\"line\":{\"color\":\"#E5ECF6\",\"width\":0.5},\"pattern\":{\"fillmode\":\"overlay\",\"size\":10,\"solidity\":0.2}},\"type\":\"barpolar\"}],\"pie\":[{\"automargin\":true,\"type\":\"pie\"}]},\"layout\":{\"autotypenumbers\":\"strict\",\"colorway\":[\"#636efa\",\"#EF553B\",\"#00cc96\",\"#ab63fa\",\"#FFA15A\",\"#19d3f3\",\"#FF6692\",\"#B6E880\",\"#FF97FF\",\"#FECB52\"],\"font\":{\"color\":\"#2a3f5f\"},\"hovermode\":\"closest\",\"hoverlabel\":{\"align\":\"left\"},\"paper_bgcolor\":\"white\",\"plot_bgcolor\":\"#E5ECF6\",\"polar\":{\"bgcolor\":\"#E5ECF6\",\"angularaxis\":{\"gridcolor\":\"white\",\"linecolor\":\"white\",\"ticks\":\"\"},\"radialaxis\":{\"gridcolor\":\"white\",\"linecolor\":\"white\",\"ticks\":\"\"}},\"ternary\":{\"bgcolor\":\"#E5ECF6\",\"aaxis\":{\"gridcolor\":\"white\",\"linecolor\":\"white\",\"ticks\":\"\"},\"baxis\":{\"gridcolor\":\"white\",\"linecolor\":\"white\",\"ticks\":\"\"},\"caxis\":{\"gridcolor\":\"white\",\"linecolor\":\"white\",\"ticks\":\"\"}},\"coloraxis\":{\"colorbar\":{\"outlinewidth\":0,\"ticks\":\"\"}},\"colorscale\":{\"sequential\":[[0.0,\"#0d0887\"],[0.1111111111111111,\"#46039f\"],[0.2222222222222222,\"#7201a8\"],[0.3333333333333333,\"#9c179e\"],[0.4444444444444444,\"#bd3786\"],[0.5555555555555556,\"#d8576b\"],[0.6666666666666666,\"#ed7953\"],[0.7777777777777778,\"#fb9f3a\"],[0.8888888888888888,\"#fdca26\"],[1.0,\"#f0f921\"]],\"sequentialminus\":[[0.0,\"#0d0887\"],[0.1111111111111111,\"#46039f\"],[0.2222222222222222,\"#7201a8\"],[0.3333333333333333,\"#9c179e\"],[0.4444444444444444,\"#bd3786\"],[0.5555555555555556,\"#d8576b\"],[0.6666666666666666,\"#ed7953\"],[0.7777777777777778,\"#fb9f3a\"],[0.8888888888888888,\"#fdca26\"],[1.0,\"#f0f921\"]],\"diverging\":[[0,\"#8e0152\"],[0.1,\"#c51b7d\"],[0.2,\"#de77ae\"],[0.3,\"#f1b6da\"],[0.4,\"#fde0ef\"],[0.5,\"#f7f7f7\"],[0.6,\"#e6f5d0\"],[0.7,\"#b8e186\"],[0.8,\"#7fbc41\"],[0.9,\"#4d9221\"],[1,\"#276419\"]]},\"xaxis\":{\"gridcolor\":\"white\",\"linecolor\":\"white\",\"ticks\":\"\",\"title\":{\"standoff\":15},\"zerolinecolor\":\"white\",\"automargin\":true,\"zerolinewidth\":2},\"yaxis\":{\"gridcolor\":\"white\",\"linecolor\":\"white\",\"ticks\":\"\",\"title\":{\"standoff\":15},\"zerolinecolor\":\"white\",\"automargin\":true,\"zerolinewidth\":2},\"scene\":{\"xaxis\":{\"backgroundcolor\":\"#E5ECF6\",\"gridcolor\":\"white\",\"linecolor\":\"white\",\"showbackground\":true,\"ticks\":\"\",\"zerolinecolor\":\"white\",\"gridwidth\":2},\"yaxis\":{\"backgroundcolor\":\"#E5ECF6\",\"gridcolor\":\"white\",\"linecolor\":\"white\",\"showbackground\":true,\"ticks\":\"\",\"zerolinecolor\":\"white\",\"gridwidth\":2},\"zaxis\":{\"backgroundcolor\":\"#E5ECF6\",\"gridcolor\":\"white\",\"linecolor\":\"white\",\"showbackground\":true,\"ticks\":\"\",\"zerolinecolor\":\"white\",\"gridwidth\":2}},\"shapedefaults\":{\"line\":{\"color\":\"#2a3f5f\"}},\"annotationdefaults\":{\"arrowcolor\":\"#2a3f5f\",\"arrowhead\":0,\"arrowwidth\":1},\"geo\":{\"bgcolor\":\"white\",\"landcolor\":\"#E5ECF6\",\"subunitcolor\":\"white\",\"showland\":true,\"showlakes\":true,\"lakecolor\":\"white\"},\"title\":{\"x\":0.05},\"mapbox\":{\"style\":\"light\"}}},\"xaxis\":{\"anchor\":\"y\",\"domain\":[0.0,1.0],\"title\":{\"text\":\"x\"}},\"yaxis\":{\"anchor\":\"x\",\"domain\":[0.0,1.0],\"title\":{\"text\":\"y\"}},\"legend\":{\"title\":{\"text\":\"Color\"},\"tracegroupgap\":0,\"itemsizing\":\"constant\"},\"title\":{\"text\":\"Codes Visualised in 2D\"},\"height\":800,\"width\":1000},                        {\"responsive\": true}                    ).then(function(){\n",
       "                            \n",
       "var gd = document.getElementById('04397c92-afac-43cd-98df-a72a603f417f');\n",
       "var x = new MutationObserver(function (mutations, observer) {{\n",
       "        var display = window.getComputedStyle(gd).display;\n",
       "        if (!display || display === 'none') {{\n",
       "            console.log([gd, 'removed!']);\n",
       "            Plotly.purge(gd);\n",
       "            observer.disconnect();\n",
       "        }}\n",
       "}});\n",
       "\n",
       "// Listen for the removal of the full notebook cells\n",
       "var notebookContainer = gd.closest('#notebook-container');\n",
       "if (notebookContainer) {{\n",
       "    x.observe(notebookContainer, {childList: true});\n",
       "}}\n",
       "\n",
       "// Listen for the clearing of the current output cell\n",
       "var outputEl = gd.closest('.output');\n",
       "if (outputEl) {{\n",
       "    x.observe(outputEl, {childList: true});\n",
       "}}\n",
       "\n",
       "                        })                };                });            </script>        </div>"
      ]
     },
     "metadata": {},
     "output_type": "display_data"
    },
    {
     "data": {
      "text/html": [
       "<table border=\"1\" class=\"dataframe\">\n",
       "  <thead>\n",
       "    <tr style=\"text-align: right;\">\n",
       "      <th></th>\n",
       "      <th>llm_coded_text</th>\n",
       "      <th>human_coded_text</th>\n",
       "      <th>IoU</th>\n",
       "      <th>Hausdorff</th>\n",
       "    </tr>\n",
       "  </thead>\n",
       "  <tbody>\n",
       "    <tr>\n",
       "      <th>3</th>\n",
       "      <td>Likewise.</td>\n",
       "      <td>Likewise.</td>\n",
       "      <td>1.000000</td>\n",
       "      <td>0.000000</td>\n",
       "    </tr>\n",
       "    <tr>\n",
       "      <th>18</th>\n",
       "      <td>This 100%. <b>I jaw hit the floor when the cavern opened.</b><sup>awe; surprise</sup> <b>I was NOT ready for that!</b><sup>impact; surprise</sup></td>\n",
       "      <td>This 100%. <b>I jaw hit the floor when the cavern opened. I was NOT ready for that!</b><sup>shock; surprise; awe</sup></td>\n",
       "      <td>1.000000</td>\n",
       "      <td>0.032850</td>\n",
       "    </tr>\n",
       "    <tr>\n",
       "      <th>9</th>\n",
       "      <td>&quot;But hell, I&#x27;m not turning back&quot;<b><sup>determination; perseverance</sup></b>. Oh, yeah.</td>\n",
       "      <td>&quot;But hell, I&#x27;m not turning back&quot;. Oh, yeah.</td>\n",
       "      <td>1.000000</td>\n",
       "      <td>0.000000</td>\n",
       "    </tr>\n",
       "    <tr>\n",
       "      <th>7</th>\n",
       "      <td><b>Best dialogue in the game</b><sup>impact</sup></td>\n",
       "      <td><b>Best dialogue in the game</b><sup>dialogue</sup></td>\n",
       "      <td>1.000000</td>\n",
       "      <td>0.136444</td>\n",
       "    </tr>\n",
       "    <tr>\n",
       "      <th>15</th>\n",
       "      <td>I <b>never had the cartoon ‘jaw-drop’ until that moment. I was alone in my room almost drooling because of the beautiful world opening up to me!</b><sup>awe; immersion; emotion</sup></td>\n",
       "      <td><b>I never had the cartoon ‘jaw-drop’ until that moment. I was alone in my room almost drooling because of the beautiful world opening up to me!</b><sup>awe; beauty; world</sup></td>\n",
       "      <td>0.990991</td>\n",
       "      <td>0.068025</td>\n",
       "    </tr>\n",
       "    <tr>\n",
       "      <th>14</th>\n",
       "      <td>Siofra river reveal is definitely my fave too, just due to the <b>absolute sheer scale of exploration being laid bare before me</b><sup>scale; awe</sup> <b>as if to accent I still had much more to explore than I thought in the world.</b><sup>anticipation</sup></td>\n",
       "      <td>Siofra river reveal is definitely my fave too, just due to <b>the absolute sheer scale of exploration being laid bare before me as if to accent I still had much more to explore than I thought in the world</b><sup>scale; anticipation; surprise</sup>.</td>\n",
       "      <td>0.973913</td>\n",
       "      <td>0.037599</td>\n",
       "    </tr>\n",
       "    <tr>\n",
       "      <th>6</th>\n",
       "      <td>I knew going into the game that it was gonna be pretty, but <b>seeing the vast expanse of Siofra River as I descended the elevator made my jaw hit the fucking floor.</b><sup>awe; visual</sup> <b>Easily the most beautiful area in the game.</b><sup>impact; visual</sup></td>\n",
       "      <td>I knew going into the game that it was gonna be pretty, but <b>seeing the vast expanse of Siofra River as I descended the elevator made my jaw hit the fucking floor</b><sup>scale; awe</sup>.  Easily <b>the most beautiful area in the game</b><sup>beauty</sup>.</td>\n",
       "      <td>0.949153</td>\n",
       "      <td>0.073606</td>\n",
       "    </tr>\n",
       "    <tr>\n",
       "      <th>2</th>\n",
       "      <td>nothing is quite as memorable <b>that seeing your character looking like a pin cushion for several minutes.</b><sup>visual; impact</sup></td>\n",
       "      <td>nothing is quite as memorable that <b>seeing your character looking like a pin cushion</b><sup>violence</sup> for several minutes.</td>\n",
       "      <td>0.661290</td>\n",
       "      <td>0.143573</td>\n",
       "    </tr>\n",
       "    <tr>\n",
       "      <th>12</th>\n",
       "      <td>Yes! <b>Felt like I was traveling for ages!</b><sup>anticipation</sup> <b>Kept telling my friends about that experience. It was my first underground area and it was just so jaw dropping</b><sup>awe; connection</sup></td>\n",
       "      <td>Yes! Felt like I was traveling for ages! <b>Kept telling my friends about that experience.</b><sup>shared experience</sup> It was my first underground area and <b>it was just so jaw dropping</b><sup>awe</sup></td>\n",
       "      <td>0.512605</td>\n",
       "      <td>0.053701</td>\n",
       "    </tr>\n",
       "    <tr>\n",
       "      <th>13</th>\n",
       "      <td>This. It was 4 am and I&#x27;d been playing for 10 hours straight no breaks except to eat and use the restroom and even eating I would do at my PC (I was excited okay) and <b>I remember stumbling across this and my mouth just. Dropped. I was so in awe</b><sup>awe</sup> <b>I just sat at my desk for 5 minutes before even going back to the game.</b><sup>impact</sup> <b>I told myself I&#x27;m getting too excited and this game is too good and I&#x27;m too delirious to say this but Elden Ring is the best game I&#x27;ve ever played.</b><sup>impact; realization</sup> <b>I told myself to save that opinion for the morning when I have some rest and can think clearly. The opinion stayed</b><sup>reflection</sup></td>\n",
       "      <td>This. It was 4 am and I&#x27;d been playing for 10 hours straight no breaks except to eat and use the restroom and even eating I would do at my PC (I was excited okay) and I remember stumbling across this and <b>my mouth just. Dropped. I was so in awe I just sat at my desk for 5 minutes before even going back to the game.</b><sup>awe; shock</sup> I told myself I&#x27;m getting too excited and this game is too good and I&#x27;m too delirious to say this but Elden Ring is the best game I&#x27;ve ever played. I told myself to save that opinion for the morning when I have some rest and can think clearly. The opinion stayed</td>\n",
       "      <td>0.261682</td>\n",
       "      <td>0.071456</td>\n",
       "    </tr>\n",
       "    <tr>\n",
       "      <th>1</th>\n",
       "      <td>Yeah me it was the first elevator down to Sofia River… <b>I had no idea what to expect and then bam… that view of that huge purple expanse.</b><sup>surprise; awe</sup> <b>That’s when I realized this game was much larger and more diverse than I had ever imagined.</b><sup>realization; scale</sup></td>\n",
       "      <td>Yeah me it was the first elevator down to Sofia River… <b>I had no idea what to expect and then bam…</b><sup>uncertainty; surprise</sup> that view of that huge purple expanse. That’s when I realized this game was much larger and more diverse than I had ever imagined</td>\n",
       "      <td>0.235294</td>\n",
       "      <td>0.089994</td>\n",
       "    </tr>\n",
       "    <tr>\n",
       "      <th>0</th>\n",
       "      <td>I used to be an adventurer like you. Then I took an arrow in the… <b>look, adventuring is dangerous ok, can we leave it at that?</b><sup>humor; danger</sup></td>\n",
       "      <td>I used to be an adventurer like you. Then I took an arrow in the… look, adventuring is dangerous ok, can we leave it at that?</td>\n",
       "      <td>0.000000</td>\n",
       "      <td>0.115530</td>\n",
       "    </tr>\n",
       "    <tr>\n",
       "      <th>11</th>\n",
       "      <td>Except <b>no annoyingly whiny red plants or vomiting armored cockroaches</b><sup>impact</sup>.</td>\n",
       "      <td>Except no annoyingly whiny red plants or vomiting armored cockroaches.</td>\n",
       "      <td>0.000000</td>\n",
       "      <td>0.092223</td>\n",
       "    </tr>\n",
       "    <tr>\n",
       "      <th>10</th>\n",
       "      <td>&gt;\\tThe first time I went down the elevator to Nokron honestly. <br><br><b>The moment I saw that elevator my first thought was “I’m going to end up in Blackreach.”</b><sup>anticipation; foreboding</sup></td>\n",
       "      <td>&gt;\\tThe first time I went down the elevator to Nokron honestly. <br><br>The moment I saw that elevator my first thought was “I’m going to end up in Blackreach”.</td>\n",
       "      <td>0.000000</td>\n",
       "      <td>0.105155</td>\n",
       "    </tr>\n",
       "    <tr>\n",
       "      <th>8</th>\n",
       "      <td>I agree, <b>reminded me of the underground eco system on Skyrim where the snow elves recluses to</b><sup>realization; connection</sup>.</td>\n",
       "      <td>I agree, reminded me of the underground eco system on Skyrim where the snow elves recluses to.</td>\n",
       "      <td>0.000000</td>\n",
       "      <td>0.069504</td>\n",
       "    </tr>\n",
       "    <tr>\n",
       "      <th>4</th>\n",
       "      <td>Dude i was <b>shitting my pants down that lift to Nokron.</b><sup>danger; fear</sup> I clearly remember just saying <b>“holy fuuuuck”</b><sup>awe</sup> and taking it all in.</td>\n",
       "      <td>Dude i was shitting my pants down that lift to Nokron. I clearly remember just saying “holy fuuuuck” and taking it all in.</td>\n",
       "      <td>0.000000</td>\n",
       "      <td>0.101391</td>\n",
       "    </tr>\n",
       "    <tr>\n",
       "      <th>5</th>\n",
       "      <td>“Oh Fuck, this game is even bigger than I thought”<sup>surprise</sup> and then “Oh FUCK I do no damage to these things”<sup>frustration</sup>.</td>\n",
       "      <td><b>“Oh Fuck, this game is even bigger than I thought”</b><sup>surprise; realization</sup> and then “Oh FUCK I do no damage to these things”</td>\n",
       "      <td>0.000000</td>\n",
       "      <td>0.085326</td>\n",
       "    </tr>\n",
       "    <tr>\n",
       "      <th>16</th>\n",
       "      <td>I took an arrow to every <b>oriface</b>.<sup>impact; humor</sup></td>\n",
       "      <td>I took an arrow to every oriface.</td>\n",
       "      <td>0.000000</td>\n",
       "      <td>0.000000</td>\n",
       "    </tr>\n",
       "    <tr>\n",
       "      <th>17</th>\n",
       "      <td>Graceless Tarnished. <br><br>What is thy business with these thrones?<br><br>Ahhhh….<br><br><b>Godrick the Golden.</b><sup>character; impact</sup> <br><br><b>The twin prodigies, Miquella and Malenia.</b><sup>character; impact</sup> <br><br><b>General Radahn.</b><sup>character; impact</sup> *Praetor Rykard.* <b>Lunar princess Ranni.</b><sup>character; impact</sup> <br><br><b>Willful traitors, all!</b><sup>theme; impact</sup> <br><br>Thy kind are all of a piece. Pillagers, emboldened by the flame of ambition!<br><br><b>Have it writ upon thy meagre grave. Felled, by King Morgott! Last of all kings.</b><sup>theme; impact</sup></td>\n",
       "      <td>Graceless Tarnished. <br><br>What is thy business with these thrones?<br><br>Ahhhh….<br><br>Godrick the Golden. <br><br>The twin prodigies, Miquella and Malenia. <br><br>General Radahn. *Praetor Rykard.* Lunar princess Ranni. <br><br>Willful traitors, all! <br><br>Thy kind are all of a piece. Pillagers, emboldened by the flame of ambition!<br><br>Have it writ upon thy meagre grave. Felled, by King Morgott! Last of all kings.</td>\n",
       "      <td>0.000000</td>\n",
       "      <td>0.072951</td>\n",
       "    </tr>\n",
       "    <tr>\n",
       "      <th>19</th>\n",
       "      <td>Yeah, this is <b>hands down one of my top soulsborneringiro moments!</b><sup>emotion; connection</sup></td>\n",
       "      <td>Yeah, this is hands down one of my top soulsborneringiro moments!</td>\n",
       "      <td>0.000000</td>\n",
       "      <td>0.076554</td>\n",
       "    </tr>\n",
       "  </tbody>\n",
       "</table>"
      ],
      "text/plain": [
       "<IPython.core.display.HTML object>"
      ]
     },
     "metadata": {},
     "output_type": "display_data"
    }
   ],
   "source": [
    "# Add more instructions, based on the evaluation results in the previous section\n",
    "coding_instructions = f\"\"\"\n",
    "- Ignore text that is not insightful with regards to the research question: {research_question}.\n",
    "- Emphasise codes about emotions.\n",
    "\"\"\"\n",
    "\n",
    "# Run coding\n",
    "code_and_eval(df_val, coding_instructions)"
   ]
  },
  {
   "cell_type": "code",
   "execution_count": null,
   "metadata": {},
   "outputs": [],
   "source": [
    "# Copy the instruction from the previous cell and add even more instructions, based on the evaluation results in the previous cell\n",
    "coding_instructions = # TODO: Copy and improve code instructions from previous cell\n",
    "\n",
    "# Run coding\n",
    "code_and_eval(df_val, coding_instructions)"
   ]
  },
  {
   "cell_type": "code",
   "execution_count": null,
   "metadata": {},
   "outputs": [],
   "source": [
    "# Copy the instruction from the previous cell and add even more instructions, based on the evaluation results in the previous cell\n",
    "coding_instructions = # TODO: Copy and improve code instructions from previous cell\n",
    "\n",
    "# Run coding\n",
    "code_and_eval(df_val, coding_instructions)"
   ]
  },
  {
   "cell_type": "markdown",
   "metadata": {},
   "source": [
    "## Validation and test data\n",
    "\n",
    "In all AI and Machine Learning, a common danger is to [overfit](https://en.wikipedia.org/wiki/Overfitting) one's model or approach to some data, making it generalize poorly to new data.\n",
    "\n",
    "**The more you iterate on your prompt instructions and examples, the more you are in danger of overfitting.**\n",
    "\n",
    "This is why it is a standard practice to split one's data into [three distinct parts](https://en.wikipedia.org/wiki/Training,_validation,_and_test_data_sets):\n",
    "\n",
    "1. Training data: This is used to train a model. Whilst we're not actually training the LLM here, this is analogous to the few-shot examples we chose for the prompts since they are data for which the ground truth (i.e. the human codes) is shown to the model.\n",
    "\n",
    "2. Validation data: This is typically used to search for the best possible [hyperparameters](https://en.wikipedia.org/wiki/Hyperparameter_(machine_learning) such as when to stop training or how many layers to use in a neural network model.\n",
    "\n",
    "3. Test data: This is used to test the performance of the final model after the hyperparameter tuning. *Separating test and validation data avoids overly optimistic test results caused by overfitting the hyperparameters to the validation data*.\n",
    "\n",
    "The prompt instructions, which we tuned in this notebook, can be considered as a hyperparameter. Therefore, **one should ideally iterate/optimize the prompt with validation data and when done, verify the performance with a separate set of test data**. This is especially important if your human-defined reference dataset is small.\n",
    "\n",
    "**For academic research, we recommend using at least 100 texts for both the validation and test data**, i.e., the data file should have at least 200 texts with human-annotated ground truth highlights, as the first 100 would be used for validation and next 100 for testing.\n",
    "\n",
    "**For industry research**, the designer or researcher should use their own judgement - how crucial is it to be able to measure the performance accurately?\n",
    "\n",
    "### How to report LLM use in qualitative research?\n",
    "\n",
    "There does not currently exist an established best practice for reporting LLM-based qualitative analysis tool use, but if you use the LLM-based highlighting, you could report at least the full prompt with examples, the number of validation and test data texts, the validation and test data IoUs, and a table with examples of the worst and best case LLM performance so that the reader can judge themselves if the LLM performance is acceptable.\n",
    "\n",
    "### Evaluate the final prompt on the test data\n",
    "\n",
    "You may recall how we earlier divided the data in `coded_file` into validation and test sets. So far, we have only used the validation data. Once you're done iterating on your `coding_instructions`, run the code below to evaluate the model using the test data. This will provide a final reading of the model's performance. Note: this will re-use the final instructions defined in the above section.\n",
    "\n",
    "Inspect the results. Is the LLM performance different than for the validation data? Can you spot any further human annotation errors or inconsistencies that should perhaps be corrected?"
   ]
  },
  {
   "cell_type": "code",
   "execution_count": 21,
   "metadata": {},
   "outputs": [
    {
     "name": "stdout",
     "output_type": "stream",
     "text": [
      " |████████████████████████████████████████████████████████████████████████████████████████████████████| 100.0% \n",
      " |----------------------------------------------------------------------------------------------------| 0.0% \n",
      "Average IoU: 0.4306\n",
      "Average Hausdorff distance: 0.0733\n",
      " |----------------------------------------------------------------------------------------------------| 0.0% \n"
     ]
    },
    {
     "data": {
      "application/vnd.plotly.v1+json": {
       "config": {
        "plotlyServerURL": "https://plot.ly"
       },
       "data": [
        {
         "hovertemplate": "<b>%{hovertext}</b><br><br>Color=LLM code (new)<br>x=%{x}<br>y=%{y}<br>Size=%{marker.size}<extra></extra>",
         "hovertext": [
          "importance (6)</br></br>\"thats been the biggest deal for me too\"",
          "emotion (13)</br></br>\"thats been the biggest deal for me too\"",
          "challenge (2)</br></br>\"thus far and those snipers were absurd.\"",
          "frustration (4)</br></br>\"thus far and those snipers were absurd.\"",
          "excitement (2)</br></br>\"the reveal of that huge expanse was beautiful and got me</br>excited for everything the game had in store for me\"",
          "beauty (3)</br></br>\"Never before have I seen something so breathtakingly</br>beautiful in a video game.\"",
          "fear (2)</br></br>\"That place nearly gave me ptsd\"",
          "expectation (1)</br></br>\"Maybe a dungeon or something.\"",
          "anticipation (1)</br></br>\"I would get up, grab some water, and when I came back, the</br>elevator was still going\"",
          "waiting (1)</br></br>\"I would get up, grab some water, and when I came back, the</br>elevator was still going\""
         ],
         "legendgroup": "LLM code (new)",
         "marker": {
          "color": "#636efa",
          "size": [
           0.46153846153846156,
           1,
           0.15384615384615385,
           0.3076923076923077,
           0.15384615384615385,
           0.23076923076923078,
           0.15384615384615385,
           0.07692307692307693,
           0.07692307692307693,
           0.07692307692307693
          ],
          "sizemode": "area",
          "sizeref": 0.0025,
          "symbol": "circle"
         },
         "mode": "markers",
         "name": "LLM code (new)",
         "orientation": "v",
         "showlegend": true,
         "type": "scatter",
         "x": [
          7.157641887664795,
          6.344186305999756,
          6.948410987854004,
          7.443328857421875,
          6.799767017364502,
          8.524198532104492,
          8.14043140411377,
          6.973741054534912,
          7.7906813621521,
          7.569809436798096
         ],
         "xaxis": "x",
         "y": [
          4.481316089630127,
          1.0761239528656006,
          3.3066418170928955,
          0.996146559715271,
          1.3942853212356567,
          4.110876083374023,
          1.2250568866729736,
          2.7095258235931396,
          1.9954524040222168,
          2.3101320266723633
         ],
         "yaxis": "y"
        },
        {
         "hovertemplate": "<b>%{hovertext}</b><br><br>Color=LLM code (few-shot)<br>x=%{x}<br>y=%{y}<br>Size=%{marker.size}<extra></extra>",
         "hovertext": [
          "realization (2)</br></br>\"Siofra River did not disappoint. That was also when I</br>realized the world was gonna be way bigger than I expected</br>and I had no idea how big it was.\"",
          "surprise (8)</br></br>\"I don’t usually gasp audibly alone in my guest room at 4am,</br>but when I do, it’s because I saw Nokron for the first time.\"",
          "scale (3)</br></br>\"MY GOD this was incredible. First time I went down to the</br>Siofra River I was completely shocked at how massive the</br>scale seemed to be\""
         ],
         "legendgroup": "LLM code (few-shot)",
         "marker": {
          "color": "#EF553B",
          "size": [
           0.15384615384615385,
           0.6153846153846154,
           0.23076923076923078
          ],
          "sizemode": "area",
          "sizeref": 0.0025,
          "symbol": "circle"
         },
         "mode": "markers",
         "name": "LLM code (few-shot)",
         "orientation": "v",
         "showlegend": true,
         "type": "scatter",
         "x": [
          7.841649532318115,
          6.733046531677246,
          7.43516206741333
         ],
         "xaxis": "x",
         "y": [
          3.3852312564849854,
          1.9900025129318237,
          4.0318498611450195
         ],
         "yaxis": "y"
        },
        {
         "hovertemplate": "<b>%{hovertext}</b><br><br>Color=Human code<br>x=%{x}<br>y=%{y}<br>Size=%{marker.size}<extra></extra>",
         "hovertext": [
          "absurd (1)</br></br>\"those snipers were absurd\"",
          "surprise (7)</br></br>\"the reveal of that huge expanse was beautiful\"",
          "beauty (3)</br></br>\"the reveal of that huge expanse was beautiful\"",
          "anticipation (2)</br></br>\"got me excited for everything the game had in store for me\"",
          "scale (3)</br></br>\"when I realized the world was gonna be way bigger than I</br>expected\"",
          "uncertainty (1)</br></br>\"I had no idea how big it was\"",
          "shock (3)</br></br>\"I don’t usually gasp audibly\"",
          "awe (4)</br></br>\"Never before have I seen something so breathtakingly</br>beautiful in a video game.\"",
          "design (1)</br></br>\"Incredible game design\"",
          "violence (1)</br></br>\"A six foot spectral arrow embedded in your chest\"",
          "weakness (1)</br></br>\"took one swing at them with my bloodhound fang that dealt</br>very little damage and nope'd the hell on outta there\""
         ],
         "legendgroup": "Human code",
         "marker": {
          "color": "#00cc96",
          "size": [
           0.07692307692307693,
           0.5384615384615384,
           0.23076923076923078,
           0.15384615384615385,
           0.23076923076923078,
           0.07692307692307693,
           0.23076923076923078,
           0.3076923076923077,
           0.07692307692307693,
           0.07692307692307693,
           0.07692307692307693
          ],
          "sizemode": "area",
          "sizeref": 0.0025,
          "symbol": "circle"
         },
         "mode": "markers",
         "name": "Human code",
         "orientation": "v",
         "showlegend": true,
         "type": "scatter",
         "x": [
          8.635713577270508,
          6.733046531677246,
          8.524198532104492,
          7.7906813621521,
          7.43516206741333,
          7.758149147033691,
          6.475813388824463,
          8.419215202331543,
          7.098013877868652,
          5.935817241668701,
          7.651259422302246
         ],
         "xaxis": "x",
         "y": [
          3.174006938934326,
          1.9900025129318237,
          4.110876083374023,
          1.9954524040222168,
          4.0318498611450195,
          1.5200966596603394,
          2.2321817874908447,
          3.616605281829834,
          3.764002799987793,
          1.1706968545913696,
          4.61513090133667
         ],
         "yaxis": "y"
        }
       ],
       "layout": {
        "height": 800,
        "legend": {
         "itemsizing": "constant",
         "title": {
          "text": "Color"
         },
         "tracegroupgap": 0
        },
        "template": {
         "data": {
          "bar": [
           {
            "error_x": {
             "color": "#2a3f5f"
            },
            "error_y": {
             "color": "#2a3f5f"
            },
            "marker": {
             "line": {
              "color": "#E5ECF6",
              "width": 0.5
             },
             "pattern": {
              "fillmode": "overlay",
              "size": 10,
              "solidity": 0.2
             }
            },
            "type": "bar"
           }
          ],
          "barpolar": [
           {
            "marker": {
             "line": {
              "color": "#E5ECF6",
              "width": 0.5
             },
             "pattern": {
              "fillmode": "overlay",
              "size": 10,
              "solidity": 0.2
             }
            },
            "type": "barpolar"
           }
          ],
          "carpet": [
           {
            "aaxis": {
             "endlinecolor": "#2a3f5f",
             "gridcolor": "white",
             "linecolor": "white",
             "minorgridcolor": "white",
             "startlinecolor": "#2a3f5f"
            },
            "baxis": {
             "endlinecolor": "#2a3f5f",
             "gridcolor": "white",
             "linecolor": "white",
             "minorgridcolor": "white",
             "startlinecolor": "#2a3f5f"
            },
            "type": "carpet"
           }
          ],
          "choropleth": [
           {
            "colorbar": {
             "outlinewidth": 0,
             "ticks": ""
            },
            "type": "choropleth"
           }
          ],
          "contour": [
           {
            "colorbar": {
             "outlinewidth": 0,
             "ticks": ""
            },
            "colorscale": [
             [
              0,
              "#0d0887"
             ],
             [
              0.1111111111111111,
              "#46039f"
             ],
             [
              0.2222222222222222,
              "#7201a8"
             ],
             [
              0.3333333333333333,
              "#9c179e"
             ],
             [
              0.4444444444444444,
              "#bd3786"
             ],
             [
              0.5555555555555556,
              "#d8576b"
             ],
             [
              0.6666666666666666,
              "#ed7953"
             ],
             [
              0.7777777777777778,
              "#fb9f3a"
             ],
             [
              0.8888888888888888,
              "#fdca26"
             ],
             [
              1,
              "#f0f921"
             ]
            ],
            "type": "contour"
           }
          ],
          "contourcarpet": [
           {
            "colorbar": {
             "outlinewidth": 0,
             "ticks": ""
            },
            "type": "contourcarpet"
           }
          ],
          "heatmap": [
           {
            "colorbar": {
             "outlinewidth": 0,
             "ticks": ""
            },
            "colorscale": [
             [
              0,
              "#0d0887"
             ],
             [
              0.1111111111111111,
              "#46039f"
             ],
             [
              0.2222222222222222,
              "#7201a8"
             ],
             [
              0.3333333333333333,
              "#9c179e"
             ],
             [
              0.4444444444444444,
              "#bd3786"
             ],
             [
              0.5555555555555556,
              "#d8576b"
             ],
             [
              0.6666666666666666,
              "#ed7953"
             ],
             [
              0.7777777777777778,
              "#fb9f3a"
             ],
             [
              0.8888888888888888,
              "#fdca26"
             ],
             [
              1,
              "#f0f921"
             ]
            ],
            "type": "heatmap"
           }
          ],
          "heatmapgl": [
           {
            "colorbar": {
             "outlinewidth": 0,
             "ticks": ""
            },
            "colorscale": [
             [
              0,
              "#0d0887"
             ],
             [
              0.1111111111111111,
              "#46039f"
             ],
             [
              0.2222222222222222,
              "#7201a8"
             ],
             [
              0.3333333333333333,
              "#9c179e"
             ],
             [
              0.4444444444444444,
              "#bd3786"
             ],
             [
              0.5555555555555556,
              "#d8576b"
             ],
             [
              0.6666666666666666,
              "#ed7953"
             ],
             [
              0.7777777777777778,
              "#fb9f3a"
             ],
             [
              0.8888888888888888,
              "#fdca26"
             ],
             [
              1,
              "#f0f921"
             ]
            ],
            "type": "heatmapgl"
           }
          ],
          "histogram": [
           {
            "marker": {
             "pattern": {
              "fillmode": "overlay",
              "size": 10,
              "solidity": 0.2
             }
            },
            "type": "histogram"
           }
          ],
          "histogram2d": [
           {
            "colorbar": {
             "outlinewidth": 0,
             "ticks": ""
            },
            "colorscale": [
             [
              0,
              "#0d0887"
             ],
             [
              0.1111111111111111,
              "#46039f"
             ],
             [
              0.2222222222222222,
              "#7201a8"
             ],
             [
              0.3333333333333333,
              "#9c179e"
             ],
             [
              0.4444444444444444,
              "#bd3786"
             ],
             [
              0.5555555555555556,
              "#d8576b"
             ],
             [
              0.6666666666666666,
              "#ed7953"
             ],
             [
              0.7777777777777778,
              "#fb9f3a"
             ],
             [
              0.8888888888888888,
              "#fdca26"
             ],
             [
              1,
              "#f0f921"
             ]
            ],
            "type": "histogram2d"
           }
          ],
          "histogram2dcontour": [
           {
            "colorbar": {
             "outlinewidth": 0,
             "ticks": ""
            },
            "colorscale": [
             [
              0,
              "#0d0887"
             ],
             [
              0.1111111111111111,
              "#46039f"
             ],
             [
              0.2222222222222222,
              "#7201a8"
             ],
             [
              0.3333333333333333,
              "#9c179e"
             ],
             [
              0.4444444444444444,
              "#bd3786"
             ],
             [
              0.5555555555555556,
              "#d8576b"
             ],
             [
              0.6666666666666666,
              "#ed7953"
             ],
             [
              0.7777777777777778,
              "#fb9f3a"
             ],
             [
              0.8888888888888888,
              "#fdca26"
             ],
             [
              1,
              "#f0f921"
             ]
            ],
            "type": "histogram2dcontour"
           }
          ],
          "mesh3d": [
           {
            "colorbar": {
             "outlinewidth": 0,
             "ticks": ""
            },
            "type": "mesh3d"
           }
          ],
          "parcoords": [
           {
            "line": {
             "colorbar": {
              "outlinewidth": 0,
              "ticks": ""
             }
            },
            "type": "parcoords"
           }
          ],
          "pie": [
           {
            "automargin": true,
            "type": "pie"
           }
          ],
          "scatter": [
           {
            "fillpattern": {
             "fillmode": "overlay",
             "size": 10,
             "solidity": 0.2
            },
            "type": "scatter"
           }
          ],
          "scatter3d": [
           {
            "line": {
             "colorbar": {
              "outlinewidth": 0,
              "ticks": ""
             }
            },
            "marker": {
             "colorbar": {
              "outlinewidth": 0,
              "ticks": ""
             }
            },
            "type": "scatter3d"
           }
          ],
          "scattercarpet": [
           {
            "marker": {
             "colorbar": {
              "outlinewidth": 0,
              "ticks": ""
             }
            },
            "type": "scattercarpet"
           }
          ],
          "scattergeo": [
           {
            "marker": {
             "colorbar": {
              "outlinewidth": 0,
              "ticks": ""
             }
            },
            "type": "scattergeo"
           }
          ],
          "scattergl": [
           {
            "marker": {
             "colorbar": {
              "outlinewidth": 0,
              "ticks": ""
             }
            },
            "type": "scattergl"
           }
          ],
          "scattermapbox": [
           {
            "marker": {
             "colorbar": {
              "outlinewidth": 0,
              "ticks": ""
             }
            },
            "type": "scattermapbox"
           }
          ],
          "scatterpolar": [
           {
            "marker": {
             "colorbar": {
              "outlinewidth": 0,
              "ticks": ""
             }
            },
            "type": "scatterpolar"
           }
          ],
          "scatterpolargl": [
           {
            "marker": {
             "colorbar": {
              "outlinewidth": 0,
              "ticks": ""
             }
            },
            "type": "scatterpolargl"
           }
          ],
          "scatterternary": [
           {
            "marker": {
             "colorbar": {
              "outlinewidth": 0,
              "ticks": ""
             }
            },
            "type": "scatterternary"
           }
          ],
          "surface": [
           {
            "colorbar": {
             "outlinewidth": 0,
             "ticks": ""
            },
            "colorscale": [
             [
              0,
              "#0d0887"
             ],
             [
              0.1111111111111111,
              "#46039f"
             ],
             [
              0.2222222222222222,
              "#7201a8"
             ],
             [
              0.3333333333333333,
              "#9c179e"
             ],
             [
              0.4444444444444444,
              "#bd3786"
             ],
             [
              0.5555555555555556,
              "#d8576b"
             ],
             [
              0.6666666666666666,
              "#ed7953"
             ],
             [
              0.7777777777777778,
              "#fb9f3a"
             ],
             [
              0.8888888888888888,
              "#fdca26"
             ],
             [
              1,
              "#f0f921"
             ]
            ],
            "type": "surface"
           }
          ],
          "table": [
           {
            "cells": {
             "fill": {
              "color": "#EBF0F8"
             },
             "line": {
              "color": "white"
             }
            },
            "header": {
             "fill": {
              "color": "#C8D4E3"
             },
             "line": {
              "color": "white"
             }
            },
            "type": "table"
           }
          ]
         },
         "layout": {
          "annotationdefaults": {
           "arrowcolor": "#2a3f5f",
           "arrowhead": 0,
           "arrowwidth": 1
          },
          "autotypenumbers": "strict",
          "coloraxis": {
           "colorbar": {
            "outlinewidth": 0,
            "ticks": ""
           }
          },
          "colorscale": {
           "diverging": [
            [
             0,
             "#8e0152"
            ],
            [
             0.1,
             "#c51b7d"
            ],
            [
             0.2,
             "#de77ae"
            ],
            [
             0.3,
             "#f1b6da"
            ],
            [
             0.4,
             "#fde0ef"
            ],
            [
             0.5,
             "#f7f7f7"
            ],
            [
             0.6,
             "#e6f5d0"
            ],
            [
             0.7,
             "#b8e186"
            ],
            [
             0.8,
             "#7fbc41"
            ],
            [
             0.9,
             "#4d9221"
            ],
            [
             1,
             "#276419"
            ]
           ],
           "sequential": [
            [
             0,
             "#0d0887"
            ],
            [
             0.1111111111111111,
             "#46039f"
            ],
            [
             0.2222222222222222,
             "#7201a8"
            ],
            [
             0.3333333333333333,
             "#9c179e"
            ],
            [
             0.4444444444444444,
             "#bd3786"
            ],
            [
             0.5555555555555556,
             "#d8576b"
            ],
            [
             0.6666666666666666,
             "#ed7953"
            ],
            [
             0.7777777777777778,
             "#fb9f3a"
            ],
            [
             0.8888888888888888,
             "#fdca26"
            ],
            [
             1,
             "#f0f921"
            ]
           ],
           "sequentialminus": [
            [
             0,
             "#0d0887"
            ],
            [
             0.1111111111111111,
             "#46039f"
            ],
            [
             0.2222222222222222,
             "#7201a8"
            ],
            [
             0.3333333333333333,
             "#9c179e"
            ],
            [
             0.4444444444444444,
             "#bd3786"
            ],
            [
             0.5555555555555556,
             "#d8576b"
            ],
            [
             0.6666666666666666,
             "#ed7953"
            ],
            [
             0.7777777777777778,
             "#fb9f3a"
            ],
            [
             0.8888888888888888,
             "#fdca26"
            ],
            [
             1,
             "#f0f921"
            ]
           ]
          },
          "colorway": [
           "#636efa",
           "#EF553B",
           "#00cc96",
           "#ab63fa",
           "#FFA15A",
           "#19d3f3",
           "#FF6692",
           "#B6E880",
           "#FF97FF",
           "#FECB52"
          ],
          "font": {
           "color": "#2a3f5f"
          },
          "geo": {
           "bgcolor": "white",
           "lakecolor": "white",
           "landcolor": "#E5ECF6",
           "showlakes": true,
           "showland": true,
           "subunitcolor": "white"
          },
          "hoverlabel": {
           "align": "left"
          },
          "hovermode": "closest",
          "mapbox": {
           "style": "light"
          },
          "paper_bgcolor": "white",
          "plot_bgcolor": "#E5ECF6",
          "polar": {
           "angularaxis": {
            "gridcolor": "white",
            "linecolor": "white",
            "ticks": ""
           },
           "bgcolor": "#E5ECF6",
           "radialaxis": {
            "gridcolor": "white",
            "linecolor": "white",
            "ticks": ""
           }
          },
          "scene": {
           "xaxis": {
            "backgroundcolor": "#E5ECF6",
            "gridcolor": "white",
            "gridwidth": 2,
            "linecolor": "white",
            "showbackground": true,
            "ticks": "",
            "zerolinecolor": "white"
           },
           "yaxis": {
            "backgroundcolor": "#E5ECF6",
            "gridcolor": "white",
            "gridwidth": 2,
            "linecolor": "white",
            "showbackground": true,
            "ticks": "",
            "zerolinecolor": "white"
           },
           "zaxis": {
            "backgroundcolor": "#E5ECF6",
            "gridcolor": "white",
            "gridwidth": 2,
            "linecolor": "white",
            "showbackground": true,
            "ticks": "",
            "zerolinecolor": "white"
           }
          },
          "shapedefaults": {
           "line": {
            "color": "#2a3f5f"
           }
          },
          "ternary": {
           "aaxis": {
            "gridcolor": "white",
            "linecolor": "white",
            "ticks": ""
           },
           "baxis": {
            "gridcolor": "white",
            "linecolor": "white",
            "ticks": ""
           },
           "bgcolor": "#E5ECF6",
           "caxis": {
            "gridcolor": "white",
            "linecolor": "white",
            "ticks": ""
           }
          },
          "title": {
           "x": 0.05
          },
          "xaxis": {
           "automargin": true,
           "gridcolor": "white",
           "linecolor": "white",
           "ticks": "",
           "title": {
            "standoff": 15
           },
           "zerolinecolor": "white",
           "zerolinewidth": 2
          },
          "yaxis": {
           "automargin": true,
           "gridcolor": "white",
           "linecolor": "white",
           "ticks": "",
           "title": {
            "standoff": 15
           },
           "zerolinecolor": "white",
           "zerolinewidth": 2
          }
         }
        },
        "title": {
         "text": "Codes Visualised in 2D"
        },
        "width": 1000,
        "xaxis": {
         "anchor": "y",
         "autorange": true,
         "domain": [
          0,
          1
         ],
         "range": [
          5.765386828746674,
          8.806143990192535
         ],
         "title": {
          "text": "x"
         },
         "type": "linear"
        },
        "yaxis": {
         "anchor": "x",
         "autorange": true,
         "domain": [
          0,
          1
         ],
         "range": [
          0.7319809036542919,
          4.850168417205951
         ],
         "title": {
          "text": "y"
         },
         "type": "linear"
        }
       }
      },
      "image/png": "[encoded data removed]",
      "text/html": [
       "<div>                            <div id=\"92d480d0-f558-445e-a8a5-0fc8c25ac237\" class=\"plotly-graph-div\" style=\"height:800px; width:1000px;\"></div>            <script type=\"text/javascript\">                require([\"plotly\"], function(Plotly) {                    window.PLOTLYENV=window.PLOTLYENV || {};                                    if (document.getElementById(\"92d480d0-f558-445e-a8a5-0fc8c25ac237\")) {                    Plotly.newPlot(                        \"92d480d0-f558-445e-a8a5-0fc8c25ac237\",                        [{\"hovertemplate\":\"\\u003cb\\u003e%{hovertext}\\u003c\\u002fb\\u003e\\u003cbr\\u003e\\u003cbr\\u003eColor=LLM code (new)\\u003cbr\\u003ex=%{x}\\u003cbr\\u003ey=%{y}\\u003cbr\\u003eSize=%{marker.size}\\u003cextra\\u003e\\u003c\\u002fextra\\u003e\",\"hovertext\":[\"importance (6)\\u003c\\u002fbr\\u003e\\u003c\\u002fbr\\u003e\\\"thats been the biggest deal for me too\\\"\",\"emotion (13)\\u003c\\u002fbr\\u003e\\u003c\\u002fbr\\u003e\\\"thats been the biggest deal for me too\\\"\",\"challenge (2)\\u003c\\u002fbr\\u003e\\u003c\\u002fbr\\u003e\\\"thus far and those snipers were absurd.\\\"\",\"frustration (4)\\u003c\\u002fbr\\u003e\\u003c\\u002fbr\\u003e\\\"thus far and those snipers were absurd.\\\"\",\"excitement (2)\\u003c\\u002fbr\\u003e\\u003c\\u002fbr\\u003e\\\"the reveal of that huge expanse was beautiful and got me\\u003c\\u002fbr\\u003eexcited for everything the game had in store for me\\\"\",\"beauty (3)\\u003c\\u002fbr\\u003e\\u003c\\u002fbr\\u003e\\\"Never before have I seen something so breathtakingly\\u003c\\u002fbr\\u003ebeautiful in a video game.\\\"\",\"fear (2)\\u003c\\u002fbr\\u003e\\u003c\\u002fbr\\u003e\\\"That place nearly gave me ptsd\\\"\",\"expectation (1)\\u003c\\u002fbr\\u003e\\u003c\\u002fbr\\u003e\\\"Maybe a dungeon or something.\\\"\",\"anticipation (1)\\u003c\\u002fbr\\u003e\\u003c\\u002fbr\\u003e\\\"I would get up, grab some water, and when I came back, the\\u003c\\u002fbr\\u003eelevator was still going\\\"\",\"waiting (1)\\u003c\\u002fbr\\u003e\\u003c\\u002fbr\\u003e\\\"I would get up, grab some water, and when I came back, the\\u003c\\u002fbr\\u003eelevator was still going\\\"\"],\"legendgroup\":\"LLM code (new)\",\"marker\":{\"color\":\"#636efa\",\"size\":[0.46153846153846156,1.0,0.15384615384615385,0.3076923076923077,0.15384615384615385,0.23076923076923078,0.15384615384615385,0.07692307692307693,0.07692307692307693,0.07692307692307693],\"sizemode\":\"area\",\"sizeref\":0.0025,\"symbol\":\"circle\"},\"mode\":\"markers\",\"name\":\"LLM code (new)\",\"orientation\":\"v\",\"showlegend\":true,\"x\":[7.157641887664795,6.344186305999756,6.948410987854004,7.443328857421875,6.799767017364502,8.524198532104492,8.14043140411377,6.973741054534912,7.7906813621521,7.569809436798096],\"xaxis\":\"x\",\"y\":[4.481316089630127,1.0761239528656006,3.3066418170928955,0.996146559715271,1.3942853212356567,4.110876083374023,1.2250568866729736,2.7095258235931396,1.9954524040222168,2.3101320266723633],\"yaxis\":\"y\",\"type\":\"scatter\"},{\"hovertemplate\":\"\\u003cb\\u003e%{hovertext}\\u003c\\u002fb\\u003e\\u003cbr\\u003e\\u003cbr\\u003eColor=LLM code (few-shot)\\u003cbr\\u003ex=%{x}\\u003cbr\\u003ey=%{y}\\u003cbr\\u003eSize=%{marker.size}\\u003cextra\\u003e\\u003c\\u002fextra\\u003e\",\"hovertext\":[\"realization (2)\\u003c\\u002fbr\\u003e\\u003c\\u002fbr\\u003e\\\"Siofra River did not disappoint. That was also when I\\u003c\\u002fbr\\u003erealized the world was gonna be way bigger than I expected\\u003c\\u002fbr\\u003eand I had no idea how big it was.\\\"\",\"surprise (8)\\u003c\\u002fbr\\u003e\\u003c\\u002fbr\\u003e\\\"I don\\u2019t usually gasp audibly alone in my guest room at 4am,\\u003c\\u002fbr\\u003ebut when I do, it\\u2019s because I saw Nokron for the first time.\\\"\",\"scale (3)\\u003c\\u002fbr\\u003e\\u003c\\u002fbr\\u003e\\\"MY GOD this was incredible. First time I went down to the\\u003c\\u002fbr\\u003eSiofra River I was completely shocked at how massive the\\u003c\\u002fbr\\u003escale seemed to be\\\"\"],\"legendgroup\":\"LLM code (few-shot)\",\"marker\":{\"color\":\"#EF553B\",\"size\":[0.15384615384615385,0.6153846153846154,0.23076923076923078],\"sizemode\":\"area\",\"sizeref\":0.0025,\"symbol\":\"circle\"},\"mode\":\"markers\",\"name\":\"LLM code (few-shot)\",\"orientation\":\"v\",\"showlegend\":true,\"x\":[7.841649532318115,6.733046531677246,7.43516206741333],\"xaxis\":\"x\",\"y\":[3.3852312564849854,1.9900025129318237,4.0318498611450195],\"yaxis\":\"y\",\"type\":\"scatter\"},{\"hovertemplate\":\"\\u003cb\\u003e%{hovertext}\\u003c\\u002fb\\u003e\\u003cbr\\u003e\\u003cbr\\u003eColor=Human code\\u003cbr\\u003ex=%{x}\\u003cbr\\u003ey=%{y}\\u003cbr\\u003eSize=%{marker.size}\\u003cextra\\u003e\\u003c\\u002fextra\\u003e\",\"hovertext\":[\"absurd (1)\\u003c\\u002fbr\\u003e\\u003c\\u002fbr\\u003e\\\"those snipers were absurd\\\"\",\"surprise (7)\\u003c\\u002fbr\\u003e\\u003c\\u002fbr\\u003e\\\"the reveal of that huge expanse was beautiful\\\"\",\"beauty (3)\\u003c\\u002fbr\\u003e\\u003c\\u002fbr\\u003e\\\"the reveal of that huge expanse was beautiful\\\"\",\"anticipation (2)\\u003c\\u002fbr\\u003e\\u003c\\u002fbr\\u003e\\\"got me excited for everything the game had in store for me\\\"\",\"scale (3)\\u003c\\u002fbr\\u003e\\u003c\\u002fbr\\u003e\\\"when I realized the world was gonna be way bigger than I\\u003c\\u002fbr\\u003eexpected\\\"\",\"uncertainty (1)\\u003c\\u002fbr\\u003e\\u003c\\u002fbr\\u003e\\\"I had no idea how big it was\\\"\",\"shock (3)\\u003c\\u002fbr\\u003e\\u003c\\u002fbr\\u003e\\\"I don\\u2019t usually gasp audibly\\\"\",\"awe (4)\\u003c\\u002fbr\\u003e\\u003c\\u002fbr\\u003e\\\"Never before have I seen something so breathtakingly\\u003c\\u002fbr\\u003ebeautiful in a video game.\\\"\",\"design (1)\\u003c\\u002fbr\\u003e\\u003c\\u002fbr\\u003e\\\"Incredible game design\\\"\",\"violence (1)\\u003c\\u002fbr\\u003e\\u003c\\u002fbr\\u003e\\\"A six foot spectral arrow embedded in your chest\\\"\",\"weakness (1)\\u003c\\u002fbr\\u003e\\u003c\\u002fbr\\u003e\\\"took one swing at them with my bloodhound fang that dealt\\u003c\\u002fbr\\u003every little damage and nope'd the hell on outta there\\\"\"],\"legendgroup\":\"Human code\",\"marker\":{\"color\":\"#00cc96\",\"size\":[0.07692307692307693,0.5384615384615384,0.23076923076923078,0.15384615384615385,0.23076923076923078,0.07692307692307693,0.23076923076923078,0.3076923076923077,0.07692307692307693,0.07692307692307693,0.07692307692307693],\"sizemode\":\"area\",\"sizeref\":0.0025,\"symbol\":\"circle\"},\"mode\":\"markers\",\"name\":\"Human code\",\"orientation\":\"v\",\"showlegend\":true,\"x\":[8.635713577270508,6.733046531677246,8.524198532104492,7.7906813621521,7.43516206741333,7.758149147033691,6.475813388824463,8.419215202331543,7.098013877868652,5.935817241668701,7.651259422302246],\"xaxis\":\"x\",\"y\":[3.174006938934326,1.9900025129318237,4.110876083374023,1.9954524040222168,4.0318498611450195,1.5200966596603394,2.2321817874908447,3.616605281829834,3.764002799987793,1.1706968545913696,4.61513090133667],\"yaxis\":\"y\",\"type\":\"scatter\"}],                        {\"template\":{\"data\":{\"histogram2dcontour\":[{\"type\":\"histogram2dcontour\",\"colorbar\":{\"outlinewidth\":0,\"ticks\":\"\"},\"colorscale\":[[0.0,\"#0d0887\"],[0.1111111111111111,\"#46039f\"],[0.2222222222222222,\"#7201a8\"],[0.3333333333333333,\"#9c179e\"],[0.4444444444444444,\"#bd3786\"],[0.5555555555555556,\"#d8576b\"],[0.6666666666666666,\"#ed7953\"],[0.7777777777777778,\"#fb9f3a\"],[0.8888888888888888,\"#fdca26\"],[1.0,\"#f0f921\"]]}],\"choropleth\":[{\"type\":\"choropleth\",\"colorbar\":{\"outlinewidth\":0,\"ticks\":\"\"}}],\"histogram2d\":[{\"type\":\"histogram2d\",\"colorbar\":{\"outlinewidth\":0,\"ticks\":\"\"},\"colorscale\":[[0.0,\"#0d0887\"],[0.1111111111111111,\"#46039f\"],[0.2222222222222222,\"#7201a8\"],[0.3333333333333333,\"#9c179e\"],[0.4444444444444444,\"#bd3786\"],[0.5555555555555556,\"#d8576b\"],[0.6666666666666666,\"#ed7953\"],[0.7777777777777778,\"#fb9f3a\"],[0.8888888888888888,\"#fdca26\"],[1.0,\"#f0f921\"]]}],\"heatmap\":[{\"type\":\"heatmap\",\"colorbar\":{\"outlinewidth\":0,\"ticks\":\"\"},\"colorscale\":[[0.0,\"#0d0887\"],[0.1111111111111111,\"#46039f\"],[0.2222222222222222,\"#7201a8\"],[0.3333333333333333,\"#9c179e\"],[0.4444444444444444,\"#bd3786\"],[0.5555555555555556,\"#d8576b\"],[0.6666666666666666,\"#ed7953\"],[0.7777777777777778,\"#fb9f3a\"],[0.8888888888888888,\"#fdca26\"],[1.0,\"#f0f921\"]]}],\"heatmapgl\":[{\"type\":\"heatmapgl\",\"colorbar\":{\"outlinewidth\":0,\"ticks\":\"\"},\"colorscale\":[[0.0,\"#0d0887\"],[0.1111111111111111,\"#46039f\"],[0.2222222222222222,\"#7201a8\"],[0.3333333333333333,\"#9c179e\"],[0.4444444444444444,\"#bd3786\"],[0.5555555555555556,\"#d8576b\"],[0.6666666666666666,\"#ed7953\"],[0.7777777777777778,\"#fb9f3a\"],[0.8888888888888888,\"#fdca26\"],[1.0,\"#f0f921\"]]}],\"contourcarpet\":[{\"type\":\"contourcarpet\",\"colorbar\":{\"outlinewidth\":0,\"ticks\":\"\"}}],\"contour\":[{\"type\":\"contour\",\"colorbar\":{\"outlinewidth\":0,\"ticks\":\"\"},\"colorscale\":[[0.0,\"#0d0887\"],[0.1111111111111111,\"#46039f\"],[0.2222222222222222,\"#7201a8\"],[0.3333333333333333,\"#9c179e\"],[0.4444444444444444,\"#bd3786\"],[0.5555555555555556,\"#d8576b\"],[0.6666666666666666,\"#ed7953\"],[0.7777777777777778,\"#fb9f3a\"],[0.8888888888888888,\"#fdca26\"],[1.0,\"#f0f921\"]]}],\"surface\":[{\"type\":\"surface\",\"colorbar\":{\"outlinewidth\":0,\"ticks\":\"\"},\"colorscale\":[[0.0,\"#0d0887\"],[0.1111111111111111,\"#46039f\"],[0.2222222222222222,\"#7201a8\"],[0.3333333333333333,\"#9c179e\"],[0.4444444444444444,\"#bd3786\"],[0.5555555555555556,\"#d8576b\"],[0.6666666666666666,\"#ed7953\"],[0.7777777777777778,\"#fb9f3a\"],[0.8888888888888888,\"#fdca26\"],[1.0,\"#f0f921\"]]}],\"mesh3d\":[{\"type\":\"mesh3d\",\"colorbar\":{\"outlinewidth\":0,\"ticks\":\"\"}}],\"scatter\":[{\"fillpattern\":{\"fillmode\":\"overlay\",\"size\":10,\"solidity\":0.2},\"type\":\"scatter\"}],\"parcoords\":[{\"type\":\"parcoords\",\"line\":{\"colorbar\":{\"outlinewidth\":0,\"ticks\":\"\"}}}],\"scatterpolargl\":[{\"type\":\"scatterpolargl\",\"marker\":{\"colorbar\":{\"outlinewidth\":0,\"ticks\":\"\"}}}],\"bar\":[{\"error_x\":{\"color\":\"#2a3f5f\"},\"error_y\":{\"color\":\"#2a3f5f\"},\"marker\":{\"line\":{\"color\":\"#E5ECF6\",\"width\":0.5},\"pattern\":{\"fillmode\":\"overlay\",\"size\":10,\"solidity\":0.2}},\"type\":\"bar\"}],\"scattergeo\":[{\"type\":\"scattergeo\",\"marker\":{\"colorbar\":{\"outlinewidth\":0,\"ticks\":\"\"}}}],\"scatterpolar\":[{\"type\":\"scatterpolar\",\"marker\":{\"colorbar\":{\"outlinewidth\":0,\"ticks\":\"\"}}}],\"histogram\":[{\"marker\":{\"pattern\":{\"fillmode\":\"overlay\",\"size\":10,\"solidity\":0.2}},\"type\":\"histogram\"}],\"scattergl\":[{\"type\":\"scattergl\",\"marker\":{\"colorbar\":{\"outlinewidth\":0,\"ticks\":\"\"}}}],\"scatter3d\":[{\"type\":\"scatter3d\",\"line\":{\"colorbar\":{\"outlinewidth\":0,\"ticks\":\"\"}},\"marker\":{\"colorbar\":{\"outlinewidth\":0,\"ticks\":\"\"}}}],\"scattermapbox\":[{\"type\":\"scattermapbox\",\"marker\":{\"colorbar\":{\"outlinewidth\":0,\"ticks\":\"\"}}}],\"scatterternary\":[{\"type\":\"scatterternary\",\"marker\":{\"colorbar\":{\"outlinewidth\":0,\"ticks\":\"\"}}}],\"scattercarpet\":[{\"type\":\"scattercarpet\",\"marker\":{\"colorbar\":{\"outlinewidth\":0,\"ticks\":\"\"}}}],\"carpet\":[{\"aaxis\":{\"endlinecolor\":\"#2a3f5f\",\"gridcolor\":\"white\",\"linecolor\":\"white\",\"minorgridcolor\":\"white\",\"startlinecolor\":\"#2a3f5f\"},\"baxis\":{\"endlinecolor\":\"#2a3f5f\",\"gridcolor\":\"white\",\"linecolor\":\"white\",\"minorgridcolor\":\"white\",\"startlinecolor\":\"#2a3f5f\"},\"type\":\"carpet\"}],\"table\":[{\"cells\":{\"fill\":{\"color\":\"#EBF0F8\"},\"line\":{\"color\":\"white\"}},\"header\":{\"fill\":{\"color\":\"#C8D4E3\"},\"line\":{\"color\":\"white\"}},\"type\":\"table\"}],\"barpolar\":[{\"marker\":{\"line\":{\"color\":\"#E5ECF6\",\"width\":0.5},\"pattern\":{\"fillmode\":\"overlay\",\"size\":10,\"solidity\":0.2}},\"type\":\"barpolar\"}],\"pie\":[{\"automargin\":true,\"type\":\"pie\"}]},\"layout\":{\"autotypenumbers\":\"strict\",\"colorway\":[\"#636efa\",\"#EF553B\",\"#00cc96\",\"#ab63fa\",\"#FFA15A\",\"#19d3f3\",\"#FF6692\",\"#B6E880\",\"#FF97FF\",\"#FECB52\"],\"font\":{\"color\":\"#2a3f5f\"},\"hovermode\":\"closest\",\"hoverlabel\":{\"align\":\"left\"},\"paper_bgcolor\":\"white\",\"plot_bgcolor\":\"#E5ECF6\",\"polar\":{\"bgcolor\":\"#E5ECF6\",\"angularaxis\":{\"gridcolor\":\"white\",\"linecolor\":\"white\",\"ticks\":\"\"},\"radialaxis\":{\"gridcolor\":\"white\",\"linecolor\":\"white\",\"ticks\":\"\"}},\"ternary\":{\"bgcolor\":\"#E5ECF6\",\"aaxis\":{\"gridcolor\":\"white\",\"linecolor\":\"white\",\"ticks\":\"\"},\"baxis\":{\"gridcolor\":\"white\",\"linecolor\":\"white\",\"ticks\":\"\"},\"caxis\":{\"gridcolor\":\"white\",\"linecolor\":\"white\",\"ticks\":\"\"}},\"coloraxis\":{\"colorbar\":{\"outlinewidth\":0,\"ticks\":\"\"}},\"colorscale\":{\"sequential\":[[0.0,\"#0d0887\"],[0.1111111111111111,\"#46039f\"],[0.2222222222222222,\"#7201a8\"],[0.3333333333333333,\"#9c179e\"],[0.4444444444444444,\"#bd3786\"],[0.5555555555555556,\"#d8576b\"],[0.6666666666666666,\"#ed7953\"],[0.7777777777777778,\"#fb9f3a\"],[0.8888888888888888,\"#fdca26\"],[1.0,\"#f0f921\"]],\"sequentialminus\":[[0.0,\"#0d0887\"],[0.1111111111111111,\"#46039f\"],[0.2222222222222222,\"#7201a8\"],[0.3333333333333333,\"#9c179e\"],[0.4444444444444444,\"#bd3786\"],[0.5555555555555556,\"#d8576b\"],[0.6666666666666666,\"#ed7953\"],[0.7777777777777778,\"#fb9f3a\"],[0.8888888888888888,\"#fdca26\"],[1.0,\"#f0f921\"]],\"diverging\":[[0,\"#8e0152\"],[0.1,\"#c51b7d\"],[0.2,\"#de77ae\"],[0.3,\"#f1b6da\"],[0.4,\"#fde0ef\"],[0.5,\"#f7f7f7\"],[0.6,\"#e6f5d0\"],[0.7,\"#b8e186\"],[0.8,\"#7fbc41\"],[0.9,\"#4d9221\"],[1,\"#276419\"]]},\"xaxis\":{\"gridcolor\":\"white\",\"linecolor\":\"white\",\"ticks\":\"\",\"title\":{\"standoff\":15},\"zerolinecolor\":\"white\",\"automargin\":true,\"zerolinewidth\":2},\"yaxis\":{\"gridcolor\":\"white\",\"linecolor\":\"white\",\"ticks\":\"\",\"title\":{\"standoff\":15},\"zerolinecolor\":\"white\",\"automargin\":true,\"zerolinewidth\":2},\"scene\":{\"xaxis\":{\"backgroundcolor\":\"#E5ECF6\",\"gridcolor\":\"white\",\"linecolor\":\"white\",\"showbackground\":true,\"ticks\":\"\",\"zerolinecolor\":\"white\",\"gridwidth\":2},\"yaxis\":{\"backgroundcolor\":\"#E5ECF6\",\"gridcolor\":\"white\",\"linecolor\":\"white\",\"showbackground\":true,\"ticks\":\"\",\"zerolinecolor\":\"white\",\"gridwidth\":2},\"zaxis\":{\"backgroundcolor\":\"#E5ECF6\",\"gridcolor\":\"white\",\"linecolor\":\"white\",\"showbackground\":true,\"ticks\":\"\",\"zerolinecolor\":\"white\",\"gridwidth\":2}},\"shapedefaults\":{\"line\":{\"color\":\"#2a3f5f\"}},\"annotationdefaults\":{\"arrowcolor\":\"#2a3f5f\",\"arrowhead\":0,\"arrowwidth\":1},\"geo\":{\"bgcolor\":\"white\",\"landcolor\":\"#E5ECF6\",\"subunitcolor\":\"white\",\"showland\":true,\"showlakes\":true,\"lakecolor\":\"white\"},\"title\":{\"x\":0.05},\"mapbox\":{\"style\":\"light\"}}},\"xaxis\":{\"anchor\":\"y\",\"domain\":[0.0,1.0],\"title\":{\"text\":\"x\"}},\"yaxis\":{\"anchor\":\"x\",\"domain\":[0.0,1.0],\"title\":{\"text\":\"y\"}},\"legend\":{\"title\":{\"text\":\"Color\"},\"tracegroupgap\":0,\"itemsizing\":\"constant\"},\"title\":{\"text\":\"Codes Visualised in 2D\"},\"height\":800,\"width\":1000},                        {\"responsive\": true}                    ).then(function(){\n",
       "                            \n",
       "var gd = document.getElementById('92d480d0-f558-445e-a8a5-0fc8c25ac237');\n",
       "var x = new MutationObserver(function (mutations, observer) {{\n",
       "        var display = window.getComputedStyle(gd).display;\n",
       "        if (!display || display === 'none') {{\n",
       "            console.log([gd, 'removed!']);\n",
       "            Plotly.purge(gd);\n",
       "            observer.disconnect();\n",
       "        }}\n",
       "}});\n",
       "\n",
       "// Listen for the removal of the full notebook cells\n",
       "var notebookContainer = gd.closest('#notebook-container');\n",
       "if (notebookContainer) {{\n",
       "    x.observe(notebookContainer, {childList: true});\n",
       "}}\n",
       "\n",
       "// Listen for the clearing of the current output cell\n",
       "var outputEl = gd.closest('.output');\n",
       "if (outputEl) {{\n",
       "    x.observe(outputEl, {childList: true});\n",
       "}}\n",
       "\n",
       "                        })                };                });            </script>        </div>"
      ]
     },
     "metadata": {},
     "output_type": "display_data"
    },
    {
     "data": {
      "text/html": [
       "<table border=\"1\" class=\"dataframe\">\n",
       "  <thead>\n",
       "    <tr style=\"text-align: right;\">\n",
       "      <th></th>\n",
       "      <th>llm_coded_text</th>\n",
       "      <th>human_coded_text</th>\n",
       "      <th>IoU</th>\n",
       "      <th>Hausdorff</th>\n",
       "    </tr>\n",
       "  </thead>\n",
       "  <tbody>\n",
       "    <tr>\n",
       "      <th>1</th>\n",
       "      <td>Exactly what I thought when I went down there.</td>\n",
       "      <td>Exactly what I thought when I went down there.</td>\n",
       "      <td>1.000000</td>\n",
       "      <td>0.000000</td>\n",
       "    </tr>\n",
       "    <tr>\n",
       "      <th>6</th>\n",
       "      <td>What is your most unforgettable moment in Elden Ring, Tarnished? Share your cherished memory.</td>\n",
       "      <td>What is your most unforgettable moment in Elden Ring, Tarnished? Share your cherished memory.</td>\n",
       "      <td>1.000000</td>\n",
       "      <td>0.000000</td>\n",
       "    </tr>\n",
       "    <tr>\n",
       "      <th>10</th>\n",
       "      <td>Well said</td>\n",
       "      <td>Well said</td>\n",
       "      <td>1.000000</td>\n",
       "      <td>0.000000</td>\n",
       "    </tr>\n",
       "    <tr>\n",
       "      <th>2</th>\n",
       "      <td>The first time I went down the elevator to Nokron honestly. Underwhelming compared to other opinions maybe, but <b>the reveal of that huge expanse was beautiful and got me excited for everything the game had in store for me</b><sup>emotion; importance; excitement</sup></td>\n",
       "      <td>The first time I went down the elevator to Nokron honestly. Underwhelming compared to other opinions maybe, but <b>the reveal of that huge expanse was beautiful</b><sup>surprise; beauty</sup> and <b>got me excited for everything the game had in store for me</b><sup>anticipation</sup></td>\n",
       "      <td>0.965909</td>\n",
       "      <td>0.111074</td>\n",
       "    </tr>\n",
       "    <tr>\n",
       "      <th>11</th>\n",
       "      <td>&quot;Oh <b>I&#x27;m not supposed to be here yet</b>&quot; <sup>surprise</sup></td>\n",
       "      <td><b>&quot;Oh I&#x27;m not supposed to be here yet&quot;</b><sup>surprise</sup></td>\n",
       "      <td>0.923077</td>\n",
       "      <td>0.106706</td>\n",
       "    </tr>\n",
       "    <tr>\n",
       "      <th>9</th>\n",
       "      <td>Ooooh that was a <b>jaw dropping moment for me!! I was expecting a small underground dungeon, and then my eyes beheld this wide expanse.</b><sup>surprise; emotion</sup> <b>A whole region unto itself. Incredible game design</b><sup>importance; beauty</sup></td>\n",
       "      <td>Ooooh <b>that was a jaw dropping moment for me</b><sup>awe</sup>!! <b>I was expecting a small underground dungeon, and then my eyes beheld this wide expanse.</b><sup>surprise; scale</sup> A whole region unto itself. <b>Incredible game design</b><sup>design</sup></td>\n",
       "      <td>0.790210</td>\n",
       "      <td>0.084347</td>\n",
       "    </tr>\n",
       "    <tr>\n",
       "      <th>3</th>\n",
       "      <td>This was easily one of the most memorable moments in the game for me. I got on the elevator and started to read an item description. The elevator was still going when I finished reading and <b>I thought &quot;damn, this is a long elevator&quot; and the longer it took the more excited I got.</b><sup>emotion; excitement</sup> <b>Siofra River did not disappoint. That was also when I realized the world was gonna be way bigger than I expected and I had no idea how big it was.</b><sup>importance; realization</sup></td>\n",
       "      <td>This was easily one of the most memorable moments in the game for me. I got on the elevator and started to read an item description. The elevator was still going when I finished reading and I thought &quot;damn, this is a long elevator&quot; and <b>the longer it took the more excited I got</b><sup>anticipation</sup>. Siofra River did not disappoint. That was also <b>when I realized the world was gonna be way bigger than I expected</b><sup>surprise; scale</sup> and <b>I had no idea how big it was</b><sup>uncertainty</sup>.</td>\n",
       "      <td>0.587912</td>\n",
       "      <td>0.111031</td>\n",
       "    </tr>\n",
       "    <tr>\n",
       "      <th>4</th>\n",
       "      <td>Came here to say this. <b>I don’t usually gasp audibly alone in my guest room at 4am, but when I do, it’s because I saw Nokron for the first time.</b><sup>emotion; surprise</sup> <b>Never before have I seen something so breathtakingly beautiful in a video game.</b><sup>emotion; beauty</sup></td>\n",
       "      <td>Came here to say this. <b>I don’t usually gasp audibly</b><sup>shock</sup> alone in my guest room at 4am, but when I do, it’s because I saw Nokron for the first time. <b>Never before have I seen something so breathtakingly beautiful in a video game.</b><sup>beauty; awe</sup></td>\n",
       "      <td>0.566879</td>\n",
       "      <td>0.069429</td>\n",
       "    </tr>\n",
       "    <tr>\n",
       "      <th>16</th>\n",
       "      <td>That one got me too. <b>I just figured upon the elevator in the woods and decided to take it down, because I was getting hunted by a bunch of bears.</b><sup>frustration</sup> <b>I was pretty shocked - it&#x27;s not what I expected to find down there.</b><sup>surprise</sup> <b>Maybe a dungeon or something.</b><sup>expectation</sup> <b>I had remained pretty spoiler free, so I wasn&#x27;t even aware of the existence of Ansel and Siofra rivers, let alone the fact that they&#x27;d be these massive underground areas that there&#x27;s a special button for on your map.</b><sup>realization; scale; surprise</sup></td>\n",
       "      <td>That one got me too.  I just figured upon the elevator in the woods and decided to take it down, because I was getting hunted by a bunch of bears. <b> I was pretty shocked - it&#x27;s not what I expected to find down there.</b><sup>shock; surprise</sup>  Maybe a dungeon or something.  I had remained pretty spoiler free, so <b>I wasn&#x27;t even aware of the existence of Ansel and Siofra rivers, let alone the fact that they&#x27;d be these massive underground areas that there&#x27;s a special button for on your map</b><sup>surprise; scale</sup>.</td>\n",
       "      <td>0.556522</td>\n",
       "      <td>0.065761</td>\n",
       "    </tr>\n",
       "    <tr>\n",
       "      <th>12</th>\n",
       "      <td><b>MY GOD this was incredible. First time I went down to the Siofra River I was completely shocked at how massive the scale seemed to be</b><sup>emotion; surprise; scale</sup></td>\n",
       "      <td>MY GOD this was incredible. First time I went down to the Siofra River <b>I was completely shocked at how massive the scale seemed to be</b><sup>shock; awe</sup></td>\n",
       "      <td>0.476636</td>\n",
       "      <td>0.108147</td>\n",
       "    </tr>\n",
       "    <tr>\n",
       "      <th>15</th>\n",
       "      <td>First time I went down the elevator I was <b>baffled by all its majesty</b><sup>beauty; emotion</sup>. I got to the ground floor, made my way to the first group of Clay men, took one swing at them with my bloodhound fang that dealt very little damage and <b>nope&#x27;d the hell on outta there</b><sup>frustration; challenge</sup>.</td>\n",
       "      <td>First time I went down the elevator <b>I was baffled by all its majesty</b><sup>awe; beauty</sup>. I got to the ground floor, made my way to the first group of Clay men, <b>took one swing at them with my bloodhound fang that dealt very little damage and nope&#x27;d the hell on outta there</b><sup>weakness</sup>.</td>\n",
       "      <td>0.396552</td>\n",
       "      <td>0.100662</td>\n",
       "    </tr>\n",
       "    <tr>\n",
       "      <th>0</th>\n",
       "      <td>Yeah, <b>thats been the biggest deal for me too</b><sup>importance; emotion</sup> <b>thus far and those snipers were absurd.</b><sup>challenge; frustration</sup></td>\n",
       "      <td>Yeah, thats been the biggest deal for me too thus far and <b>those snipers were absurd</b><sup>absurd</sup>.</td>\n",
       "      <td>0.349206</td>\n",
       "      <td>0.151586</td>\n",
       "    </tr>\n",
       "    <tr>\n",
       "      <th>8</th>\n",
       "      <td>I’ve never dived for cover so fast and then <b>caught another arrow to the face from some other direction entirely</b><sup>frustration; surprise</sup>.  <b>That place nearly gave me ptsd</b><sup>emotion; fear</sup>.  <b>The fear when I had to go back to that zone in NG+ was real</b><sup>emotion; fear</sup>.</td>\n",
       "      <td>I’ve never dived for cover so fast and then caught another arrow to the face from some other direction entirely.  That place nearly gave me ptsd.  The fear when I had to go back to that zone in NG+ was real.</td>\n",
       "      <td>0.000000</td>\n",
       "      <td>0.122909</td>\n",
       "    </tr>\n",
       "    <tr>\n",
       "      <th>7</th>\n",
       "      <td>“Huh, this elevator is taking a <b>whiiiiiiile</b>”<sup>anticipation; impatience</sup></td>\n",
       "      <td>“Huh, this elevator is taking a *whiiiiiiile*”</td>\n",
       "      <td>0.000000</td>\n",
       "      <td>0.000000</td>\n",
       "    </tr>\n",
       "    <tr>\n",
       "      <th>5</th>\n",
       "      <td>This is honestly <b>one of the best location reveals for me in any game.</b><sup>importance; surprise</sup> Same for the capital.</td>\n",
       "      <td>This is honestly one of the best location reveals for me in any game. Same for the capital.</td>\n",
       "      <td>0.000000</td>\n",
       "      <td>0.083856</td>\n",
       "    </tr>\n",
       "    <tr>\n",
       "      <th>13</th>\n",
       "      <td>A six foot spectral arrow embedded in your chest fired from an enemy you didn&#x27;t even know existed <b>humbles you real quick</b><sup>emotion; surprise</sup></td>\n",
       "      <td><b>A six foot spectral arrow embedded in your chest</b><sup>violence</sup> fired from <b>an enemy you didn&#x27;t even know existed</b><sup>surprise</sup> humbles you real quick</td>\n",
       "      <td>0.000000</td>\n",
       "      <td>0.074278</td>\n",
       "    </tr>\n",
       "    <tr>\n",
       "      <th>14</th>\n",
       "      <td>i felt like for a while, <b>whenever we get a new playable area, the map does it in a way to make me feel like the map just doubled its size.</b><sup>scale; emotion</sup></td>\n",
       "      <td>i felt like for a while, whenever we get a new playable area, the map does it in a way to make me feel like the map just doubled its size.</td>\n",
       "      <td>0.000000</td>\n",
       "      <td>0.097970</td>\n",
       "    </tr>\n",
       "    <tr>\n",
       "      <th>17</th>\n",
       "      <td>I think I said out loud “<b>oh shits it’s a Blackreach</b>”<sup>surprise; excitement</sup></td>\n",
       "      <td>I think I said out loud “oh shits it’s a Blackreach”</td>\n",
       "      <td>0.000000</td>\n",
       "      <td>0.000000</td>\n",
       "    </tr>\n",
       "    <tr>\n",
       "      <th>18</th>\n",
       "      <td>Agreed. <b>Morgott is gonna live rent free in my head forever.</b><sup>importance; emotion</sup></td>\n",
       "      <td>Agreed. Morgott is gonna live rent free in my head forever.</td>\n",
       "      <td>0.000000</td>\n",
       "      <td>0.080216</td>\n",
       "    </tr>\n",
       "    <tr>\n",
       "      <th>19</th>\n",
       "      <td>Whenever I used that elevator, <b>I would get up, grab some water, and when I came back, the elevator was still going</b><sup>anticipation; waiting</sup>.</td>\n",
       "      <td>Whenever I used that elevator, I would get up, grab some water, and when I came back, the elevator was still going.</td>\n",
       "      <td>0.000000</td>\n",
       "      <td>0.098312</td>\n",
       "    </tr>\n",
       "  </tbody>\n",
       "</table>"
      ],
      "text/plain": [
       "<IPython.core.display.HTML object>"
      ]
     },
     "metadata": {},
     "output_type": "display_data"
    }
   ],
   "source": [
    "# @title\n",
    "\n",
    "# Run coding and eval on test data\n",
    "code_and_eval(df_test, coding_instructions)"
   ]
  },
  {
   "cell_type": "markdown",
   "metadata": {},
   "source": [
    "# Coding all of the data\n",
    "\n",
    "Now that we've tuned the coding instructions to our liking and ran the final evaluation on the test data, it is time for us to finally code the entire dataset, including texts in `uncoded_file` that weren't annotated by a human.\n",
    "\n",
    "When dealing with large datasets, it is wise to define a ceiling for the number of texts that are coded, as each additional text incurs a small API cost. You may edit `max_number_of_texts` based on how many texts you wish to code. If your files contain more texts, the system will code the first `max_number_of_texts` from the two files."
   ]
  },
  {
   "cell_type": "code",
   "execution_count": 23,
   "metadata": {},
   "outputs": [
    {
     "name": "stdout",
     "output_type": "stream",
     "text": [
      " |████------------------------------------------------------------------------------------------------| 4.0% WARNING: A total of 1 LLM outputs were discarded because of errors\n",
      "\n",
      " |███████████████████████████████████████████████████████████████████████████████████████-------------| 87.0% WARNING: A total of 1 LLM outputs were discarded because of errors\n",
      "\n",
      " |████████████████████████████████████████████████████████████████████████████████████████████████████| 100.0% \n",
      "Coding complete, output:\n",
      "\n"
     ]
    },
    {
     "data": {
      "text/markdown": [
       "What is your most unforgettable moment in Elden Ring, Tarnished? Share your cherished memory."
      ],
      "text/plain": [
       "<IPython.core.display.Markdown object>"
      ]
     },
     "metadata": {},
     "output_type": "display_data"
    },
    {
     "data": {
      "text/markdown": [
       "-----"
      ],
      "text/plain": [
       "<IPython.core.display.Markdown object>"
      ]
     },
     "metadata": {},
     "output_type": "display_data"
    },
    {
     "data": {
      "text/markdown": [
       "The first time I went down the elevator to Nokron honestly. Underwhelming compared to other opinions maybe, but **the reveal of that huge expanse was beautiful and got me excited for everything the game had in store for me**<sup>awe; excitement</sup>."
      ],
      "text/plain": [
       "<IPython.core.display.Markdown object>"
      ]
     },
     "metadata": {},
     "output_type": "display_data"
    },
    {
     "data": {
      "text/markdown": [
       "-----"
      ],
      "text/plain": [
       "<IPython.core.display.Markdown object>"
      ]
     },
     "metadata": {},
     "output_type": "display_data"
    },
    {
     "data": {
      "text/markdown": [
       "MY GOD this was incredible. **First time I went down to the Siofra River I was completely shocked at how massive the scale seemed to be**<sup>awe; scale</sup>"
      ],
      "text/plain": [
       "<IPython.core.display.Markdown object>"
      ]
     },
     "metadata": {},
     "output_type": "display_data"
    },
    {
     "data": {
      "text/markdown": [
       "-----"
      ],
      "text/plain": [
       "<IPython.core.display.Markdown object>"
      ]
     },
     "metadata": {},
     "output_type": "display_data"
    },
    {
     "data": {
      "text/plain": [
       "<IPython.core.display.Markdown object>"
      ]
     },
     "metadata": {},
     "output_type": "display_data"
    },
    {
     "data": {
      "text/markdown": [
       "-----"
      ],
      "text/plain": [
       "<IPython.core.display.Markdown object>"
      ]
     },
     "metadata": {},
     "output_type": "display_data"
    },
    {
     "data": {
      "text/markdown": [
       "nothing is quite as memorable **that seeing your character looking like a pin cushion for several minutes.**<sup>intensity; impact</sup>"
      ],
      "text/plain": [
       "<IPython.core.display.Markdown object>"
      ]
     },
     "metadata": {},
     "output_type": "display_data"
    },
    {
     "data": {
      "text/markdown": [
       "-----"
      ],
      "text/plain": [
       "<IPython.core.display.Markdown object>"
      ]
     },
     "metadata": {},
     "output_type": "display_data"
    },
    {
     "data": {
      "text/markdown": [
       "I **took an arrow to every oriface.**<sup>impact; intensity</sup>"
      ],
      "text/plain": [
       "<IPython.core.display.Markdown object>"
      ]
     },
     "metadata": {},
     "output_type": "display_data"
    },
    {
     "data": {
      "text/markdown": [
       "-----"
      ],
      "text/plain": [
       "<IPython.core.display.Markdown object>"
      ]
     },
     "metadata": {},
     "output_type": "display_data"
    },
    {
     "data": {
      "text/markdown": [
       "I used to be an adventurer like you. **Then I took an arrow in the… look, adventuring is dangerous ok, can we leave it at that?**<sup>humor; danger</sup>"
      ],
      "text/plain": [
       "<IPython.core.display.Markdown object>"
      ]
     },
     "metadata": {},
     "output_type": "display_data"
    },
    {
     "data": {
      "text/markdown": [
       "-----"
      ],
      "text/plain": [
       "<IPython.core.display.Markdown object>"
      ]
     },
     "metadata": {},
     "output_type": "display_data"
    },
    {
     "data": {
      "text/markdown": [
       "A six foot spectral arrow embedded in your chest fired from an enemy you didn't even know existed **humbles you real quick**<sup>impact; intensity</sup>"
      ],
      "text/plain": [
       "<IPython.core.display.Markdown object>"
      ]
     },
     "metadata": {},
     "output_type": "display_data"
    },
    {
     "data": {
      "text/markdown": [
       "-----"
      ],
      "text/plain": [
       "<IPython.core.display.Markdown object>"
      ]
     },
     "metadata": {},
     "output_type": "display_data"
    },
    {
     "data": {
      "text/markdown": [
       "Well said"
      ],
      "text/plain": [
       "<IPython.core.display.Markdown object>"
      ]
     },
     "metadata": {},
     "output_type": "display_data"
    },
    {
     "data": {
      "text/markdown": [
       "-----"
      ],
      "text/plain": [
       "<IPython.core.display.Markdown object>"
      ]
     },
     "metadata": {},
     "output_type": "display_data"
    },
    {
     "data": {
      "text/markdown": [
       "I’ve never dived for cover so fast and then **caught another arrow to the face from some other direction entirely**<sup>danger; intensity</sup>.  **That place nearly gave me ptsd**<sup>impact; fear</sup>.  **The fear when I had to go back to that zone in NG+ was real**<sup>fear; intensity</sup>."
      ],
      "text/plain": [
       "<IPython.core.display.Markdown object>"
      ]
     },
     "metadata": {},
     "output_type": "display_data"
    },
    {
     "data": {
      "text/markdown": [
       "-----"
      ],
      "text/plain": [
       "<IPython.core.display.Markdown object>"
      ]
     },
     "metadata": {},
     "output_type": "display_data"
    },
    {
     "data": {
      "text/markdown": [
       "\"Oh **I'm not supposed to be here yet**\" <sup>surprise</sup>"
      ],
      "text/plain": [
       "<IPython.core.display.Markdown object>"
      ]
     },
     "metadata": {},
     "output_type": "display_data"
    },
    {
     "data": {
      "text/markdown": [
       "-----"
      ],
      "text/plain": [
       "<IPython.core.display.Markdown object>"
      ]
     },
     "metadata": {},
     "output_type": "display_data"
    },
    {
     "data": {
      "text/markdown": [
       "\"But hell, I'm not turning back\". **Oh, yeah.**<sup>determination; perseverance</sup>"
      ],
      "text/plain": [
       "<IPython.core.display.Markdown object>"
      ]
     },
     "metadata": {},
     "output_type": "display_data"
    },
    {
     "data": {
      "text/markdown": [
       "-----"
      ],
      "text/plain": [
       "<IPython.core.display.Markdown object>"
      ]
     },
     "metadata": {},
     "output_type": "display_data"
    },
    {
     "data": {
      "text/markdown": [
       "I think I said out loud “**oh shits it’s a Blackreach**”<sup>surprise; excitement</sup>"
      ],
      "text/plain": [
       "<IPython.core.display.Markdown object>"
      ]
     },
     "metadata": {},
     "output_type": "display_data"
    },
    {
     "data": {
      "text/markdown": [
       "-----"
      ],
      "text/plain": [
       "<IPython.core.display.Markdown object>"
      ]
     },
     "metadata": {},
     "output_type": "display_data"
    },
    {
     "data": {
      "text/markdown": [
       "Exactly what I thought when I went down there."
      ],
      "text/plain": [
       "<IPython.core.display.Markdown object>"
      ]
     },
     "metadata": {},
     "output_type": "display_data"
    },
    {
     "data": {
      "text/markdown": [
       "-----"
      ],
      "text/plain": [
       "<IPython.core.display.Markdown object>"
      ]
     },
     "metadata": {},
     "output_type": "display_data"
    },
    {
     "data": {
      "text/markdown": [
       "Likewise."
      ],
      "text/plain": [
       "<IPython.core.display.Markdown object>"
      ]
     },
     "metadata": {},
     "output_type": "display_data"
    },
    {
     "data": {
      "text/markdown": [
       "-----"
      ],
      "text/plain": [
       "<IPython.core.display.Markdown object>"
      ]
     },
     "metadata": {},
     "output_type": "display_data"
    },
    {
     "data": {
      "text/markdown": [
       "Fourthed. Until I went back there at a much higher level and **nothing could really hurt me. Kind of dispelled the earlier mythos I had in my mind which was a bit sad.**<sup>empowerment; nostalgia</sup>"
      ],
      "text/plain": [
       "<IPython.core.display.Markdown object>"
      ]
     },
     "metadata": {},
     "output_type": "display_data"
    },
    {
     "data": {
      "text/markdown": [
       "-----"
      ],
      "text/plain": [
       "<IPython.core.display.Markdown object>"
      ]
     },
     "metadata": {},
     "output_type": "display_data"
    },
    {
     "data": {
      "text/markdown": [
       "Underrated comment"
      ],
      "text/plain": [
       "<IPython.core.display.Markdown object>"
      ]
     },
     "metadata": {},
     "output_type": "display_data"
    },
    {
     "data": {
      "text/markdown": [
       "-----"
      ],
      "text/plain": [
       "<IPython.core.display.Markdown object>"
      ]
     },
     "metadata": {},
     "output_type": "display_data"
    },
    {
     "data": {
      "text/markdown": [
       "Except **no annoyingly whiny red plants or vomiting armored cockroaches**<sup>enjoyment; frustration</sup>."
      ],
      "text/plain": [
       "<IPython.core.display.Markdown object>"
      ]
     },
     "metadata": {},
     "output_type": "display_data"
    },
    {
     "data": {
      "text/markdown": [
       "-----"
      ],
      "text/plain": [
       "<IPython.core.display.Markdown object>"
      ]
     },
     "metadata": {},
     "output_type": "display_data"
    },
    {
     "data": {
      "text/markdown": [
       "This is one of my favoirites as well. **I felt I found something I was not suposed to find this early in the game.**<sup>surprise</sup> And it was great, despite the **deadly arrows**<sup>danger</sup>."
      ],
      "text/plain": [
       "<IPython.core.display.Markdown object>"
      ]
     },
     "metadata": {},
     "output_type": "display_data"
    },
    {
     "data": {
      "text/markdown": [
       "-----"
      ],
      "text/plain": [
       "<IPython.core.display.Markdown object>"
      ]
     },
     "metadata": {},
     "output_type": "display_data"
    },
    {
     "data": {
      "text/markdown": [
       "Yeah, **thats been the biggest deal for me too thus far**<sup>intensity; frustration</sup> and **those snipers were absurd**<sup>frustration; danger</sup>."
      ],
      "text/plain": [
       "<IPython.core.display.Markdown object>"
      ]
     },
     "metadata": {},
     "output_type": "display_data"
    },
    {
     "data": {
      "text/markdown": [
       "-----"
      ],
      "text/plain": [
       "<IPython.core.display.Markdown object>"
      ]
     },
     "metadata": {},
     "output_type": "display_data"
    },
    {
     "data": {
      "text/markdown": [
       "I lost my shit. \n",
       "\n",
       "\"Oh whats this little house\"\n",
       "\n",
       "\"Oh cool a lift\"\n",
       "\n",
       "**\"whaaaaaaaaaaaaatt\"**<sup>surprise; excitement</sup>"
      ],
      "text/plain": [
       "<IPython.core.display.Markdown object>"
      ]
     },
     "metadata": {},
     "output_type": "display_data"
    },
    {
     "data": {
      "text/markdown": [
       "-----"
      ],
      "text/plain": [
       "<IPython.core.display.Markdown object>"
      ]
     },
     "metadata": {},
     "output_type": "display_data"
    },
    {
     "data": {
      "text/markdown": [
       "“Huh, this elevator is taking a *whiiiiiiile*” **<sup>anticipation; impatience</sup>**"
      ],
      "text/plain": [
       "<IPython.core.display.Markdown object>"
      ]
     },
     "metadata": {},
     "output_type": "display_data"
    },
    {
     "data": {
      "text/markdown": [
       "-----"
      ],
      "text/plain": [
       "<IPython.core.display.Markdown object>"
      ]
     },
     "metadata": {},
     "output_type": "display_data"
    },
    {
     "data": {
      "text/markdown": [
       "Whenever I used that elevator, **I would get up, grab some water, and when I came back, the elevator was still going.**<sup>anticipation; waiting</sup>"
      ],
      "text/plain": [
       "<IPython.core.display.Markdown object>"
      ]
     },
     "metadata": {},
     "output_type": "display_data"
    },
    {
     "data": {
      "text/markdown": [
       "-----"
      ],
      "text/plain": [
       "<IPython.core.display.Markdown object>"
      ]
     },
     "metadata": {},
     "output_type": "display_data"
    },
    {
     "data": {
      "text/markdown": [
       "Agreed, also **the map expanding slowly, every new area was like “wtf there’s more”**<sup>scale; surprise; excitement</sup>"
      ],
      "text/plain": [
       "<IPython.core.display.Markdown object>"
      ]
     },
     "metadata": {},
     "output_type": "display_data"
    },
    {
     "data": {
      "text/markdown": [
       "-----"
      ],
      "text/plain": [
       "<IPython.core.display.Markdown object>"
      ]
     },
     "metadata": {},
     "output_type": "display_data"
    },
    {
     "data": {
      "text/markdown": [
       "i felt like for a while, **whenever we get a new playable area, the map does it in a way to make me feel like the map just doubled its size.**<sup>scale; enjoyment</sup>"
      ],
      "text/plain": [
       "<IPython.core.display.Markdown object>"
      ]
     },
     "metadata": {},
     "output_type": "display_data"
    },
    {
     "data": {
      "text/markdown": [
       "-----"
      ],
      "text/plain": [
       "<IPython.core.display.Markdown object>"
      ]
     },
     "metadata": {},
     "output_type": "display_data"
    },
    {
     "data": {
      "text/markdown": [
       "I knew going into the game that it was gonna be pretty, but **seeing the vast expanse of Siofra River as I descended the elevator made my jaw hit the fucking floor.**<sup>awe; impact</sup> **Easily the most beautiful area in the game.**<sup>beauty; impact</sup>"
      ],
      "text/plain": [
       "<IPython.core.display.Markdown object>"
      ]
     },
     "metadata": {},
     "output_type": "display_data"
    },
    {
     "data": {
      "text/markdown": [
       "-----"
      ],
      "text/plain": [
       "<IPython.core.display.Markdown object>"
      ]
     },
     "metadata": {},
     "output_type": "display_data"
    },
    {
     "data": {
      "text/markdown": [
       "Oh yeah, going down the Siofra River Well was easily my favorite moment of the game. Followed by getting the map for the underground and **realizing there was going to be a whole lot more of it**<sup>realization; discovery; exploration</sup>."
      ],
      "text/plain": [
       "<IPython.core.display.Markdown object>"
      ]
     },
     "metadata": {},
     "output_type": "display_data"
    },
    {
     "data": {
      "text/markdown": [
       "-----"
      ],
      "text/plain": [
       "<IPython.core.display.Markdown object>"
      ]
     },
     "metadata": {},
     "output_type": "display_data"
    },
    {
     "data": {
      "text/markdown": [
       "Ooooh that was a **jaw dropping moment for me!!**<sup>awe</sup> I was expecting a small underground dungeon, and then **my eyes beheld this wide expanse. A whole region unto itself.**<sup>surprise; awe</sup> **Incredible game design**<sup>impact</sup>."
      ],
      "text/plain": [
       "<IPython.core.display.Markdown object>"
      ]
     },
     "metadata": {},
     "output_type": "display_data"
    },
    {
     "data": {
      "text/markdown": [
       "-----"
      ],
      "text/plain": [
       "<IPython.core.display.Markdown object>"
      ]
     },
     "metadata": {},
     "output_type": "display_data"
    },
    {
     "data": {
      "text/markdown": [
       "This was easily one of the most memorable moments in the game for me. **I got on the elevator and started to read an item description. The elevator was still going when I finished reading and I thought \"damn, this is a long elevator\" and the longer it took the more excited I got.**<sup>anticipation; excitement</sup> **Siofra River did not disappoint. That was also when I realized the world was gonna be way bigger than I expected and I had no idea how big it was.**<sup>realization; exploration</sup>"
      ],
      "text/plain": [
       "<IPython.core.display.Markdown object>"
      ]
     },
     "metadata": {},
     "output_type": "display_data"
    },
    {
     "data": {
      "text/markdown": [
       "-----"
      ],
      "text/plain": [
       "<IPython.core.display.Markdown object>"
      ]
     },
     "metadata": {},
     "output_type": "display_data"
    },
    {
     "data": {
      "text/markdown": [
       "Everything is so well timed. **Takes \\*just\\* long enough that you get anxious and start to see things**<sup>timing; anxiety</sup>"
      ],
      "text/plain": [
       "<IPython.core.display.Markdown object>"
      ]
     },
     "metadata": {},
     "output_type": "display_data"
    },
    {
     "data": {
      "text/markdown": [
       "-----"
      ],
      "text/plain": [
       "<IPython.core.display.Markdown object>"
      ]
     },
     "metadata": {},
     "output_type": "display_data"
    },
    {
     "data": {
      "text/markdown": [
       "Came here to say this. **I don’t usually gasp audibly alone in my guest room at 4am, but when I do, it’s because I saw Nokron for the first time.**<sup>anticipation; awe</sup> **Never before have I seen something so breathtakingly beautiful in a video game.**<sup>beauty; impact</sup>"
      ],
      "text/plain": [
       "<IPython.core.display.Markdown object>"
      ]
     },
     "metadata": {},
     "output_type": "display_data"
    },
    {
     "data": {
      "text/markdown": [
       "-----"
      ],
      "text/plain": [
       "<IPython.core.display.Markdown object>"
      ]
     },
     "metadata": {},
     "output_type": "display_data"
    },
    {
     "data": {
      "text/markdown": [
       "This 100%. **I jaw hit the floor when the cavern opened. I was NOT ready for that!**<sup>awe; surprise</sup>"
      ],
      "text/plain": [
       "<IPython.core.display.Markdown object>"
      ]
     },
     "metadata": {},
     "output_type": "display_data"
    },
    {
     "data": {
      "text/markdown": [
       "-----"
      ],
      "text/plain": [
       "<IPython.core.display.Markdown object>"
      ]
     },
     "metadata": {},
     "output_type": "display_data"
    },
    {
     "data": {
      "text/markdown": [
       "I felt so dumb. I went to that forest, even right to the minor erdtree following the path from the church, and completely missed it. I went through a lot of Caelid before my friend told me I missed it. **I feel like I got a lot of other “wow” moments before I got to that one, so I didn’t get the surprise of scale as much.**<sup>surprise; disappointment</sup>"
      ],
      "text/plain": [
       "<IPython.core.display.Markdown object>"
      ]
     },
     "metadata": {},
     "output_type": "display_data"
    },
    {
     "data": {
      "text/markdown": [
       "-----"
      ],
      "text/plain": [
       "<IPython.core.display.Markdown object>"
      ]
     },
     "metadata": {},
     "output_type": "display_data"
    },
    {
     "data": {
      "text/markdown": [
       "Same! I came here to say this. **The first time going into Nokron was one of the coolest experiences I’ve had as a gamer.**<sup>enjoyment; impact</sup>"
      ],
      "text/plain": [
       "<IPython.core.display.Markdown object>"
      ]
     },
     "metadata": {},
     "output_type": "display_data"
    },
    {
     "data": {
      "text/markdown": [
       "-----"
      ],
      "text/plain": [
       "<IPython.core.display.Markdown object>"
      ]
     },
     "metadata": {},
     "output_type": "display_data"
    },
    {
     "data": {
      "text/markdown": [
       "This is honestly **one of the best location reveals for me in any game.**<sup>impact; surprise</sup> Same for the capital."
      ],
      "text/plain": [
       "<IPython.core.display.Markdown object>"
      ]
     },
     "metadata": {},
     "output_type": "display_data"
    },
    {
     "data": {
      "text/markdown": [
       "-----"
      ],
      "text/plain": [
       "<IPython.core.display.Markdown object>"
      ]
     },
     "metadata": {},
     "output_type": "display_data"
    },
    {
     "data": {
      "text/markdown": [
       "“Oh Fuck, this game is even bigger than I thought”<sup>surprise</sup> and then “Oh FUCK I do no damage to these things”<sup>frustration</sup>"
      ],
      "text/plain": [
       "<IPython.core.display.Markdown object>"
      ]
     },
     "metadata": {},
     "output_type": "display_data"
    },
    {
     "data": {
      "text/markdown": [
       "-----"
      ],
      "text/plain": [
       "<IPython.core.display.Markdown object>"
      ]
     },
     "metadata": {},
     "output_type": "display_data"
    },
    {
     "data": {
      "text/markdown": [
       "This. **It was 4 am and I'd been playing for 10 hours straight no breaks except to eat and use the restroom and even eating I would do at my PC (I was excited okay)**<sup>intensity; excitement</sup> **and I remember stumbling across this and my mouth just. Dropped. I was so in awe**<sup>awe</sup> **I just sat at my desk for 5 minutes before even going back to the game. I told myself I'm getting too excited and this game is too good and I'm too delirious to say this but Elden Ring is the best game I've ever played.**<sup>realization; enjoyment</sup> **I told myself to save that opinion for the morning when I have some rest and can think clearly. The opinion stayed**<sup>determination</sup>."
      ],
      "text/plain": [
       "<IPython.core.display.Markdown object>"
      ]
     },
     "metadata": {},
     "output_type": "display_data"
    },
    {
     "data": {
      "text/markdown": [
       "-----"
      ],
      "text/plain": [
       "<IPython.core.display.Markdown object>"
      ]
     },
     "metadata": {},
     "output_type": "display_data"
    },
    {
     "data": {
      "text/markdown": [
       "I agree, **reminded me of the underground eco system on Skyrim where the snow elves recluses to**<sup>nostalgia; connection</sup>."
      ],
      "text/plain": [
       "<IPython.core.display.Markdown object>"
      ]
     },
     "metadata": {},
     "output_type": "display_data"
    },
    {
     "data": {
      "text/markdown": [
       "-----"
      ],
      "text/plain": [
       "<IPython.core.display.Markdown object>"
      ]
     },
     "metadata": {},
     "output_type": "display_data"
    },
    {
     "data": {
      "text/markdown": [
       "Siofra river reveal is definitely my fave too, **just due to the absolute sheer scale of exploration being laid bare before me as if to accent I still had much more to explore than I thought in the world.**<sup>awe; exploration; scale</sup>"
      ],
      "text/plain": [
       "<IPython.core.display.Markdown object>"
      ]
     },
     "metadata": {},
     "output_type": "display_data"
    },
    {
     "data": {
      "text/markdown": [
       "-----"
      ],
      "text/plain": [
       "<IPython.core.display.Markdown object>"
      ]
     },
     "metadata": {},
     "output_type": "display_data"
    },
    {
     "data": {
      "text/markdown": [
       "That one got me too.  **I just figured upon the elevator in the woods and decided to take it down, because I was getting hunted by a bunch of bears.**<sup>exploration; surprise</sup>  **I was pretty shocked - it's not what I expected to find down there.**<sup>surprise; impact</sup>  **Maybe a dungeon or something.**<sup>anticipation</sup>  **I had remained pretty spoiler free, so I wasn't even aware of the existence of Ansel and Siofra rivers, let alone the fact that they'd be these massive underground areas that there's a special button for on your map.**<sup>discovery; scale</sup>"
      ],
      "text/plain": [
       "<IPython.core.display.Markdown object>"
      ]
     },
     "metadata": {},
     "output_type": "display_data"
    },
    {
     "data": {
      "text/markdown": [
       "-----"
      ],
      "text/plain": [
       "<IPython.core.display.Markdown object>"
      ]
     },
     "metadata": {},
     "output_type": "display_data"
    },
    {
     "data": {
      "text/markdown": [
       "Yeah me it was the first elevator down to Sofia River… **I had no idea what to expect and then bam… that view of that huge purple expanse.**<sup>surprise; awe</sup> **That’s when I realized this game was much larger and more diverse than I had ever imagined**<sup>realization; awe</sup>."
      ],
      "text/plain": [
       "<IPython.core.display.Markdown object>"
      ]
     },
     "metadata": {},
     "output_type": "display_data"
    },
    {
     "data": {
      "text/markdown": [
       "-----"
      ],
      "text/plain": [
       "<IPython.core.display.Markdown object>"
      ]
     },
     "metadata": {},
     "output_type": "display_data"
    },
    {
     "data": {
      "text/markdown": [
       "First time I went down the elevator I was **baffled by all its majesty**<sup>awe</sup>. I got to the ground floor, made my way to the first group of Clay men, took one swing at them with my bloodhound fang that dealt very little damage and **nope'd the hell on outta there**<sup>fear; intensity</sup>."
      ],
      "text/plain": [
       "<IPython.core.display.Markdown object>"
      ]
     },
     "metadata": {},
     "output_type": "display_data"
    },
    {
     "data": {
      "text/markdown": [
       "-----"
      ],
      "text/plain": [
       "<IPython.core.display.Markdown object>"
      ]
     },
     "metadata": {},
     "output_type": "display_data"
    },
    {
     "data": {
      "text/markdown": [
       "Sioftra river you mean? **Nokron was accessible after you killed Radhan you hopped down the floating boulders. But I know what you mean. Had same feeling**<sup>connection; determination</sup>"
      ],
      "text/plain": [
       "<IPython.core.display.Markdown object>"
      ]
     },
     "metadata": {},
     "output_type": "display_data"
    },
    {
     "data": {
      "text/markdown": [
       "-----"
      ],
      "text/plain": [
       "<IPython.core.display.Markdown object>"
      ]
     },
     "metadata": {},
     "output_type": "display_data"
    },
    {
     "data": {
      "text/markdown": [
       "Dude i was **shitting my pants down that lift to Nokron.**<sup>fear</sup> **I clearly remember just saying “holy fuuuuck” and taking it all in.**<sup>awe</sup>"
      ],
      "text/plain": [
       "<IPython.core.display.Markdown object>"
      ]
     },
     "metadata": {},
     "output_type": "display_data"
    },
    {
     "data": {
      "text/markdown": [
       "-----"
      ],
      "text/plain": [
       "<IPython.core.display.Markdown object>"
      ]
     },
     "metadata": {},
     "output_type": "display_data"
    },
    {
     "data": {
      "text/markdown": [
       "I never had the cartoon ‘jaw-drop’ until that moment. **I was alone in my room almost drooling because of the beautiful world opening up to me!**<sup>awe; beauty</sup>"
      ],
      "text/plain": [
       "<IPython.core.display.Markdown object>"
      ]
     },
     "metadata": {},
     "output_type": "display_data"
    },
    {
     "data": {
      "text/markdown": [
       "-----"
      ],
      "text/plain": [
       "<IPython.core.display.Markdown object>"
      ]
     },
     "metadata": {},
     "output_type": "display_data"
    },
    {
     "data": {
      "text/markdown": [
       ">\tThe first time I went down the elevator to Nokron honestly. \n",
       "\n",
       "**The moment I saw that elevator my first thought was “I’m going to end up in Blackreach.”**<sup>anticipation; fear</sup>"
      ],
      "text/plain": [
       "<IPython.core.display.Markdown object>"
      ]
     },
     "metadata": {},
     "output_type": "display_data"
    },
    {
     "data": {
      "text/markdown": [
       "-----"
      ],
      "text/plain": [
       "<IPython.core.display.Markdown object>"
      ]
     },
     "metadata": {},
     "output_type": "display_data"
    },
    {
     "data": {
      "text/markdown": [
       "Yes! **Felt like I was traveling for ages!**<sup>anticipation; intensity</sup> **Kept telling my friends about that experience. It was my first underground area and it was just so jaw dropping**<sup>awe; excitement</sup>"
      ],
      "text/plain": [
       "<IPython.core.display.Markdown object>"
      ]
     },
     "metadata": {},
     "output_type": "display_data"
    },
    {
     "data": {
      "text/markdown": [
       "-----"
      ],
      "text/plain": [
       "<IPython.core.display.Markdown object>"
      ]
     },
     "metadata": {},
     "output_type": "display_data"
    },
    {
     "data": {
      "text/markdown": [
       "Yeah, this is hands down **one of my top soulsborneringiro moments!**<sup>connection; enjoyment</sup>"
      ],
      "text/plain": [
       "<IPython.core.display.Markdown object>"
      ]
     },
     "metadata": {},
     "output_type": "display_data"
    },
    {
     "data": {
      "text/markdown": [
       "-----"
      ],
      "text/plain": [
       "<IPython.core.display.Markdown object>"
      ]
     },
     "metadata": {},
     "output_type": "display_data"
    },
    {
     "data": {
      "text/markdown": [
       "Graceless Tarnished. \n",
       "\n",
       "What is thy business with these thrones?\n",
       "\n",
       "Ahhhh….\n",
       "\n",
       "**Godrick the Golden.**<sup>impact</sup> \n",
       "\n",
       "**The twin prodigies, Miquella and Malenia.**<sup>impact</sup> \n",
       "\n",
       "**General Radahn.**<sup>impact</sup> *Praetor Rykard.* **Lunar princess Ranni.**<sup>impact</sup> \n",
       "\n",
       "**Willful traitors, all!**<sup>impact</sup> \n",
       "\n",
       "Thy kind are all of a piece. Pillagers, emboldened by the flame of ambition!\n",
       "\n",
       "**Have it writ upon thy meagre grave. Felled, by King Morgott! Last of all kings.**<sup>impact; intensity</sup>"
      ],
      "text/plain": [
       "<IPython.core.display.Markdown object>"
      ]
     },
     "metadata": {},
     "output_type": "display_data"
    },
    {
     "data": {
      "text/markdown": [
       "-----"
      ],
      "text/plain": [
       "<IPython.core.display.Markdown object>"
      ]
     },
     "metadata": {},
     "output_type": "display_data"
    },
    {
     "data": {
      "text/markdown": [
       "Best dialogue in the game"
      ],
      "text/plain": [
       "<IPython.core.display.Markdown object>"
      ]
     },
     "metadata": {},
     "output_type": "display_data"
    },
    {
     "data": {
      "text/markdown": [
       "-----"
      ],
      "text/plain": [
       "<IPython.core.display.Markdown object>"
      ]
     },
     "metadata": {},
     "output_type": "display_data"
    },
    {
     "data": {
      "text/markdown": [
       "Agreed. **Morgott is gonna live rent free in my head forever.**<sup>connection; impact</sup>"
      ],
      "text/plain": [
       "<IPython.core.display.Markdown object>"
      ]
     },
     "metadata": {},
     "output_type": "display_data"
    },
    {
     "data": {
      "text/markdown": [
       "-----"
      ],
      "text/plain": [
       "<IPython.core.display.Markdown object>"
      ]
     },
     "metadata": {},
     "output_type": "display_data"
    },
    {
     "data": {
      "text/markdown": [
       "The Golden Order did not deserve **Morgott**<sup>connection; disappointment</sup>."
      ],
      "text/plain": [
       "<IPython.core.display.Markdown object>"
      ]
     },
     "metadata": {},
     "output_type": "display_data"
    },
    {
     "data": {
      "text/markdown": [
       "-----"
      ],
      "text/plain": [
       "<IPython.core.display.Markdown object>"
      ]
     },
     "metadata": {},
     "output_type": "display_data"
    },
    {
     "data": {
      "text/markdown": [
       "\"**What is the business with these thrones?**\" <sup>connection</sup>\n",
       "\n",
       "\"**Dad, we're just playing musical chairs**\" <sup>humor</sup>\n",
       "\n",
       "\"**Willful traitors, all! Thy kind are all of a piece. Pillagers, emboldened by the flame of ambition! Have it writ upon thy meagre grave. Felled, by King Chairgott! Last of all kings.**\" <sup>connection; humor</sup>\n",
       "\n",
       "\"**Not again..**\" <sup>frustration</sup>"
      ],
      "text/plain": [
       "<IPython.core.display.Markdown object>"
      ]
     },
     "metadata": {},
     "output_type": "display_data"
    },
    {
     "data": {
      "text/markdown": [
       "-----"
      ],
      "text/plain": [
       "<IPython.core.display.Markdown object>"
      ]
     },
     "metadata": {},
     "output_type": "display_data"
    },
    {
     "data": {
      "text/markdown": [
       "I'll raise you a **NOW WE CAN DEVOUR THE GODS TOGETHA!**<sup>excitement; connection</sup>"
      ],
      "text/plain": [
       "<IPython.core.display.Markdown object>"
      ]
     },
     "metadata": {},
     "output_type": "display_data"
    },
    {
     "data": {
      "text/markdown": [
       "-----"
      ],
      "text/plain": [
       "<IPython.core.display.Markdown object>"
      ]
     },
     "metadata": {},
     "output_type": "display_data"
    },
    {
     "data": {
      "text/markdown": [
       "Idk **ryards is pretty up there**<sup>impact</sup>"
      ],
      "text/plain": [
       "<IPython.core.display.Markdown object>"
      ]
     },
     "metadata": {},
     "output_type": "display_data"
    },
    {
     "data": {
      "text/markdown": [
       "-----"
      ],
      "text/plain": [
       "<IPython.core.display.Markdown object>"
      ]
     },
     "metadata": {},
     "output_type": "display_data"
    },
    {
     "data": {
      "text/markdown": [
       "I think you mean **\"Thank you very much. Mum was always the only one who said I was beautiful. And now, my dear lord let me hear her voice. Please, if I may dream, just once... Do you feel the same way my mum did m'lord? Do you think I'm beautiful, despite these looks?\"**<sup>connection; vulnerability</sup>"
      ],
      "text/plain": [
       "<IPython.core.display.Markdown object>"
      ]
     },
     "metadata": {},
     "output_type": "display_data"
    },
    {
     "data": {
      "text/markdown": [
       "-----"
      ],
      "text/plain": [
       "<IPython.core.display.Markdown object>"
      ]
     },
     "metadata": {},
     "output_type": "display_data"
    },
    {
     "data": {
      "text/markdown": [
       "I would have to argue **Morgott is a core memory for me, not because of his character or anything like that but it was my first time doing shrooms and they kicked in right as I entered the boss fight, he walked up to me looking like a clay animation and then promptly destroyed me in a flurry of cartwheels and holy daggers.**<sup>connection; impact; surprise; excitement</sup>"
      ],
      "text/plain": [
       "<IPython.core.display.Markdown object>"
      ]
     },
     "metadata": {},
     "output_type": "display_data"
    },
    {
     "data": {
      "text/markdown": [
       "-----"
      ],
      "text/plain": [
       "<IPython.core.display.Markdown object>"
      ]
     },
     "metadata": {},
     "output_type": "display_data"
    },
    {
     "data": {
      "text/markdown": [
       ">Have it writ upon thy meagre grave. Felled, by King Morgott! Last of all kings.\n",
       "\n",
       "**Savage af**<sup>impact; intensity</sup>"
      ],
      "text/plain": [
       "<IPython.core.display.Markdown object>"
      ]
     },
     "metadata": {},
     "output_type": "display_data"
    },
    {
     "data": {
      "text/markdown": [
       "-----"
      ],
      "text/plain": [
       "<IPython.core.display.Markdown object>"
      ]
     },
     "metadata": {},
     "output_type": "display_data"
    },
    {
     "data": {
      "text/markdown": [
       "Morgott is for sure **my fav Demi god**<sup>connection</sup> **fav demi god fight is Radahn or Rykard though.**<sup>connection; intensity</sup>"
      ],
      "text/plain": [
       "<IPython.core.display.Markdown object>"
      ]
     },
     "metadata": {},
     "output_type": "display_data"
    },
    {
     "data": {
      "text/markdown": [
       "-----"
      ],
      "text/plain": [
       "<IPython.core.display.Markdown object>"
      ]
     },
     "metadata": {},
     "output_type": "display_data"
    },
    {
     "data": {
      "text/markdown": [
       "My fav fight is by far **Malenia or Maliketh (not technically a demigod but still)**<sup>connection; intensity</sup>. **Morgott might be my favorite demigod too. Favorite character overall is obviously Millicent**<sup>connection; enjoyment</sup>."
      ],
      "text/plain": [
       "<IPython.core.display.Markdown object>"
      ]
     },
     "metadata": {},
     "output_type": "display_data"
    },
    {
     "data": {
      "text/markdown": [
       "-----"
      ],
      "text/plain": [
       "<IPython.core.display.Markdown object>"
      ]
     },
     "metadata": {},
     "output_type": "display_data"
    },
    {
     "data": {
      "text/markdown": [
       "love the emphasis on **praetor rykard. morgott added a little something to that one. he has a personal vendetta w rykard**<sup>connection; intensity</sup>"
      ],
      "text/plain": [
       "<IPython.core.display.Markdown object>"
      ]
     },
     "metadata": {},
     "output_type": "display_data"
    },
    {
     "data": {
      "text/markdown": [
       "-----"
      ],
      "text/plain": [
       "<IPython.core.display.Markdown object>"
      ]
     },
     "metadata": {},
     "output_type": "display_data"
    },
    {
     "data": {
      "text/markdown": [
       "Probably because **he and rykard fought the “most appalling battle in the entirety of the shattering”**<sup>intensity; impact</sup>"
      ],
      "text/plain": [
       "<IPython.core.display.Markdown object>"
      ]
     },
     "metadata": {},
     "output_type": "display_data"
    },
    {
     "data": {
      "text/markdown": [
       "-----"
      ],
      "text/plain": [
       "<IPython.core.display.Markdown object>"
      ]
     },
     "metadata": {},
     "output_type": "display_data"
    },
    {
     "data": {
      "text/markdown": [
       "honestly. **mt. gelmir is just completely littered with bodies.**<sup>scale; impact</sup> **it probably smells so fucking terrible lol.**<sup>intensity; humor</sup>"
      ],
      "text/plain": [
       "<IPython.core.display.Markdown object>"
      ]
     },
     "metadata": {},
     "output_type": "display_data"
    },
    {
     "data": {
      "text/markdown": [
       "-----"
      ],
      "text/plain": [
       "<IPython.core.display.Markdown object>"
      ]
     },
     "metadata": {},
     "output_type": "display_data"
    },
    {
     "data": {
      "text/markdown": [
       "Oh yeah. **It’s the only area of the game I genuinely hate too.**<sup>frustration</sup> **Sucks because there’s a ton of content in Mt. Gelmir**<sup>disappointment</sup>."
      ],
      "text/plain": [
       "<IPython.core.display.Markdown object>"
      ]
     },
     "metadata": {},
     "output_type": "display_data"
    },
    {
     "data": {
      "text/markdown": [
       "-----"
      ],
      "text/plain": [
       "<IPython.core.display.Markdown object>"
      ]
     },
     "metadata": {},
     "output_type": "display_data"
    },
    {
     "data": {
      "text/markdown": [
       "If you beat margit that means **you learned how to git gud**<sup>empowerment; determination</sup>. If you beat margott that means **you got gud**<sup>empowerment; determination</sup>."
      ],
      "text/plain": [
       "<IPython.core.display.Markdown object>"
      ]
     },
     "metadata": {},
     "output_type": "display_data"
    },
    {
     "data": {
      "text/markdown": [
       "-----"
      ],
      "text/plain": [
       "<IPython.core.display.Markdown object>"
      ]
     },
     "metadata": {},
     "output_type": "display_data"
    },
    {
     "data": {
      "text/markdown": [
       "Ok, you ***points at Malenia, Ranni, Radahn, Miquella and Godrick***<sup>connection; disappointment</sup> you are traitors, you ***points at Rykard***<sup>disappointment</sup> are even worse, but you ***points at Mohg***<sup>connection</sup> you are fine."
      ],
      "text/plain": [
       "<IPython.core.display.Markdown object>"
      ]
     },
     "metadata": {},
     "output_type": "display_data"
    },
    {
     "data": {
      "text/markdown": [
       "-----"
      ],
      "text/plain": [
       "<IPython.core.display.Markdown object>"
      ]
     },
     "metadata": {},
     "output_type": "display_data"
    },
    {
     "data": {
      "text/markdown": [
       "When my friend and I **beat the Elden Beast together**<sup>achievement</sup>. We stood back to back with the lean against wall pose and he said “$120 well spent” **cuz he bought me the game when I couldn’t afford it**<sup>gratitude; connection</sup>. **Truly an Elden Lord**<sup>empowerment</sup>."
      ],
      "text/plain": [
       "<IPython.core.display.Markdown object>"
      ]
     },
     "metadata": {},
     "output_type": "display_data"
    },
    {
     "data": {
      "text/markdown": [
       "-----"
      ],
      "text/plain": [
       "<IPython.core.display.Markdown object>"
      ]
     },
     "metadata": {},
     "output_type": "display_data"
    },
    {
     "data": {
      "text/markdown": [
       "Not only is this an awesome memory, but **you have yourself one helluva friend.**<sup>gratitude; connection</sup> Cheers to them!"
      ],
      "text/plain": [
       "<IPython.core.display.Markdown object>"
      ]
     },
     "metadata": {},
     "output_type": "display_data"
    },
    {
     "data": {
      "text/markdown": [
       "-----"
      ],
      "text/plain": [
       "<IPython.core.display.Markdown object>"
      ]
     },
     "metadata": {},
     "output_type": "display_data"
    },
    {
     "data": {
      "text/markdown": [
       "He was the one who got me into FromSoft in the first place. **I came over and he let me play DS3.**<sup>connection</sup> **I remember when I asked for help on Gundyr and he just kind of knowingly smiled and said “nah, you gotta do it yourself”**<sup>empowerment; determination</sup>"
      ],
      "text/plain": [
       "<IPython.core.display.Markdown object>"
      ]
     },
     "metadata": {},
     "output_type": "display_data"
    },
    {
     "data": {
      "text/markdown": [
       "-----"
      ],
      "text/plain": [
       "<IPython.core.display.Markdown object>"
      ]
     },
     "metadata": {},
     "output_type": "display_data"
    },
    {
     "data": {
      "text/markdown": [
       ">**“nah, you gotta do it yourself”**<sup>determination; empowerment</sup>\n",
       "\n",
       "He an OG, triple OG, dark souls vet fan."
      ],
      "text/plain": [
       "<IPython.core.display.Markdown object>"
      ]
     },
     "metadata": {},
     "output_type": "display_data"
    },
    {
     "data": {
      "text/markdown": [
       "-----"
      ],
      "text/plain": [
       "<IPython.core.display.Markdown object>"
      ]
     },
     "metadata": {},
     "output_type": "display_data"
    },
    {
     "data": {
      "text/markdown": [
       "Exactly. **He knew that I had to do it alone, otherwise I’d never succeed further into the game**<sup>perseverance; realization</sup>"
      ],
      "text/plain": [
       "<IPython.core.display.Markdown object>"
      ]
     },
     "metadata": {},
     "output_type": "display_data"
    },
    {
     "data": {
      "text/markdown": [
       "-----"
      ],
      "text/plain": [
       "<IPython.core.display.Markdown object>"
      ]
     },
     "metadata": {},
     "output_type": "display_data"
    },
    {
     "data": {
      "text/markdown": [
       "My mom struggles to learn this lesson. **My dad keeps bailing her out, lol**<sup>connection</sup>"
      ],
      "text/plain": [
       "<IPython.core.display.Markdown object>"
      ]
     },
     "metadata": {},
     "output_type": "display_data"
    },
    {
     "data": {
      "text/markdown": [
       "-----"
      ],
      "text/plain": [
       "<IPython.core.display.Markdown object>"
      ]
     },
     "metadata": {},
     "output_type": "display_data"
    },
    {
     "data": {
      "text/markdown": [
       "He needs to let her suffer, **it’s part of the experience**<sup>vulnerability; empowerment</sup>"
      ],
      "text/plain": [
       "<IPython.core.display.Markdown object>"
      ]
     },
     "metadata": {},
     "output_type": "display_data"
    },
    {
     "data": {
      "text/markdown": [
       "-----"
      ],
      "text/plain": [
       "<IPython.core.display.Markdown object>"
      ]
     },
     "metadata": {},
     "output_type": "display_data"
    },
    {
     "data": {
      "text/markdown": [
       "That fight unfortunately **filtered my wife out**<sup>frustration</sup>. She's an Animal Crossing, JRPG, strategy gamer. I wanted her to experience the rest of the game, so I offered to beat him for her and she declined every time. She tried many, many, *MANY* times to beat him but was unable. I tried to teach her how to block and dodge but it was just something of which she couldn't get the hang.\n",
       "\n",
       "She stopped and said, **\"I'm just gonna pretend my guy isn't the main character\"**<sup>resignation; identity</sup> and hasn't attempted since."
      ],
      "text/plain": [
       "<IPython.core.display.Markdown object>"
      ]
     },
     "metadata": {},
     "output_type": "display_data"
    },
    {
     "data": {
      "text/markdown": [
       "-----"
      ],
      "text/plain": [
       "<IPython.core.display.Markdown object>"
      ]
     },
     "metadata": {},
     "output_type": "display_data"
    },
    {
     "data": {
      "text/markdown": [
       "That's kinda depressing ngl. **You should beat the game on her account for her and let her take the final hit at the end.**<sup>empowerment</sup> **Send her out with a bang, ya know?**<sup>anticipation; connection</sup>"
      ],
      "text/plain": [
       "<IPython.core.display.Markdown object>"
      ]
     },
     "metadata": {},
     "output_type": "display_data"
    },
    {
     "data": {
      "text/markdown": [
       "-----"
      ],
      "text/plain": [
       "<IPython.core.display.Markdown object>"
      ]
     },
     "metadata": {},
     "output_type": "display_data"
    },
    {
     "data": {
      "text/markdown": [
       "That's a surprisingly wholesome way of handling it. **I've seen a lot of people try to take a shit on FromSoft games because *they* couldn't beat the first boss.**<sup>frustration</sup> **But just deciding they must not be the main character sounds like a pretty down to earth way of thinking.**<sup>perspective</sup> **I'm gonna guess she doesn't let herself get stressed out over stuff she can't control in real life?**<sup>realization</sup>"
      ],
      "text/plain": [
       "<IPython.core.display.Markdown object>"
      ]
     },
     "metadata": {},
     "output_type": "display_data"
    },
    {
     "data": {
      "text/markdown": [
       "-----"
      ],
      "text/plain": [
       "<IPython.core.display.Markdown object>"
      ]
     },
     "metadata": {},
     "output_type": "display_data"
    },
    {
     "data": {
      "text/markdown": [
       "Oh man this reminds me of when my little sister first picked up ds3. **It was her first time playing a from game.**<sup>surprise</sup> **It was about twenty minutes in when she also ask for help with gundyr.**<sup>anticipation</sup> I told her to circle around him and be patient. **Her response really surprised me. She said \"no, I know that. I mean when he transforms.\"**<sup>realization; surprise</sup> And I just stared at her completely blankly because **I realized I never really learned phase two.**<sup>realization</sup> I always just threw myself at him till I got lucky. After a while I just go \"do you have fire bombs? He's weak to fire.\" **She proceeded to destroy gundyr.**<sup>achievement; empowerment</sup> **Five hours later she had beaten the abyss watchers on her second try by summoning gotthard.**<sup>achievement; empowerment</sup> **Really made me realize how much easier it is to learn things when you're young.**<sup>realization</sup>"
      ],
      "text/plain": [
       "<IPython.core.display.Markdown object>"
      ]
     },
     "metadata": {},
     "output_type": "display_data"
    },
    {
     "data": {
      "text/markdown": [
       "-----"
      ],
      "text/plain": [
       "<IPython.core.display.Markdown object>"
      ]
     },
     "metadata": {},
     "output_type": "display_data"
    },
    {
     "data": {
      "text/markdown": [
       "My son has watched me play intermittently. **I beat the last two bosses with him watching and it felt like I was a true lord.**<sup>achievement; empowerment</sup> **He was more hyped than me. It was awesome.**<sup>excitement; connection</sup>"
      ],
      "text/plain": [
       "<IPython.core.display.Markdown object>"
      ]
     },
     "metadata": {},
     "output_type": "display_data"
    },
    {
     "data": {
      "text/markdown": [
       "-----"
      ],
      "text/plain": [
       "<IPython.core.display.Markdown object>"
      ]
     },
     "metadata": {},
     "output_type": "display_data"
    },
    {
     "data": {
      "text/markdown": [
       "That's so cute and wholesome, **bonding over videogames is the best!**<sup>connection; enjoyment</sup>"
      ],
      "text/plain": [
       "<IPython.core.display.Markdown object>"
      ]
     },
     "metadata": {},
     "output_type": "display_data"
    },
    {
     "data": {
      "text/markdown": [
       "-----"
      ],
      "text/plain": [
       "<IPython.core.display.Markdown object>"
      ]
     },
     "metadata": {},
     "output_type": "display_data"
    },
    {
     "data": {
      "text/markdown": [
       "Every new years eve, **I'd take the kids out and let them pick a videogame for family game night.**<sup>connection; enjoyment</sup> **People made fun of me for it! Moms don't play videogames, grow up, they're for kids, blah blah blah.**<sup>vulnerability</sup> **We had a BLAST playing all kinds of different games- they're 17-21 now and still ask if we're getting a game to play nye for when they get home.**<sup>nostalgia; connection</sup> **The answer is always \"hell yes!\"**<sup>empowerment; enjoyment</sup>"
      ],
      "text/plain": [
       "<IPython.core.display.Markdown object>"
      ]
     },
     "metadata": {},
     "output_type": "display_data"
    },
    {
     "data": {
      "text/markdown": [
       "-----"
      ],
      "text/plain": [
       "<IPython.core.display.Markdown object>"
      ]
     },
     "metadata": {},
     "output_type": "display_data"
    },
    {
     "data": {
      "text/markdown": [
       "This is a **dope family ritual**<sup>connection; enjoyment</sup>"
      ],
      "text/plain": [
       "<IPython.core.display.Markdown object>"
      ]
     },
     "metadata": {},
     "output_type": "display_data"
    },
    {
     "data": {
      "text/markdown": [
       "-----"
      ],
      "text/plain": [
       "<IPython.core.display.Markdown object>"
      ]
     },
     "metadata": {},
     "output_type": "display_data"
    },
    {
     "data": {
      "text/markdown": [
       "Chad Mom.\n",
       "\n",
       "*Insert picture of comment here*\n",
       "\n",
       "Chad Mom."
      ],
      "text/plain": [
       "<IPython.core.display.Markdown object>"
      ]
     },
     "metadata": {},
     "output_type": "display_data"
    },
    {
     "data": {
      "text/markdown": [
       "-----"
      ],
      "text/plain": [
       "<IPython.core.display.Markdown object>"
      ]
     },
     "metadata": {},
     "output_type": "display_data"
    },
    {
     "data": {
      "text/markdown": [
       "I woke my son up to let him watch me beat the Elden Beast. **He said thanks too.**<sup>gratitude; connection</sup>"
      ],
      "text/plain": [
       "<IPython.core.display.Markdown object>"
      ]
     },
     "metadata": {},
     "output_type": "display_data"
    },
    {
     "data": {
      "text/markdown": [
       "-----"
      ],
      "text/plain": [
       "<IPython.core.display.Markdown object>"
      ]
     },
     "metadata": {},
     "output_type": "display_data"
    },
    {
     "data": {
      "text/markdown": [
       "His generosity **befits a crown.**<sup>gratitude</sup>"
      ],
      "text/plain": [
       "<IPython.core.display.Markdown object>"
      ]
     },
     "metadata": {},
     "output_type": "display_data"
    },
    {
     "data": {
      "text/markdown": [
       "-----"
      ],
      "text/plain": [
       "<IPython.core.display.Markdown object>"
      ]
     },
     "metadata": {},
     "output_type": "display_data"
    },
    {
     "data": {
      "text/markdown": [
       "Get your friend a maiden<sup>humor</sup>."
      ],
      "text/plain": [
       "<IPython.core.display.Markdown object>"
      ]
     },
     "metadata": {},
     "output_type": "display_data"
    },
    {
     "data": {
      "text/markdown": [
       "-----"
      ],
      "text/plain": [
       "<IPython.core.display.Markdown object>"
      ]
     },
     "metadata": {},
     "output_type": "display_data"
    },
    {
     "data": {
      "text/markdown": [
       "**Or be the maiden yourself**<sup>connection; identity</sup>"
      ],
      "text/plain": [
       "<IPython.core.display.Markdown object>"
      ]
     },
     "metadata": {},
     "output_type": "display_data"
    },
    {
     "data": {
      "text/markdown": [
       "-----"
      ],
      "text/plain": [
       "<IPython.core.display.Markdown object>"
      ]
     },
     "metadata": {},
     "output_type": "display_data"
    },
    {
     "data": {
      "text/plain": [
       "<IPython.core.display.Markdown object>"
      ]
     },
     "metadata": {},
     "output_type": "display_data"
    },
    {
     "data": {
      "text/markdown": [
       "-----"
      ],
      "text/plain": [
       "<IPython.core.display.Markdown object>"
      ]
     },
     "metadata": {},
     "output_type": "display_data"
    },
    {
     "data": {
      "text/markdown": [
       "My best-friend and I bought it together back in early March. **We were roommates at the time. Our 12-year friendship ended before either of us beat it a month later.**<sup>connection; vulnerability</sup> **We don’t talk anymore.**<sup>vulnerability</sup> Cheers to you and your friend m8 ❤️ game on 🎮"
      ],
      "text/plain": [
       "<IPython.core.display.Markdown object>"
      ]
     },
     "metadata": {},
     "output_type": "display_data"
    },
    {
     "data": {
      "text/markdown": [
       "-----"
      ],
      "text/plain": [
       "<IPython.core.display.Markdown object>"
      ]
     },
     "metadata": {},
     "output_type": "display_data"
    },
    {
     "data": {
      "text/markdown": [
       "My friends chipped in to get a buddy to play and **twinked him out, well worth, this game is sh much better with the boys**<sup>connection; enjoyment</sup>"
      ],
      "text/plain": [
       "<IPython.core.display.Markdown object>"
      ]
     },
     "metadata": {},
     "output_type": "display_data"
    },
    {
     "data": {
      "text/markdown": [
       "-----"
      ],
      "text/plain": [
       "<IPython.core.display.Markdown object>"
      ]
     },
     "metadata": {},
     "output_type": "display_data"
    },
    {
     "data": {
      "text/markdown": [
       "I’m not gonna lie, **this was heart warming as fuck**<sup>gratitude; enjoyment</sup>"
      ],
      "text/plain": [
       "<IPython.core.display.Markdown object>"
      ]
     },
     "metadata": {},
     "output_type": "display_data"
    },
    {
     "data": {
      "text/markdown": [
       "-----"
      ],
      "text/plain": [
       "<IPython.core.display.Markdown object>"
      ]
     },
     "metadata": {},
     "output_type": "display_data"
    },
    {
     "data": {
      "text/markdown": [
       "Your friend is cool as fuck"
      ],
      "text/plain": [
       "<IPython.core.display.Markdown object>"
      ]
     },
     "metadata": {},
     "output_type": "display_data"
    },
    {
     "data": {
      "text/markdown": [
       "-----"
      ],
      "text/plain": [
       "<IPython.core.display.Markdown object>"
      ]
     },
     "metadata": {},
     "output_type": "display_data"
    },
    {
     "data": {
      "text/markdown": [
       "What a cool guy!"
      ],
      "text/plain": [
       "<IPython.core.display.Markdown object>"
      ]
     },
     "metadata": {},
     "output_type": "display_data"
    },
    {
     "data": {
      "text/markdown": [
       "-----"
      ],
      "text/plain": [
       "<IPython.core.display.Markdown object>"
      ]
     },
     "metadata": {},
     "output_type": "display_data"
    },
    {
     "data": {
      "text/markdown": [
       "Probably **storming radahn with a small army and getting absolute fucking powerbombed in phase 2**<sup>intensity; frustration</sup>"
      ],
      "text/plain": [
       "<IPython.core.display.Markdown object>"
      ]
     },
     "metadata": {},
     "output_type": "display_data"
    },
    {
     "data": {
      "text/markdown": [
       "-----"
      ],
      "text/plain": [
       "<IPython.core.display.Markdown object>"
      ]
     },
     "metadata": {},
     "output_type": "display_data"
    },
    {
     "data": {
      "text/markdown": [
       "**I feel like the community hype when everyone made it to him is also super nostalgic- checking Reddit every few hours to see people talking about the Radahn fight and sharing strategies, some people beating it and posting about it, people making art of the battle, etc.**<sup>nostalgia; connection</sup> **I think it took me 3 days to beat him lol**<sup>achievement</sup>"
      ],
      "text/plain": [
       "<IPython.core.display.Markdown object>"
      ]
     },
     "metadata": {},
     "output_type": "display_data"
    },
    {
     "data": {
      "text/markdown": [
       "-----"
      ],
      "text/plain": [
       "<IPython.core.display.Markdown object>"
      ]
     },
     "metadata": {},
     "output_type": "display_data"
    },
    {
     "data": {
      "text/markdown": [
       "There definitely was a phase lol. \n",
       "\n",
       "**People talking about recommended levels and shit.**<sup>nostalgia; connection</sup> **What a great time if you played on release**<sup>nostalgia</sup>."
      ],
      "text/plain": [
       "<IPython.core.display.Markdown object>"
      ]
     },
     "metadata": {},
     "output_type": "display_data"
    },
    {
     "data": {
      "text/markdown": [
       "-----"
      ],
      "text/plain": [
       "<IPython.core.display.Markdown object>"
      ]
     },
     "metadata": {},
     "output_type": "display_data"
    },
    {
     "data": {
      "text/markdown": [
       "So fricken good lol<sup>excitement</sup>"
      ],
      "text/plain": [
       "<IPython.core.display.Markdown object>"
      ]
     },
     "metadata": {},
     "output_type": "display_data"
    },
    {
     "data": {
      "text/markdown": [
       "-----"
      ],
      "text/plain": [
       "<IPython.core.display.Markdown object>"
      ]
     },
     "metadata": {},
     "output_type": "display_data"
    },
    {
     "data": {
      "text/markdown": [
       "**One of my most memorable moments was on ng+ and wrecking him so hard that he never even got to phase 2 before dying**<sup>achievement; dominance</sup>"
      ],
      "text/plain": [
       "<IPython.core.display.Markdown object>"
      ]
     },
     "metadata": {},
     "output_type": "display_data"
    },
    {
     "data": {
      "text/markdown": [
       "-----"
      ],
      "text/plain": [
       "<IPython.core.display.Markdown object>"
      ]
     },
     "metadata": {},
     "output_type": "display_data"
    },
    {
     "data": {
      "text/markdown": [
       "Yep.  My brother and I took him on blind and **it blew our minds**<sup>excitement</sup>.\n",
       "\n",
       "And **fucking Patches getting summoned in, looking over at the clusterfuck Radahn war going on and going \"Nope.\" and exiting out was the cherry on top**<sup>humor; enjoyment</sup>."
      ],
      "text/plain": [
       "<IPython.core.display.Markdown object>"
      ]
     },
     "metadata": {},
     "output_type": "display_data"
    },
    {
     "data": {
      "text/markdown": [
       "-----"
      ],
      "text/plain": [
       "<IPython.core.display.Markdown object>"
      ]
     },
     "metadata": {},
     "output_type": "display_data"
    },
    {
     "data": {
      "text/markdown": [
       "I kept having trouble getting over to him and **the first time I got him to phase 2, he bugged out and disappeared.**<sup>frustration</sup> **So the next time I made it over to him and he disappeared, I thought he was bugged again.**<sup>frustration</sup> **Then I saw this flaming ball of death barreling toward me out of the sky and nearly pissed myself.**<sup>surprise; fear; intensity</sup>"
      ],
      "text/plain": [
       "<IPython.core.display.Markdown object>"
      ]
     },
     "metadata": {},
     "output_type": "display_data"
    },
    {
     "data": {
      "text/markdown": [
       "-----"
      ],
      "text/plain": [
       "<IPython.core.display.Markdown object>"
      ]
     },
     "metadata": {},
     "output_type": "display_data"
    },
    {
     "data": {
      "text/markdown": [
       "seeing the **smoldering church**<sup>impact; exploration</sup> and **reaching Caelid by foot**<sup>exploration</sup>. At night, before going to bed."
      ],
      "text/plain": [
       "<IPython.core.display.Markdown object>"
      ]
     },
     "metadata": {},
     "output_type": "display_data"
    },
    {
     "data": {
      "text/markdown": [
       "-----"
      ],
      "text/plain": [
       "<IPython.core.display.Markdown object>"
      ]
     },
     "metadata": {},
     "output_type": "display_data"
    }
   ],
   "source": [
    "max_number_of_texts = 100 # @param {type:\"integer\"}\n",
    "\n",
    "# Do inductive coding on all data, capping to max_number_of_texts\n",
    "df_final = df_all.head(max_number_of_texts)\n",
    "coded_texts, code_descriptions = code_inductively(df_final, coding_instructions)\n",
    "\n",
    "def print_coded_texts(coded_texts, sample_n=None):\n",
    "    if sample_n:\n",
    "        coded_texts = random.sample(coded_texts, sample_n)\n",
    "    for coded_text in coded_texts:\n",
    "        display(Markdown(coded_text))\n",
    "        display(Markdown(\"-----\"))\n",
    "\n",
    "print(\"Coding complete, output:\\n\")\n",
    "print_coded_texts(coded_texts)"
   ]
  },
  {
   "cell_type": "markdown",
   "metadata": {
    "id": "as_2KueD3MgA"
   },
   "source": [
    "# Downloading the results"
   ]
  },
  {
   "cell_type": "markdown",
   "metadata": {
    "id": "ylzUeJ6Q3NM2"
   },
   "source": [
    "Run the following code to download the generated codes and code descriptions as .csv files compressed into a single zip file. You may use these files as input to the following notebook on theme generation."
   ]
  },
  {
   "cell_type": "code",
   "execution_count": 24,
   "metadata": {
    "cellView": "form",
    "id": "Bxs7VqLm3hvj"
   },
   "outputs": [
    {
     "ename": "NameError",
     "evalue": "name 'df_input' is not defined",
     "output_type": "error",
     "traceback": [
      "\u001b[0;31m---------------------------------------------------------------------------\u001b[0m",
      "\u001b[0;31mNameError\u001b[0m                                 Traceback (most recent call last)",
      "Cell \u001b[0;32mIn[24], line 9\u001b[0m\n\u001b[1;32m      6\u001b[0m     os\u001b[38;5;241m.\u001b[39mmakedirs(output_dir)\n\u001b[1;32m      8\u001b[0m \u001b[38;5;66;03m# Save raw and coded texts\u001b[39;00m\n\u001b[0;32m----> 9\u001b[0m data \u001b[38;5;241m=\u001b[39m [(t, t_coded) \u001b[38;5;28;01mfor\u001b[39;00m t, t_coded \u001b[38;5;129;01min\u001b[39;00m \u001b[38;5;28mzip\u001b[39m(\u001b[43mdf_input\u001b[49m\u001b[38;5;241m.\u001b[39mtext\u001b[38;5;241m.\u001b[39mtolist(), coded_texts)]\n\u001b[1;32m     10\u001b[0m df_out \u001b[38;5;241m=\u001b[39m pd\u001b[38;5;241m.\u001b[39mDataFrame(data, columns\u001b[38;5;241m=\u001b[39m[\u001b[38;5;124m\"\u001b[39m\u001b[38;5;124mtext\u001b[39m\u001b[38;5;124m\"\u001b[39m, \u001b[38;5;124m\"\u001b[39m\u001b[38;5;124mcoded_text\u001b[39m\u001b[38;5;124m\"\u001b[39m])\n\u001b[1;32m     11\u001b[0m file_path \u001b[38;5;241m=\u001b[39m \u001b[38;5;124m\"\u001b[39m\u001b[38;5;132;01m{}\u001b[39;00m\u001b[38;5;124m/coded_texts.csv\u001b[39m\u001b[38;5;124m\"\u001b[39m\u001b[38;5;241m.\u001b[39mformat(output_dir)\n",
      "\u001b[0;31mNameError\u001b[0m: name 'df_input' is not defined"
     ]
    }
   ],
   "source": [
    "#@title\n",
    "\n",
    "# Create output dir\n",
    "output_dir = \"coding_output\"\n",
    "if not os.path.exists(output_dir):\n",
    "    os.makedirs(output_dir)\n",
    "\n",
    "# Save raw and coded texts\n",
    "data = [(t, t_coded) for t, t_coded in zip(df_.text.tolist(), coded_texts)]\n",
    "df_out = pd.DataFrame(data, columns=[\"text\", \"coded_text\"])\n",
    "file_path = \"{}/coded_texts.csv\".format(output_dir)\n",
    "df_out.to_csv(file_path, index=False)\n",
    "\n",
    "# Save code descriptions\n",
    "data = code_descriptions.items()\n",
    "df_out = pd.DataFrame(data, columns=[\"code\", \"description\"])\n",
    "file_path = f\"{output_dir}/code_descriptions.csv\"\n",
    "df_out.to_csv(file_path, index=False)\n",
    "\n",
    "# Zip directory and save locally\n",
    "zip_file = f\"{output_dir}.zip\"\n",
    "!zip -r {zip_file} {output_dir}\n",
    "\n",
    "if RunningInCOLAB:\n",
    "    # Use Colab's download function\n",
    "    files.download(zip_file)\n",
    "else:\n",
    "    # For local Jupyter notebook, print the path\n",
    "    print(f\"Zip file saved locally: {zip_file}\")"
   ]
  },
  {
   "cell_type": "code",
   "execution_count": null,
   "metadata": {},
   "outputs": [],
   "source": []
  }
 ],
 "metadata": {
  "colab": {
   "provenance": []
  },
  "kernelspec": {
   "display_name": "Python 3 (ipykernel)",
   "language": "python",
   "name": "python3"
  },
  "language_info": {
   "codemirror_mode": {
    "name": "ipython",
    "version": 3
   },
   "file_extension": ".py",
   "mimetype": "text/x-python",
   "name": "python",
   "nbconvert_exporter": "python",
   "pygments_lexer": "ipython3",
   "version": "3.12.6"
  }
 },
 "nbformat": 4,
 "nbformat_minor": 4
}
